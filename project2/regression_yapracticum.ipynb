{
 "cells": [
  {
   "cell_type": "markdown",
   "id": "f54eaf99",
   "metadata": {},
   "source": [
    "# Модель, предсказывающая температуру расплавленного состояния сплава стали"
   ]
  },
  {
   "cell_type": "markdown",
   "id": "865e539c",
   "metadata": {},
   "source": [
    "<b>ОПИСАНИЕ ПРОЕКТА</b>\n",
    "\n",
    "Чтобы <b>оптимизировать</b> производственные расходы, металлургический комбинат ООО «Так закаляем сталь» решил уменьшить потребление электроэнергии на этапе обработки стали.\n",
    "\n",
    "Пути оптимизации:<br>\n",
    "- использование этой модели как части конвейера моделей(результат этой модели будет входными данными для другой)<br>\n",
    "- перегрев стали есть перерасход,модель поможет в организации мероприятий от излишнего нагрева<br>\n",
    "- менее сильные колебания обуспечат более длительный срок службы облицовки ковша<br>\n",
    "\n",
    "<b>Цель:</b> разработать прототип модели машинного обучения c достаточным качеством (MAE <6.8) для предсказания температуры расплавленного состояния сплава стали\n",
    "\n",
    "<b>Описание этапа обработки стали:</b>\n",
    "\n",
    "Сталь обрабатывают в металлическом ковше вместимостью около 100 тонн, облицованном изнутри огнеупорным кирпичом, в крышке установлены графитовые электроды и датчики для измерения химического состава сплава\n",
    "\n",
    "1)Расплавленную сталь заливают в ковш\n",
    "\n",
    "2)Измеряют температуру стали и производят её химический анализ\n",
    "\n",
    "3)Потом температуру на несколько минут повышают с помощью электродов, добавляют легирующие материалы(сыпучие и проволочные добавки) ,продувают сплав инертным газом(перемешивают) и снова проводят измерения. Такой цикл повторяется до достижения целевого химического состава и оптимальной температуры плавки.\n",
    "\n",
    "4)Тогда расплавленная сталь разливается в заготовки - слябы.\n",
    "\n",
    "<b>ОПИСАНИЕ ДАННЫХ</b>\n",
    "\n",
    "Данные состоят из файлов, полученных из разных источников:\n",
    "* data_arc.csv — данные об электродах;\n",
    "* data_bulk.csv — данные о подаче сыпучих материалов (объём);\n",
    "* data_bulk_time.csv — данные о подаче сыпучих материалов (время);\n",
    "* data_gas.csv — данные о продувке сплава газом;\n",
    "* data_temp.csv — результаты измерения температуры;\n",
    "* data_wire.csv — данные о проволочных материалах (объём);\n",
    "* data_wire_time.csv — данные о проволочных материалах (время).\n",
    "\n",
    "Во всех файлах столбец key содержит номер партии. В файлах может быть несколько строк с одинаковым значением key: они соответствуют разным итерациям обработки.\n",
    "\n",
    "Целевой признак находится в таблице `data_temp.csv` - температура розива в слябы. То есть должно быть как минимум 2 замера температуры в партии - начальная(с которой сплав попадает в ковш) и конечная(температура розлива в слябы) ,несоответствующие партии включены в анализ не будут.\n",
    "\n",
    "<b>ПЛАН ПРОЕКТА</b>\n",
    "\n",
    "- Проведение обзора данных (EDA)\n",
    "\n",
    " - Подготовка и анализ данных\n",
    "   - Подключение необходимых библиотек;\n",
    "   - Самописные функции;\n",
    "   - Чтение таблиц из файлов в переменные ,получение общей информации о таблицах, выявление особенностей в данных.\n",
    "   - Выводы\n",
    " - Предобработка данных\n",
    "   - Обработка выявленных особенностей в данных.\n",
    "   - Выводы\n",
    " - Исследование итоговой таблицы с данными\n",
    "   - Соединение таблиц;\n",
    "   - Анализ итоговой таблицы;\n",
    "   - Отбор 10 - ти самых важных признаков;\n",
    "   - Переименование столбцов.\n",
    "   - Выводы\n",
    "\n",
    "- Построение модели машинного обучения\n",
    " - Обучение моделей\n",
    "   - Разделение данных на выборки;\n",
    "   - Обучение модели случайного леса с перебором гиперпараметров;\n",
    "   - Масштабирование данных;\n",
    "   - Обучение модели линейной регрессии с перебором гиперпараметров;\n",
    "   - Обучение модели градиентного бустинга с перебором гиперпараметров;\n",
    "   - Константная модель.\n",
    "   - Выбор лучшей модели\n",
    "\n",
    " - Тестирование лучшей модели на тестовой выборке.\n",
    "   \n",
    "- Общий вывод"
   ]
  },
  {
   "cell_type": "markdown",
   "id": "f1455e7f",
   "metadata": {},
   "source": [
    "## Проведение обзора данных (EDA)"
   ]
  },
  {
   "cell_type": "markdown",
   "id": "a21cabc1",
   "metadata": {},
   "source": [
    "### Подготовка и анализ данных"
   ]
  },
  {
   "cell_type": "markdown",
   "id": "227e3341",
   "metadata": {},
   "source": [
    "#### Подключение необходимых библиотек"
   ]
  },
  {
   "cell_type": "code",
   "execution_count": 1,
   "id": "1305128c",
   "metadata": {},
   "outputs": [],
   "source": [
    "import warnings\n",
    "warnings.filterwarnings(\"ignore\")\n",
    "\n",
    "import pandas as pd\n",
    "import numpy as np\n",
    "\n",
    "import seaborn as sns\n",
    "import matplotlib.pyplot as plt\n",
    "\n",
    "from sklearn.ensemble import ExtraTreesRegressor\n",
    "from sklearn.model_selection import train_test_split,RandomizedSearchCV\n",
    "from sklearn.preprocessing import StandardScaler\n",
    "from sklearn.linear_model import LinearRegression\n",
    "from sklearn.metrics import mean_absolute_error\n",
    "from sklearn.ensemble import RandomForestRegressor\n",
    "from catboost import CatBoostRegressor\n",
    "from scipy.stats import uniform\n",
    "from sklearn.dummy import DummyRegressor"
   ]
  },
  {
   "cell_type": "markdown",
   "id": "8947b9cf",
   "metadata": {},
   "source": [
    "#### Самописные функции"
   ]
  },
  {
   "cell_type": "code",
   "execution_count": 2,
   "id": "98537b72",
   "metadata": {},
   "outputs": [],
   "source": [
    "#Функция для получения общей информации о таблице\n",
    "def data_hi(data):\n",
    "    display(data.head(5))\n",
    "    display(data.info())\n",
    "    display(data.describe())\n",
    "    print(f'Количество строк-дубликатов: ',data.duplicated().sum())\n",
    "    return data"
   ]
  },
  {
   "cell_type": "markdown",
   "id": "bf1c2266",
   "metadata": {},
   "source": [
    "#### Чтение таблиц из файлов в переменные ,получение общей информации о таблицах, выявление особенностей в данных(неверный тип данных, аномалии, пропуски, дубликаты), выделение признаков и таргета"
   ]
  },
  {
   "cell_type": "markdown",
   "id": "5b0dc70d",
   "metadata": {},
   "source": [
    "##### Электроды"
   ]
  },
  {
   "cell_type": "code",
   "execution_count": 3,
   "id": "5880bc78",
   "metadata": {},
   "outputs": [],
   "source": [
    "try:\n",
    "    data_arc = pd.read_csv('yapracticum/data_arc.csv')\n",
    "except:\n",
    "    data_arc = pd.read_csv('/datasets/final_steel/data_arc.csv')"
   ]
  },
  {
   "cell_type": "code",
   "execution_count": 4,
   "id": "d1c7e44a",
   "metadata": {},
   "outputs": [
    {
     "data": {
      "text/html": [
       "<div>\n",
       "<style scoped>\n",
       "    .dataframe tbody tr th:only-of-type {\n",
       "        vertical-align: middle;\n",
       "    }\n",
       "\n",
       "    .dataframe tbody tr th {\n",
       "        vertical-align: top;\n",
       "    }\n",
       "\n",
       "    .dataframe thead th {\n",
       "        text-align: right;\n",
       "    }\n",
       "</style>\n",
       "<table border=\"1\" class=\"dataframe\">\n",
       "  <thead>\n",
       "    <tr style=\"text-align: right;\">\n",
       "      <th></th>\n",
       "      <th>key</th>\n",
       "      <th>Начало нагрева дугой</th>\n",
       "      <th>Конец нагрева дугой</th>\n",
       "      <th>Активная мощность</th>\n",
       "      <th>Реактивная мощность</th>\n",
       "    </tr>\n",
       "  </thead>\n",
       "  <tbody>\n",
       "    <tr>\n",
       "      <th>0</th>\n",
       "      <td>1</td>\n",
       "      <td>2019-05-03 11:02:14</td>\n",
       "      <td>2019-05-03 11:06:02</td>\n",
       "      <td>0.976059</td>\n",
       "      <td>0.687084</td>\n",
       "    </tr>\n",
       "    <tr>\n",
       "      <th>1</th>\n",
       "      <td>1</td>\n",
       "      <td>2019-05-03 11:07:28</td>\n",
       "      <td>2019-05-03 11:10:33</td>\n",
       "      <td>0.805607</td>\n",
       "      <td>0.520285</td>\n",
       "    </tr>\n",
       "    <tr>\n",
       "      <th>2</th>\n",
       "      <td>1</td>\n",
       "      <td>2019-05-03 11:11:44</td>\n",
       "      <td>2019-05-03 11:14:36</td>\n",
       "      <td>0.744363</td>\n",
       "      <td>0.498805</td>\n",
       "    </tr>\n",
       "    <tr>\n",
       "      <th>3</th>\n",
       "      <td>1</td>\n",
       "      <td>2019-05-03 11:18:14</td>\n",
       "      <td>2019-05-03 11:24:19</td>\n",
       "      <td>1.659363</td>\n",
       "      <td>1.062669</td>\n",
       "    </tr>\n",
       "    <tr>\n",
       "      <th>4</th>\n",
       "      <td>1</td>\n",
       "      <td>2019-05-03 11:26:09</td>\n",
       "      <td>2019-05-03 11:28:37</td>\n",
       "      <td>0.692755</td>\n",
       "      <td>0.414397</td>\n",
       "    </tr>\n",
       "  </tbody>\n",
       "</table>\n",
       "</div>"
      ],
      "text/plain": [
       "   key Начало нагрева дугой  Конец нагрева дугой  Активная мощность  \\\n",
       "0    1  2019-05-03 11:02:14  2019-05-03 11:06:02           0.976059   \n",
       "1    1  2019-05-03 11:07:28  2019-05-03 11:10:33           0.805607   \n",
       "2    1  2019-05-03 11:11:44  2019-05-03 11:14:36           0.744363   \n",
       "3    1  2019-05-03 11:18:14  2019-05-03 11:24:19           1.659363   \n",
       "4    1  2019-05-03 11:26:09  2019-05-03 11:28:37           0.692755   \n",
       "\n",
       "   Реактивная мощность  \n",
       "0             0.687084  \n",
       "1             0.520285  \n",
       "2             0.498805  \n",
       "3             1.062669  \n",
       "4             0.414397  "
      ]
     },
     "metadata": {},
     "output_type": "display_data"
    },
    {
     "name": "stdout",
     "output_type": "stream",
     "text": [
      "<class 'pandas.core.frame.DataFrame'>\n",
      "RangeIndex: 14876 entries, 0 to 14875\n",
      "Data columns (total 5 columns):\n",
      " #   Column                Non-Null Count  Dtype  \n",
      "---  ------                --------------  -----  \n",
      " 0   key                   14876 non-null  int64  \n",
      " 1   Начало нагрева дугой  14876 non-null  object \n",
      " 2   Конец нагрева дугой   14876 non-null  object \n",
      " 3   Активная мощность     14876 non-null  float64\n",
      " 4   Реактивная мощность   14876 non-null  float64\n",
      "dtypes: float64(2), int64(1), object(2)\n",
      "memory usage: 581.2+ KB\n"
     ]
    },
    {
     "data": {
      "text/plain": [
       "None"
      ]
     },
     "metadata": {},
     "output_type": "display_data"
    },
    {
     "data": {
      "text/html": [
       "<div>\n",
       "<style scoped>\n",
       "    .dataframe tbody tr th:only-of-type {\n",
       "        vertical-align: middle;\n",
       "    }\n",
       "\n",
       "    .dataframe tbody tr th {\n",
       "        vertical-align: top;\n",
       "    }\n",
       "\n",
       "    .dataframe thead th {\n",
       "        text-align: right;\n",
       "    }\n",
       "</style>\n",
       "<table border=\"1\" class=\"dataframe\">\n",
       "  <thead>\n",
       "    <tr style=\"text-align: right;\">\n",
       "      <th></th>\n",
       "      <th>key</th>\n",
       "      <th>Активная мощность</th>\n",
       "      <th>Реактивная мощность</th>\n",
       "    </tr>\n",
       "  </thead>\n",
       "  <tbody>\n",
       "    <tr>\n",
       "      <th>count</th>\n",
       "      <td>14876.000000</td>\n",
       "      <td>14876.000000</td>\n",
       "      <td>14876.000000</td>\n",
       "    </tr>\n",
       "    <tr>\n",
       "      <th>mean</th>\n",
       "      <td>1615.220422</td>\n",
       "      <td>0.670441</td>\n",
       "      <td>0.452592</td>\n",
       "    </tr>\n",
       "    <tr>\n",
       "      <th>std</th>\n",
       "      <td>934.571502</td>\n",
       "      <td>0.408159</td>\n",
       "      <td>5.878702</td>\n",
       "    </tr>\n",
       "    <tr>\n",
       "      <th>min</th>\n",
       "      <td>1.000000</td>\n",
       "      <td>0.030002</td>\n",
       "      <td>-715.504924</td>\n",
       "    </tr>\n",
       "    <tr>\n",
       "      <th>25%</th>\n",
       "      <td>806.000000</td>\n",
       "      <td>0.395297</td>\n",
       "      <td>0.290991</td>\n",
       "    </tr>\n",
       "    <tr>\n",
       "      <th>50%</th>\n",
       "      <td>1617.000000</td>\n",
       "      <td>0.555517</td>\n",
       "      <td>0.415962</td>\n",
       "    </tr>\n",
       "    <tr>\n",
       "      <th>75%</th>\n",
       "      <td>2429.000000</td>\n",
       "      <td>0.857034</td>\n",
       "      <td>0.637371</td>\n",
       "    </tr>\n",
       "    <tr>\n",
       "      <th>max</th>\n",
       "      <td>3241.000000</td>\n",
       "      <td>3.731596</td>\n",
       "      <td>2.676388</td>\n",
       "    </tr>\n",
       "  </tbody>\n",
       "</table>\n",
       "</div>"
      ],
      "text/plain": [
       "                key  Активная мощность  Реактивная мощность\n",
       "count  14876.000000       14876.000000         14876.000000\n",
       "mean    1615.220422           0.670441             0.452592\n",
       "std      934.571502           0.408159             5.878702\n",
       "min        1.000000           0.030002          -715.504924\n",
       "25%      806.000000           0.395297             0.290991\n",
       "50%     1617.000000           0.555517             0.415962\n",
       "75%     2429.000000           0.857034             0.637371\n",
       "max     3241.000000           3.731596             2.676388"
      ]
     },
     "metadata": {},
     "output_type": "display_data"
    },
    {
     "name": "stdout",
     "output_type": "stream",
     "text": [
      "Количество строк-дубликатов:  0\n"
     ]
    }
   ],
   "source": [
    "data_arc = data_hi(data_arc)"
   ]
  },
  {
   "cell_type": "code",
   "execution_count": 5,
   "id": "524770d8",
   "metadata": {},
   "outputs": [
    {
     "data": {
      "text/plain": [
       "<AxesSubplot:xlabel='Активная мощность'>"
      ]
     },
     "execution_count": 5,
     "metadata": {},
     "output_type": "execute_result"
    },
    {
     "data": {
      "image/png": "[encoded data removed]",
      "text/plain": [
       "<Figure size 432x288 with 1 Axes>"
      ]
     },
     "metadata": {
      "needs_background": "light"
     },
     "output_type": "display_data"
    }
   ],
   "source": [
    "sns.boxplot(data_arc['Активная мощность'])"
   ]
  },
  {
   "cell_type": "code",
   "execution_count": 6,
   "id": "b4a01354",
   "metadata": {},
   "outputs": [
    {
     "data": {
      "text/plain": [
       "<AxesSubplot:xlabel='Реактивная мощность'>"
      ]
     },
     "execution_count": 6,
     "metadata": {},
     "output_type": "execute_result"
    },
    {
     "data": {
      "image/png": "[encoded data removed]",
      "text/plain": [
       "<Figure size 432x288 with 1 Axes>"
      ]
     },
     "metadata": {
      "needs_background": "light"
     },
     "output_type": "display_data"
    }
   ],
   "source": [
    "sns.boxplot(data_arc['Реактивная мощность'])"
   ]
  },
  {
   "cell_type": "markdown",
   "id": "9d6a8dc0",
   "metadata": {},
   "source": [
    "В таблице с данными об электродах есть следущие особенности:\n",
    "- тип данных в столбцах `Начало нагрева дугой` и `Конец нагрева дугой` необходимо изменить на `datetime`\n",
    "- супервыбросы в столбцах `Активная мощность`(>3.5) и `Реактивная мощность`(<0) необходимо удалить,остальные выбросы оставить как есть\n",
    "\n",
    "Необходимо создать новые признаки , которые и войдут в сводную таблицу:<br>\n",
    "- `Время нагрева дугой` из признаков `Начало нагрева дугой` и `Конец нагрева дугой`\n",
    "- `Полная мощность` из признаков `Активная мощность` и `Реактивная мощность`"
   ]
  },
  {
   "cell_type": "markdown",
   "id": "edc4e534",
   "metadata": {},
   "source": [
    "### Сыпучие материалы : объём и время"
   ]
  },
  {
   "cell_type": "code",
   "execution_count": 7,
   "id": "bfc93909",
   "metadata": {},
   "outputs": [],
   "source": [
    "try:\n",
    "    data_bulk = pd.read_csv('/Users/dasha/Desktop/final_steel/data_bulk.csv')\n",
    "except:\n",
    "    data_bulk = pd.read_csv('/datasets/final_steel/data_bulk.csv')"
   ]
  },
  {
   "cell_type": "code",
   "execution_count": 8,
   "id": "d1dfe039",
   "metadata": {},
   "outputs": [
    {
     "data": {
      "text/html": [
       "<div>\n",
       "<style scoped>\n",
       "    .dataframe tbody tr th:only-of-type {\n",
       "        vertical-align: middle;\n",
       "    }\n",
       "\n",
       "    .dataframe tbody tr th {\n",
       "        vertical-align: top;\n",
       "    }\n",
       "\n",
       "    .dataframe thead th {\n",
       "        text-align: right;\n",
       "    }\n",
       "</style>\n",
       "<table border=\"1\" class=\"dataframe\">\n",
       "  <thead>\n",
       "    <tr style=\"text-align: right;\">\n",
       "      <th></th>\n",
       "      <th>key</th>\n",
       "      <th>Bulk 1</th>\n",
       "      <th>Bulk 2</th>\n",
       "      <th>Bulk 3</th>\n",
       "      <th>Bulk 4</th>\n",
       "      <th>Bulk 5</th>\n",
       "      <th>Bulk 6</th>\n",
       "      <th>Bulk 7</th>\n",
       "      <th>Bulk 8</th>\n",
       "      <th>Bulk 9</th>\n",
       "      <th>Bulk 10</th>\n",
       "      <th>Bulk 11</th>\n",
       "      <th>Bulk 12</th>\n",
       "      <th>Bulk 13</th>\n",
       "      <th>Bulk 14</th>\n",
       "      <th>Bulk 15</th>\n",
       "    </tr>\n",
       "  </thead>\n",
       "  <tbody>\n",
       "    <tr>\n",
       "      <th>0</th>\n",
       "      <td>1</td>\n",
       "      <td>NaN</td>\n",
       "      <td>NaN</td>\n",
       "      <td>NaN</td>\n",
       "      <td>43.0</td>\n",
       "      <td>NaN</td>\n",
       "      <td>NaN</td>\n",
       "      <td>NaN</td>\n",
       "      <td>NaN</td>\n",
       "      <td>NaN</td>\n",
       "      <td>NaN</td>\n",
       "      <td>NaN</td>\n",
       "      <td>206.0</td>\n",
       "      <td>NaN</td>\n",
       "      <td>150.0</td>\n",
       "      <td>154.0</td>\n",
       "    </tr>\n",
       "    <tr>\n",
       "      <th>1</th>\n",
       "      <td>2</td>\n",
       "      <td>NaN</td>\n",
       "      <td>NaN</td>\n",
       "      <td>NaN</td>\n",
       "      <td>73.0</td>\n",
       "      <td>NaN</td>\n",
       "      <td>NaN</td>\n",
       "      <td>NaN</td>\n",
       "      <td>NaN</td>\n",
       "      <td>NaN</td>\n",
       "      <td>NaN</td>\n",
       "      <td>NaN</td>\n",
       "      <td>206.0</td>\n",
       "      <td>NaN</td>\n",
       "      <td>149.0</td>\n",
       "      <td>154.0</td>\n",
       "    </tr>\n",
       "    <tr>\n",
       "      <th>2</th>\n",
       "      <td>3</td>\n",
       "      <td>NaN</td>\n",
       "      <td>NaN</td>\n",
       "      <td>NaN</td>\n",
       "      <td>34.0</td>\n",
       "      <td>NaN</td>\n",
       "      <td>NaN</td>\n",
       "      <td>NaN</td>\n",
       "      <td>NaN</td>\n",
       "      <td>NaN</td>\n",
       "      <td>NaN</td>\n",
       "      <td>NaN</td>\n",
       "      <td>205.0</td>\n",
       "      <td>NaN</td>\n",
       "      <td>152.0</td>\n",
       "      <td>153.0</td>\n",
       "    </tr>\n",
       "    <tr>\n",
       "      <th>3</th>\n",
       "      <td>4</td>\n",
       "      <td>NaN</td>\n",
       "      <td>NaN</td>\n",
       "      <td>NaN</td>\n",
       "      <td>81.0</td>\n",
       "      <td>NaN</td>\n",
       "      <td>NaN</td>\n",
       "      <td>NaN</td>\n",
       "      <td>NaN</td>\n",
       "      <td>NaN</td>\n",
       "      <td>NaN</td>\n",
       "      <td>NaN</td>\n",
       "      <td>207.0</td>\n",
       "      <td>NaN</td>\n",
       "      <td>153.0</td>\n",
       "      <td>154.0</td>\n",
       "    </tr>\n",
       "    <tr>\n",
       "      <th>4</th>\n",
       "      <td>5</td>\n",
       "      <td>NaN</td>\n",
       "      <td>NaN</td>\n",
       "      <td>NaN</td>\n",
       "      <td>78.0</td>\n",
       "      <td>NaN</td>\n",
       "      <td>NaN</td>\n",
       "      <td>NaN</td>\n",
       "      <td>NaN</td>\n",
       "      <td>NaN</td>\n",
       "      <td>NaN</td>\n",
       "      <td>NaN</td>\n",
       "      <td>203.0</td>\n",
       "      <td>NaN</td>\n",
       "      <td>151.0</td>\n",
       "      <td>152.0</td>\n",
       "    </tr>\n",
       "  </tbody>\n",
       "</table>\n",
       "</div>"
      ],
      "text/plain": [
       "   key  Bulk 1  Bulk 2  Bulk 3  Bulk 4  Bulk 5  Bulk 6  Bulk 7  Bulk 8  \\\n",
       "0    1     NaN     NaN     NaN    43.0     NaN     NaN     NaN     NaN   \n",
       "1    2     NaN     NaN     NaN    73.0     NaN     NaN     NaN     NaN   \n",
       "2    3     NaN     NaN     NaN    34.0     NaN     NaN     NaN     NaN   \n",
       "3    4     NaN     NaN     NaN    81.0     NaN     NaN     NaN     NaN   \n",
       "4    5     NaN     NaN     NaN    78.0     NaN     NaN     NaN     NaN   \n",
       "\n",
       "   Bulk 9  Bulk 10  Bulk 11  Bulk 12  Bulk 13  Bulk 14  Bulk 15  \n",
       "0     NaN      NaN      NaN    206.0      NaN    150.0    154.0  \n",
       "1     NaN      NaN      NaN    206.0      NaN    149.0    154.0  \n",
       "2     NaN      NaN      NaN    205.0      NaN    152.0    153.0  \n",
       "3     NaN      NaN      NaN    207.0      NaN    153.0    154.0  \n",
       "4     NaN      NaN      NaN    203.0      NaN    151.0    152.0  "
      ]
     },
     "metadata": {},
     "output_type": "display_data"
    },
    {
     "name": "stdout",
     "output_type": "stream",
     "text": [
      "<class 'pandas.core.frame.DataFrame'>\n",
      "RangeIndex: 3129 entries, 0 to 3128\n",
      "Data columns (total 16 columns):\n",
      " #   Column   Non-Null Count  Dtype  \n",
      "---  ------   --------------  -----  \n",
      " 0   key      3129 non-null   int64  \n",
      " 1   Bulk 1   252 non-null    float64\n",
      " 2   Bulk 2   22 non-null     float64\n",
      " 3   Bulk 3   1298 non-null   float64\n",
      " 4   Bulk 4   1014 non-null   float64\n",
      " 5   Bulk 5   77 non-null     float64\n",
      " 6   Bulk 6   576 non-null    float64\n",
      " 7   Bulk 7   25 non-null     float64\n",
      " 8   Bulk 8   1 non-null      float64\n",
      " 9   Bulk 9   19 non-null     float64\n",
      " 10  Bulk 10  176 non-null    float64\n",
      " 11  Bulk 11  177 non-null    float64\n",
      " 12  Bulk 12  2450 non-null   float64\n",
      " 13  Bulk 13  18 non-null     float64\n",
      " 14  Bulk 14  2806 non-null   float64\n",
      " 15  Bulk 15  2248 non-null   float64\n",
      "dtypes: float64(15), int64(1)\n",
      "memory usage: 391.2 KB\n"
     ]
    },
    {
     "data": {
      "text/plain": [
       "None"
      ]
     },
     "metadata": {},
     "output_type": "display_data"
    },
    {
     "data": {
      "text/html": [
       "<div>\n",
       "<style scoped>\n",
       "    .dataframe tbody tr th:only-of-type {\n",
       "        vertical-align: middle;\n",
       "    }\n",
       "\n",
       "    .dataframe tbody tr th {\n",
       "        vertical-align: top;\n",
       "    }\n",
       "\n",
       "    .dataframe thead th {\n",
       "        text-align: right;\n",
       "    }\n",
       "</style>\n",
       "<table border=\"1\" class=\"dataframe\">\n",
       "  <thead>\n",
       "    <tr style=\"text-align: right;\">\n",
       "      <th></th>\n",
       "      <th>key</th>\n",
       "      <th>Bulk 1</th>\n",
       "      <th>Bulk 2</th>\n",
       "      <th>Bulk 3</th>\n",
       "      <th>Bulk 4</th>\n",
       "      <th>Bulk 5</th>\n",
       "      <th>Bulk 6</th>\n",
       "      <th>Bulk 7</th>\n",
       "      <th>Bulk 8</th>\n",
       "      <th>Bulk 9</th>\n",
       "      <th>Bulk 10</th>\n",
       "      <th>Bulk 11</th>\n",
       "      <th>Bulk 12</th>\n",
       "      <th>Bulk 13</th>\n",
       "      <th>Bulk 14</th>\n",
       "      <th>Bulk 15</th>\n",
       "    </tr>\n",
       "  </thead>\n",
       "  <tbody>\n",
       "    <tr>\n",
       "      <th>count</th>\n",
       "      <td>3129.000000</td>\n",
       "      <td>252.000000</td>\n",
       "      <td>22.000000</td>\n",
       "      <td>1298.000000</td>\n",
       "      <td>1014.000000</td>\n",
       "      <td>77.000000</td>\n",
       "      <td>576.000000</td>\n",
       "      <td>25.000000</td>\n",
       "      <td>1.0</td>\n",
       "      <td>19.000000</td>\n",
       "      <td>176.000000</td>\n",
       "      <td>177.000000</td>\n",
       "      <td>2450.000000</td>\n",
       "      <td>18.000000</td>\n",
       "      <td>2806.000000</td>\n",
       "      <td>2248.000000</td>\n",
       "    </tr>\n",
       "    <tr>\n",
       "      <th>mean</th>\n",
       "      <td>1624.383509</td>\n",
       "      <td>39.242063</td>\n",
       "      <td>253.045455</td>\n",
       "      <td>113.879045</td>\n",
       "      <td>104.394477</td>\n",
       "      <td>107.025974</td>\n",
       "      <td>118.925347</td>\n",
       "      <td>305.600000</td>\n",
       "      <td>49.0</td>\n",
       "      <td>76.315789</td>\n",
       "      <td>83.284091</td>\n",
       "      <td>76.819209</td>\n",
       "      <td>260.471020</td>\n",
       "      <td>181.111111</td>\n",
       "      <td>170.284747</td>\n",
       "      <td>160.513345</td>\n",
       "    </tr>\n",
       "    <tr>\n",
       "      <th>std</th>\n",
       "      <td>933.337642</td>\n",
       "      <td>18.277654</td>\n",
       "      <td>21.180578</td>\n",
       "      <td>75.483494</td>\n",
       "      <td>48.184126</td>\n",
       "      <td>81.790646</td>\n",
       "      <td>72.057776</td>\n",
       "      <td>191.022904</td>\n",
       "      <td>NaN</td>\n",
       "      <td>21.720581</td>\n",
       "      <td>26.060347</td>\n",
       "      <td>59.655365</td>\n",
       "      <td>120.649269</td>\n",
       "      <td>46.088009</td>\n",
       "      <td>65.868652</td>\n",
       "      <td>51.765319</td>\n",
       "    </tr>\n",
       "    <tr>\n",
       "      <th>min</th>\n",
       "      <td>1.000000</td>\n",
       "      <td>10.000000</td>\n",
       "      <td>228.000000</td>\n",
       "      <td>6.000000</td>\n",
       "      <td>12.000000</td>\n",
       "      <td>11.000000</td>\n",
       "      <td>17.000000</td>\n",
       "      <td>47.000000</td>\n",
       "      <td>49.0</td>\n",
       "      <td>63.000000</td>\n",
       "      <td>24.000000</td>\n",
       "      <td>8.000000</td>\n",
       "      <td>53.000000</td>\n",
       "      <td>151.000000</td>\n",
       "      <td>16.000000</td>\n",
       "      <td>1.000000</td>\n",
       "    </tr>\n",
       "    <tr>\n",
       "      <th>25%</th>\n",
       "      <td>816.000000</td>\n",
       "      <td>27.000000</td>\n",
       "      <td>242.000000</td>\n",
       "      <td>58.000000</td>\n",
       "      <td>72.000000</td>\n",
       "      <td>70.000000</td>\n",
       "      <td>69.750000</td>\n",
       "      <td>155.000000</td>\n",
       "      <td>49.0</td>\n",
       "      <td>66.000000</td>\n",
       "      <td>64.000000</td>\n",
       "      <td>25.000000</td>\n",
       "      <td>204.000000</td>\n",
       "      <td>153.250000</td>\n",
       "      <td>119.000000</td>\n",
       "      <td>105.000000</td>\n",
       "    </tr>\n",
       "    <tr>\n",
       "      <th>50%</th>\n",
       "      <td>1622.000000</td>\n",
       "      <td>31.000000</td>\n",
       "      <td>251.500000</td>\n",
       "      <td>97.500000</td>\n",
       "      <td>102.000000</td>\n",
       "      <td>86.000000</td>\n",
       "      <td>100.000000</td>\n",
       "      <td>298.000000</td>\n",
       "      <td>49.0</td>\n",
       "      <td>68.000000</td>\n",
       "      <td>86.500000</td>\n",
       "      <td>64.000000</td>\n",
       "      <td>208.000000</td>\n",
       "      <td>155.500000</td>\n",
       "      <td>151.000000</td>\n",
       "      <td>160.000000</td>\n",
       "    </tr>\n",
       "    <tr>\n",
       "      <th>75%</th>\n",
       "      <td>2431.000000</td>\n",
       "      <td>46.000000</td>\n",
       "      <td>257.750000</td>\n",
       "      <td>152.000000</td>\n",
       "      <td>133.000000</td>\n",
       "      <td>132.000000</td>\n",
       "      <td>157.000000</td>\n",
       "      <td>406.000000</td>\n",
       "      <td>49.0</td>\n",
       "      <td>70.500000</td>\n",
       "      <td>102.000000</td>\n",
       "      <td>106.000000</td>\n",
       "      <td>316.000000</td>\n",
       "      <td>203.500000</td>\n",
       "      <td>205.750000</td>\n",
       "      <td>205.000000</td>\n",
       "    </tr>\n",
       "    <tr>\n",
       "      <th>max</th>\n",
       "      <td>3241.000000</td>\n",
       "      <td>185.000000</td>\n",
       "      <td>325.000000</td>\n",
       "      <td>454.000000</td>\n",
       "      <td>281.000000</td>\n",
       "      <td>603.000000</td>\n",
       "      <td>503.000000</td>\n",
       "      <td>772.000000</td>\n",
       "      <td>49.0</td>\n",
       "      <td>147.000000</td>\n",
       "      <td>159.000000</td>\n",
       "      <td>313.000000</td>\n",
       "      <td>1849.000000</td>\n",
       "      <td>305.000000</td>\n",
       "      <td>636.000000</td>\n",
       "      <td>405.000000</td>\n",
       "    </tr>\n",
       "  </tbody>\n",
       "</table>\n",
       "</div>"
      ],
      "text/plain": [
       "               key      Bulk 1      Bulk 2       Bulk 3       Bulk 4  \\\n",
       "count  3129.000000  252.000000   22.000000  1298.000000  1014.000000   \n",
       "mean   1624.383509   39.242063  253.045455   113.879045   104.394477   \n",
       "std     933.337642   18.277654   21.180578    75.483494    48.184126   \n",
       "min       1.000000   10.000000  228.000000     6.000000    12.000000   \n",
       "25%     816.000000   27.000000  242.000000    58.000000    72.000000   \n",
       "50%    1622.000000   31.000000  251.500000    97.500000   102.000000   \n",
       "75%    2431.000000   46.000000  257.750000   152.000000   133.000000   \n",
       "max    3241.000000  185.000000  325.000000   454.000000   281.000000   \n",
       "\n",
       "           Bulk 5      Bulk 6      Bulk 7  Bulk 8      Bulk 9     Bulk 10  \\\n",
       "count   77.000000  576.000000   25.000000     1.0   19.000000  176.000000   \n",
       "mean   107.025974  118.925347  305.600000    49.0   76.315789   83.284091   \n",
       "std     81.790646   72.057776  191.022904     NaN   21.720581   26.060347   \n",
       "min     11.000000   17.000000   47.000000    49.0   63.000000   24.000000   \n",
       "25%     70.000000   69.750000  155.000000    49.0   66.000000   64.000000   \n",
       "50%     86.000000  100.000000  298.000000    49.0   68.000000   86.500000   \n",
       "75%    132.000000  157.000000  406.000000    49.0   70.500000  102.000000   \n",
       "max    603.000000  503.000000  772.000000    49.0  147.000000  159.000000   \n",
       "\n",
       "          Bulk 11      Bulk 12     Bulk 13      Bulk 14      Bulk 15  \n",
       "count  177.000000  2450.000000   18.000000  2806.000000  2248.000000  \n",
       "mean    76.819209   260.471020  181.111111   170.284747   160.513345  \n",
       "std     59.655365   120.649269   46.088009    65.868652    51.765319  \n",
       "min      8.000000    53.000000  151.000000    16.000000     1.000000  \n",
       "25%     25.000000   204.000000  153.250000   119.000000   105.000000  \n",
       "50%     64.000000   208.000000  155.500000   151.000000   160.000000  \n",
       "75%    106.000000   316.000000  203.500000   205.750000   205.000000  \n",
       "max    313.000000  1849.000000  305.000000   636.000000   405.000000  "
      ]
     },
     "metadata": {},
     "output_type": "display_data"
    },
    {
     "name": "stdout",
     "output_type": "stream",
     "text": [
      "Количество строк-дубликатов:  0\n"
     ]
    }
   ],
   "source": [
    "data_bulk = data_hi(data_bulk)"
   ]
  },
  {
   "cell_type": "markdown",
   "id": "e2f06eda",
   "metadata": {},
   "source": [
    "Посмотрим все ли строки с уникальным значением номера партии:"
   ]
  },
  {
   "cell_type": "code",
   "execution_count": 9,
   "id": "3cb77c98",
   "metadata": {},
   "outputs": [
    {
     "data": {
      "text/plain": [
       "3129"
      ]
     },
     "execution_count": 9,
     "metadata": {},
     "output_type": "execute_result"
    }
   ],
   "source": [
    "data_bulk['key'].nunique()"
   ]
  },
  {
   "cell_type": "markdown",
   "id": "ba568394",
   "metadata": {},
   "source": [
    "В таблице с данными об объёме сыпучих материалов есть следущие особенности:\n",
    "- тип данных во всех столбцах `Bulk` необходимо изменить на `int`\n",
    "- выбросы в части столбцов оставим как есть\n",
    "- многочисленые пропуски во всех столбцах заменим на `0`,что будет обозначать, что сыпучий материал не добавлялся в ковш\n",
    "\n",
    "Все столбцы `Bulk` войдут в сводную таблицу,редкие `Bulk` объединим в один признак"
   ]
  },
  {
   "cell_type": "code",
   "execution_count": 10,
   "id": "915e3380",
   "metadata": {},
   "outputs": [],
   "source": [
    "try:\n",
    "    data_bulk_time = pd.read_csv('/Users/dasha/Desktop/final_steel/data_bulk_time.csv')\n",
    "except:\n",
    "    data_bulk_time = pd.read_csv('/datasets/final_steel/data_bulk_time.csv')"
   ]
  },
  {
   "cell_type": "code",
   "execution_count": 11,
   "id": "f3740337",
   "metadata": {},
   "outputs": [
    {
     "data": {
      "text/html": [
       "<div>\n",
       "<style scoped>\n",
       "    .dataframe tbody tr th:only-of-type {\n",
       "        vertical-align: middle;\n",
       "    }\n",
       "\n",
       "    .dataframe tbody tr th {\n",
       "        vertical-align: top;\n",
       "    }\n",
       "\n",
       "    .dataframe thead th {\n",
       "        text-align: right;\n",
       "    }\n",
       "</style>\n",
       "<table border=\"1\" class=\"dataframe\">\n",
       "  <thead>\n",
       "    <tr style=\"text-align: right;\">\n",
       "      <th></th>\n",
       "      <th>key</th>\n",
       "      <th>Bulk 1</th>\n",
       "      <th>Bulk 2</th>\n",
       "      <th>Bulk 3</th>\n",
       "      <th>Bulk 4</th>\n",
       "      <th>Bulk 5</th>\n",
       "      <th>Bulk 6</th>\n",
       "      <th>Bulk 7</th>\n",
       "      <th>Bulk 8</th>\n",
       "      <th>Bulk 9</th>\n",
       "      <th>Bulk 10</th>\n",
       "      <th>Bulk 11</th>\n",
       "      <th>Bulk 12</th>\n",
       "      <th>Bulk 13</th>\n",
       "      <th>Bulk 14</th>\n",
       "      <th>Bulk 15</th>\n",
       "    </tr>\n",
       "  </thead>\n",
       "  <tbody>\n",
       "    <tr>\n",
       "      <th>0</th>\n",
       "      <td>1</td>\n",
       "      <td>NaN</td>\n",
       "      <td>NaN</td>\n",
       "      <td>NaN</td>\n",
       "      <td>2019-05-03 11:21:30</td>\n",
       "      <td>NaN</td>\n",
       "      <td>NaN</td>\n",
       "      <td>NaN</td>\n",
       "      <td>NaN</td>\n",
       "      <td>NaN</td>\n",
       "      <td>NaN</td>\n",
       "      <td>NaN</td>\n",
       "      <td>2019-05-03 11:03:52</td>\n",
       "      <td>NaN</td>\n",
       "      <td>2019-05-03 11:03:52</td>\n",
       "      <td>2019-05-03 11:03:52</td>\n",
       "    </tr>\n",
       "    <tr>\n",
       "      <th>1</th>\n",
       "      <td>2</td>\n",
       "      <td>NaN</td>\n",
       "      <td>NaN</td>\n",
       "      <td>NaN</td>\n",
       "      <td>2019-05-03 11:46:38</td>\n",
       "      <td>NaN</td>\n",
       "      <td>NaN</td>\n",
       "      <td>NaN</td>\n",
       "      <td>NaN</td>\n",
       "      <td>NaN</td>\n",
       "      <td>NaN</td>\n",
       "      <td>NaN</td>\n",
       "      <td>2019-05-03 11:40:20</td>\n",
       "      <td>NaN</td>\n",
       "      <td>2019-05-03 11:40:20</td>\n",
       "      <td>2019-05-03 11:40:20</td>\n",
       "    </tr>\n",
       "    <tr>\n",
       "      <th>2</th>\n",
       "      <td>3</td>\n",
       "      <td>NaN</td>\n",
       "      <td>NaN</td>\n",
       "      <td>NaN</td>\n",
       "      <td>2019-05-03 12:31:06</td>\n",
       "      <td>NaN</td>\n",
       "      <td>NaN</td>\n",
       "      <td>NaN</td>\n",
       "      <td>NaN</td>\n",
       "      <td>NaN</td>\n",
       "      <td>NaN</td>\n",
       "      <td>NaN</td>\n",
       "      <td>2019-05-03 12:09:40</td>\n",
       "      <td>NaN</td>\n",
       "      <td>2019-05-03 12:09:40</td>\n",
       "      <td>2019-05-03 12:09:40</td>\n",
       "    </tr>\n",
       "    <tr>\n",
       "      <th>3</th>\n",
       "      <td>4</td>\n",
       "      <td>NaN</td>\n",
       "      <td>NaN</td>\n",
       "      <td>NaN</td>\n",
       "      <td>2019-05-03 12:48:43</td>\n",
       "      <td>NaN</td>\n",
       "      <td>NaN</td>\n",
       "      <td>NaN</td>\n",
       "      <td>NaN</td>\n",
       "      <td>NaN</td>\n",
       "      <td>NaN</td>\n",
       "      <td>NaN</td>\n",
       "      <td>2019-05-03 12:41:24</td>\n",
       "      <td>NaN</td>\n",
       "      <td>2019-05-03 12:41:24</td>\n",
       "      <td>2019-05-03 12:41:24</td>\n",
       "    </tr>\n",
       "    <tr>\n",
       "      <th>4</th>\n",
       "      <td>5</td>\n",
       "      <td>NaN</td>\n",
       "      <td>NaN</td>\n",
       "      <td>NaN</td>\n",
       "      <td>2019-05-03 13:18:50</td>\n",
       "      <td>NaN</td>\n",
       "      <td>NaN</td>\n",
       "      <td>NaN</td>\n",
       "      <td>NaN</td>\n",
       "      <td>NaN</td>\n",
       "      <td>NaN</td>\n",
       "      <td>NaN</td>\n",
       "      <td>2019-05-03 13:12:56</td>\n",
       "      <td>NaN</td>\n",
       "      <td>2019-05-03 13:12:56</td>\n",
       "      <td>2019-05-03 13:12:56</td>\n",
       "    </tr>\n",
       "  </tbody>\n",
       "</table>\n",
       "</div>"
      ],
      "text/plain": [
       "   key Bulk 1 Bulk 2 Bulk 3               Bulk 4 Bulk 5 Bulk 6 Bulk 7 Bulk 8  \\\n",
       "0    1    NaN    NaN    NaN  2019-05-03 11:21:30    NaN    NaN    NaN    NaN   \n",
       "1    2    NaN    NaN    NaN  2019-05-03 11:46:38    NaN    NaN    NaN    NaN   \n",
       "2    3    NaN    NaN    NaN  2019-05-03 12:31:06    NaN    NaN    NaN    NaN   \n",
       "3    4    NaN    NaN    NaN  2019-05-03 12:48:43    NaN    NaN    NaN    NaN   \n",
       "4    5    NaN    NaN    NaN  2019-05-03 13:18:50    NaN    NaN    NaN    NaN   \n",
       "\n",
       "  Bulk 9 Bulk 10 Bulk 11              Bulk 12 Bulk 13              Bulk 14  \\\n",
       "0    NaN     NaN     NaN  2019-05-03 11:03:52     NaN  2019-05-03 11:03:52   \n",
       "1    NaN     NaN     NaN  2019-05-03 11:40:20     NaN  2019-05-03 11:40:20   \n",
       "2    NaN     NaN     NaN  2019-05-03 12:09:40     NaN  2019-05-03 12:09:40   \n",
       "3    NaN     NaN     NaN  2019-05-03 12:41:24     NaN  2019-05-03 12:41:24   \n",
       "4    NaN     NaN     NaN  2019-05-03 13:12:56     NaN  2019-05-03 13:12:56   \n",
       "\n",
       "               Bulk 15  \n",
       "0  2019-05-03 11:03:52  \n",
       "1  2019-05-03 11:40:20  \n",
       "2  2019-05-03 12:09:40  \n",
       "3  2019-05-03 12:41:24  \n",
       "4  2019-05-03 13:12:56  "
      ]
     },
     "metadata": {},
     "output_type": "display_data"
    },
    {
     "name": "stdout",
     "output_type": "stream",
     "text": [
      "<class 'pandas.core.frame.DataFrame'>\n",
      "RangeIndex: 3129 entries, 0 to 3128\n",
      "Data columns (total 16 columns):\n",
      " #   Column   Non-Null Count  Dtype \n",
      "---  ------   --------------  ----- \n",
      " 0   key      3129 non-null   int64 \n",
      " 1   Bulk 1   252 non-null    object\n",
      " 2   Bulk 2   22 non-null     object\n",
      " 3   Bulk 3   1298 non-null   object\n",
      " 4   Bulk 4   1014 non-null   object\n",
      " 5   Bulk 5   77 non-null     object\n",
      " 6   Bulk 6   576 non-null    object\n",
      " 7   Bulk 7   25 non-null     object\n",
      " 8   Bulk 8   1 non-null      object\n",
      " 9   Bulk 9   19 non-null     object\n",
      " 10  Bulk 10  176 non-null    object\n",
      " 11  Bulk 11  177 non-null    object\n",
      " 12  Bulk 12  2450 non-null   object\n",
      " 13  Bulk 13  18 non-null     object\n",
      " 14  Bulk 14  2806 non-null   object\n",
      " 15  Bulk 15  2248 non-null   object\n",
      "dtypes: int64(1), object(15)\n",
      "memory usage: 391.2+ KB\n"
     ]
    },
    {
     "data": {
      "text/plain": [
       "None"
      ]
     },
     "metadata": {},
     "output_type": "display_data"
    },
    {
     "data": {
      "text/html": [
       "<div>\n",
       "<style scoped>\n",
       "    .dataframe tbody tr th:only-of-type {\n",
       "        vertical-align: middle;\n",
       "    }\n",
       "\n",
       "    .dataframe tbody tr th {\n",
       "        vertical-align: top;\n",
       "    }\n",
       "\n",
       "    .dataframe thead th {\n",
       "        text-align: right;\n",
       "    }\n",
       "</style>\n",
       "<table border=\"1\" class=\"dataframe\">\n",
       "  <thead>\n",
       "    <tr style=\"text-align: right;\">\n",
       "      <th></th>\n",
       "      <th>key</th>\n",
       "    </tr>\n",
       "  </thead>\n",
       "  <tbody>\n",
       "    <tr>\n",
       "      <th>count</th>\n",
       "      <td>3129.000000</td>\n",
       "    </tr>\n",
       "    <tr>\n",
       "      <th>mean</th>\n",
       "      <td>1624.383509</td>\n",
       "    </tr>\n",
       "    <tr>\n",
       "      <th>std</th>\n",
       "      <td>933.337642</td>\n",
       "    </tr>\n",
       "    <tr>\n",
       "      <th>min</th>\n",
       "      <td>1.000000</td>\n",
       "    </tr>\n",
       "    <tr>\n",
       "      <th>25%</th>\n",
       "      <td>816.000000</td>\n",
       "    </tr>\n",
       "    <tr>\n",
       "      <th>50%</th>\n",
       "      <td>1622.000000</td>\n",
       "    </tr>\n",
       "    <tr>\n",
       "      <th>75%</th>\n",
       "      <td>2431.000000</td>\n",
       "    </tr>\n",
       "    <tr>\n",
       "      <th>max</th>\n",
       "      <td>3241.000000</td>\n",
       "    </tr>\n",
       "  </tbody>\n",
       "</table>\n",
       "</div>"
      ],
      "text/plain": [
       "               key\n",
       "count  3129.000000\n",
       "mean   1624.383509\n",
       "std     933.337642\n",
       "min       1.000000\n",
       "25%     816.000000\n",
       "50%    1622.000000\n",
       "75%    2431.000000\n",
       "max    3241.000000"
      ]
     },
     "metadata": {},
     "output_type": "display_data"
    },
    {
     "name": "stdout",
     "output_type": "stream",
     "text": [
      "Количество строк-дубликатов:  0\n"
     ]
    }
   ],
   "source": [
    "data_bulk_time = data_hi(data_bulk_time)"
   ]
  },
  {
   "cell_type": "markdown",
   "id": "6425486d",
   "metadata": {},
   "source": [
    "Данные этой таблицы не понадобятся для обучения моделей."
   ]
  },
  {
   "cell_type": "markdown",
   "id": "cfc0a3df",
   "metadata": {},
   "source": [
    "<div class=\"alert alert-success\" style=\"border-color: green; border-radius: 5px\">\n",
    "    <p><u><b>✅ КОММЕНТАРИЙ ТИМЛИДА</b></u></p>\n",
    "Да, время как фактор - точно в модель не вставляем. У нас НЕ ВРЕМЕННЫЕ ряды."
   ]
  },
  {
   "cell_type": "markdown",
   "id": "0609dfb8",
   "metadata": {},
   "source": [
    "### Продувка сплава газом(объём на партию)"
   ]
  },
  {
   "cell_type": "code",
   "execution_count": 12,
   "id": "6cf13862",
   "metadata": {},
   "outputs": [],
   "source": [
    "try:\n",
    "    data_gas = pd.read_csv('/Users/dasha/Desktop/final_steel/data_gas.csv')\n",
    "except:\n",
    "    data_gas = pd.read_csv('/datasets/final_steel/data_gas.csv')"
   ]
  },
  {
   "cell_type": "code",
   "execution_count": 13,
   "id": "c9a87580",
   "metadata": {},
   "outputs": [
    {
     "data": {
      "text/html": [
       "<div>\n",
       "<style scoped>\n",
       "    .dataframe tbody tr th:only-of-type {\n",
       "        vertical-align: middle;\n",
       "    }\n",
       "\n",
       "    .dataframe tbody tr th {\n",
       "        vertical-align: top;\n",
       "    }\n",
       "\n",
       "    .dataframe thead th {\n",
       "        text-align: right;\n",
       "    }\n",
       "</style>\n",
       "<table border=\"1\" class=\"dataframe\">\n",
       "  <thead>\n",
       "    <tr style=\"text-align: right;\">\n",
       "      <th></th>\n",
       "      <th>key</th>\n",
       "      <th>Газ 1</th>\n",
       "    </tr>\n",
       "  </thead>\n",
       "  <tbody>\n",
       "    <tr>\n",
       "      <th>0</th>\n",
       "      <td>1</td>\n",
       "      <td>29.749986</td>\n",
       "    </tr>\n",
       "    <tr>\n",
       "      <th>1</th>\n",
       "      <td>2</td>\n",
       "      <td>12.555561</td>\n",
       "    </tr>\n",
       "    <tr>\n",
       "      <th>2</th>\n",
       "      <td>3</td>\n",
       "      <td>28.554793</td>\n",
       "    </tr>\n",
       "    <tr>\n",
       "      <th>3</th>\n",
       "      <td>4</td>\n",
       "      <td>18.841219</td>\n",
       "    </tr>\n",
       "    <tr>\n",
       "      <th>4</th>\n",
       "      <td>5</td>\n",
       "      <td>5.413692</td>\n",
       "    </tr>\n",
       "  </tbody>\n",
       "</table>\n",
       "</div>"
      ],
      "text/plain": [
       "   key      Газ 1\n",
       "0    1  29.749986\n",
       "1    2  12.555561\n",
       "2    3  28.554793\n",
       "3    4  18.841219\n",
       "4    5   5.413692"
      ]
     },
     "metadata": {},
     "output_type": "display_data"
    },
    {
     "name": "stdout",
     "output_type": "stream",
     "text": [
      "<class 'pandas.core.frame.DataFrame'>\n",
      "RangeIndex: 3239 entries, 0 to 3238\n",
      "Data columns (total 2 columns):\n",
      " #   Column  Non-Null Count  Dtype  \n",
      "---  ------  --------------  -----  \n",
      " 0   key     3239 non-null   int64  \n",
      " 1   Газ 1   3239 non-null   float64\n",
      "dtypes: float64(1), int64(1)\n",
      "memory usage: 50.7 KB\n"
     ]
    },
    {
     "data": {
      "text/plain": [
       "None"
      ]
     },
     "metadata": {},
     "output_type": "display_data"
    },
    {
     "data": {
      "text/html": [
       "<div>\n",
       "<style scoped>\n",
       "    .dataframe tbody tr th:only-of-type {\n",
       "        vertical-align: middle;\n",
       "    }\n",
       "\n",
       "    .dataframe tbody tr th {\n",
       "        vertical-align: top;\n",
       "    }\n",
       "\n",
       "    .dataframe thead th {\n",
       "        text-align: right;\n",
       "    }\n",
       "</style>\n",
       "<table border=\"1\" class=\"dataframe\">\n",
       "  <thead>\n",
       "    <tr style=\"text-align: right;\">\n",
       "      <th></th>\n",
       "      <th>key</th>\n",
       "      <th>Газ 1</th>\n",
       "    </tr>\n",
       "  </thead>\n",
       "  <tbody>\n",
       "    <tr>\n",
       "      <th>count</th>\n",
       "      <td>3239.000000</td>\n",
       "      <td>3239.000000</td>\n",
       "    </tr>\n",
       "    <tr>\n",
       "      <th>mean</th>\n",
       "      <td>1621.861377</td>\n",
       "      <td>11.002062</td>\n",
       "    </tr>\n",
       "    <tr>\n",
       "      <th>std</th>\n",
       "      <td>935.386334</td>\n",
       "      <td>6.220327</td>\n",
       "    </tr>\n",
       "    <tr>\n",
       "      <th>min</th>\n",
       "      <td>1.000000</td>\n",
       "      <td>0.008399</td>\n",
       "    </tr>\n",
       "    <tr>\n",
       "      <th>25%</th>\n",
       "      <td>812.500000</td>\n",
       "      <td>7.043089</td>\n",
       "    </tr>\n",
       "    <tr>\n",
       "      <th>50%</th>\n",
       "      <td>1622.000000</td>\n",
       "      <td>9.836267</td>\n",
       "    </tr>\n",
       "    <tr>\n",
       "      <th>75%</th>\n",
       "      <td>2431.500000</td>\n",
       "      <td>13.769915</td>\n",
       "    </tr>\n",
       "    <tr>\n",
       "      <th>max</th>\n",
       "      <td>3241.000000</td>\n",
       "      <td>77.995040</td>\n",
       "    </tr>\n",
       "  </tbody>\n",
       "</table>\n",
       "</div>"
      ],
      "text/plain": [
       "               key        Газ 1\n",
       "count  3239.000000  3239.000000\n",
       "mean   1621.861377    11.002062\n",
       "std     935.386334     6.220327\n",
       "min       1.000000     0.008399\n",
       "25%     812.500000     7.043089\n",
       "50%    1622.000000     9.836267\n",
       "75%    2431.500000    13.769915\n",
       "max    3241.000000    77.995040"
      ]
     },
     "metadata": {},
     "output_type": "display_data"
    },
    {
     "name": "stdout",
     "output_type": "stream",
     "text": [
      "Количество строк-дубликатов:  0\n"
     ]
    }
   ],
   "source": [
    "data_gas = data_hi(data_gas)"
   ]
  },
  {
   "cell_type": "code",
   "execution_count": 14,
   "id": "a0d951bc",
   "metadata": {},
   "outputs": [
    {
     "data": {
      "text/plain": [
       "3239"
      ]
     },
     "execution_count": 14,
     "metadata": {},
     "output_type": "execute_result"
    }
   ],
   "source": [
    "data_gas['key'].nunique()"
   ]
  },
  {
   "cell_type": "code",
   "execution_count": 15,
   "id": "e89ec20c",
   "metadata": {},
   "outputs": [
    {
     "data": {
      "text/plain": [
       "<AxesSubplot:xlabel='Газ 1'>"
      ]
     },
     "execution_count": 15,
     "metadata": {},
     "output_type": "execute_result"
    },
    {
     "data": {
      "image/png": "[encoded data removed]",
      "text/plain": [
       "<Figure size 432x288 with 1 Axes>"
      ]
     },
     "metadata": {
      "needs_background": "light"
     },
     "output_type": "display_data"
    }
   ],
   "source": [
    "sns.boxplot(data_gas['Газ 1'])"
   ]
  },
  {
   "cell_type": "markdown",
   "id": "83a51564",
   "metadata": {},
   "source": [
    "В таблице с данными о продувке сплава газом есть следущие особенности:\n",
    "- Выбросы (>24) оставим как есть\n",
    "\n",
    "Признак `Газ 1` войдет в сводную таблицу"
   ]
  },
  {
   "cell_type": "markdown",
   "id": "4aac930f",
   "metadata": {},
   "source": [
    "### Результаты измерения температуры"
   ]
  },
  {
   "cell_type": "code",
   "execution_count": 16,
   "id": "2c52042d",
   "metadata": {},
   "outputs": [],
   "source": [
    "try:\n",
    "    data_temp = pd.read_csv('/Users/dasha/Desktop/final_steel/data_temp.csv')\n",
    "except:\n",
    "    data_temp = pd.read_csv('/datasets/final_steel/data_temp.csv')"
   ]
  },
  {
   "cell_type": "code",
   "execution_count": 17,
   "id": "7c1d8deb",
   "metadata": {},
   "outputs": [
    {
     "data": {
      "text/html": [
       "<div>\n",
       "<style scoped>\n",
       "    .dataframe tbody tr th:only-of-type {\n",
       "        vertical-align: middle;\n",
       "    }\n",
       "\n",
       "    .dataframe tbody tr th {\n",
       "        vertical-align: top;\n",
       "    }\n",
       "\n",
       "    .dataframe thead th {\n",
       "        text-align: right;\n",
       "    }\n",
       "</style>\n",
       "<table border=\"1\" class=\"dataframe\">\n",
       "  <thead>\n",
       "    <tr style=\"text-align: right;\">\n",
       "      <th></th>\n",
       "      <th>key</th>\n",
       "      <th>Время замера</th>\n",
       "      <th>Температура</th>\n",
       "    </tr>\n",
       "  </thead>\n",
       "  <tbody>\n",
       "    <tr>\n",
       "      <th>0</th>\n",
       "      <td>1</td>\n",
       "      <td>2019-05-03 11:16:18</td>\n",
       "      <td>1571.0</td>\n",
       "    </tr>\n",
       "    <tr>\n",
       "      <th>1</th>\n",
       "      <td>1</td>\n",
       "      <td>2019-05-03 11:25:53</td>\n",
       "      <td>1604.0</td>\n",
       "    </tr>\n",
       "    <tr>\n",
       "      <th>2</th>\n",
       "      <td>1</td>\n",
       "      <td>2019-05-03 11:29:11</td>\n",
       "      <td>1618.0</td>\n",
       "    </tr>\n",
       "    <tr>\n",
       "      <th>3</th>\n",
       "      <td>1</td>\n",
       "      <td>2019-05-03 11:30:01</td>\n",
       "      <td>1601.0</td>\n",
       "    </tr>\n",
       "    <tr>\n",
       "      <th>4</th>\n",
       "      <td>1</td>\n",
       "      <td>2019-05-03 11:30:39</td>\n",
       "      <td>1613.0</td>\n",
       "    </tr>\n",
       "  </tbody>\n",
       "</table>\n",
       "</div>"
      ],
      "text/plain": [
       "   key         Время замера  Температура\n",
       "0    1  2019-05-03 11:16:18       1571.0\n",
       "1    1  2019-05-03 11:25:53       1604.0\n",
       "2    1  2019-05-03 11:29:11       1618.0\n",
       "3    1  2019-05-03 11:30:01       1601.0\n",
       "4    1  2019-05-03 11:30:39       1613.0"
      ]
     },
     "metadata": {},
     "output_type": "display_data"
    },
    {
     "name": "stdout",
     "output_type": "stream",
     "text": [
      "<class 'pandas.core.frame.DataFrame'>\n",
      "RangeIndex: 15907 entries, 0 to 15906\n",
      "Data columns (total 3 columns):\n",
      " #   Column        Non-Null Count  Dtype  \n",
      "---  ------        --------------  -----  \n",
      " 0   key           15907 non-null  int64  \n",
      " 1   Время замера  15907 non-null  object \n",
      " 2   Температура   13006 non-null  float64\n",
      "dtypes: float64(1), int64(1), object(1)\n",
      "memory usage: 372.9+ KB\n"
     ]
    },
    {
     "data": {
      "text/plain": [
       "None"
      ]
     },
     "metadata": {},
     "output_type": "display_data"
    },
    {
     "data": {
      "text/html": [
       "<div>\n",
       "<style scoped>\n",
       "    .dataframe tbody tr th:only-of-type {\n",
       "        vertical-align: middle;\n",
       "    }\n",
       "\n",
       "    .dataframe tbody tr th {\n",
       "        vertical-align: top;\n",
       "    }\n",
       "\n",
       "    .dataframe thead th {\n",
       "        text-align: right;\n",
       "    }\n",
       "</style>\n",
       "<table border=\"1\" class=\"dataframe\">\n",
       "  <thead>\n",
       "    <tr style=\"text-align: right;\">\n",
       "      <th></th>\n",
       "      <th>key</th>\n",
       "      <th>Температура</th>\n",
       "    </tr>\n",
       "  </thead>\n",
       "  <tbody>\n",
       "    <tr>\n",
       "      <th>count</th>\n",
       "      <td>15907.000000</td>\n",
       "      <td>13006.000000</td>\n",
       "    </tr>\n",
       "    <tr>\n",
       "      <th>mean</th>\n",
       "      <td>1607.880870</td>\n",
       "      <td>1591.840920</td>\n",
       "    </tr>\n",
       "    <tr>\n",
       "      <th>std</th>\n",
       "      <td>942.212073</td>\n",
       "      <td>21.375851</td>\n",
       "    </tr>\n",
       "    <tr>\n",
       "      <th>min</th>\n",
       "      <td>1.000000</td>\n",
       "      <td>1191.000000</td>\n",
       "    </tr>\n",
       "    <tr>\n",
       "      <th>25%</th>\n",
       "      <td>790.000000</td>\n",
       "      <td>1581.000000</td>\n",
       "    </tr>\n",
       "    <tr>\n",
       "      <th>50%</th>\n",
       "      <td>1618.000000</td>\n",
       "      <td>1591.000000</td>\n",
       "    </tr>\n",
       "    <tr>\n",
       "      <th>75%</th>\n",
       "      <td>2427.000000</td>\n",
       "      <td>1601.000000</td>\n",
       "    </tr>\n",
       "    <tr>\n",
       "      <th>max</th>\n",
       "      <td>3241.000000</td>\n",
       "      <td>1705.000000</td>\n",
       "    </tr>\n",
       "  </tbody>\n",
       "</table>\n",
       "</div>"
      ],
      "text/plain": [
       "                key   Температура\n",
       "count  15907.000000  13006.000000\n",
       "mean    1607.880870   1591.840920\n",
       "std      942.212073     21.375851\n",
       "min        1.000000   1191.000000\n",
       "25%      790.000000   1581.000000\n",
       "50%     1618.000000   1591.000000\n",
       "75%     2427.000000   1601.000000\n",
       "max     3241.000000   1705.000000"
      ]
     },
     "metadata": {},
     "output_type": "display_data"
    },
    {
     "name": "stdout",
     "output_type": "stream",
     "text": [
      "Количество строк-дубликатов:  0\n"
     ]
    }
   ],
   "source": [
    "data_temp = data_hi(data_temp)"
   ]
  },
  {
   "cell_type": "code",
   "execution_count": 18,
   "id": "ec2fab94",
   "metadata": {},
   "outputs": [
    {
     "data": {
      "text/plain": [
       "<AxesSubplot:xlabel='Температура'>"
      ]
     },
     "execution_count": 18,
     "metadata": {},
     "output_type": "execute_result"
    },
    {
     "data": {
      "image/png": "[encoded data removed]",
      "text/plain": [
       "<Figure size 432x288 with 1 Axes>"
      ]
     },
     "metadata": {
      "needs_background": "light"
     },
     "output_type": "display_data"
    }
   ],
   "source": [
    "sns.boxplot(data_temp['Температура'])"
   ]
  },
  {
   "cell_type": "markdown",
   "id": "5bb413e3",
   "metadata": {},
   "source": [
    "В таблице с данными о результатах измерения температуры есть следущие особенности:\n",
    "- типы данных в столбце `Время замера`  необходимо изменить на `datetime`,в столбце `Температура` - на `int`\n",
    "- выбросы - и левый,  и правый хвост.Строки со значениями температуры ниже 1400(температура плавления стали) - супервыбросы,необходимо удалить,так как сталь попадает в ковш уже в расплавленном состоянии и такие значения невозможны.\n",
    "- все партии с пропусками необходимо удалить,так как температура-целевой признак для обучения моделей\n",
    "\n",
    "Таблица содержит целевой признак - `температура розлива в слябы` и признак - `температура поступления стали в ковш`,их необходимо выделить в отдельные"
   ]
  },
  {
   "cell_type": "markdown",
   "id": "0fe29954",
   "metadata": {},
   "source": [
    "### Проволочные материалы : объём и время"
   ]
  },
  {
   "cell_type": "code",
   "execution_count": 19,
   "id": "91efa0bf",
   "metadata": {},
   "outputs": [],
   "source": [
    "try:\n",
    "    data_wire = pd.read_csv('/Users/dasha/Desktop/final_steel/data_wire.csv')\n",
    "except:\n",
    "    data_wire = pd.read_csv('/datasets/final_steel/data_wire.csv')"
   ]
  },
  {
   "cell_type": "code",
   "execution_count": 20,
   "id": "7e5b91f6",
   "metadata": {},
   "outputs": [
    {
     "data": {
      "text/html": [
       "<div>\n",
       "<style scoped>\n",
       "    .dataframe tbody tr th:only-of-type {\n",
       "        vertical-align: middle;\n",
       "    }\n",
       "\n",
       "    .dataframe tbody tr th {\n",
       "        vertical-align: top;\n",
       "    }\n",
       "\n",
       "    .dataframe thead th {\n",
       "        text-align: right;\n",
       "    }\n",
       "</style>\n",
       "<table border=\"1\" class=\"dataframe\">\n",
       "  <thead>\n",
       "    <tr style=\"text-align: right;\">\n",
       "      <th></th>\n",
       "      <th>key</th>\n",
       "      <th>Wire 1</th>\n",
       "      <th>Wire 2</th>\n",
       "      <th>Wire 3</th>\n",
       "      <th>Wire 4</th>\n",
       "      <th>Wire 5</th>\n",
       "      <th>Wire 6</th>\n",
       "      <th>Wire 7</th>\n",
       "      <th>Wire 8</th>\n",
       "      <th>Wire 9</th>\n",
       "    </tr>\n",
       "  </thead>\n",
       "  <tbody>\n",
       "    <tr>\n",
       "      <th>0</th>\n",
       "      <td>1</td>\n",
       "      <td>60.059998</td>\n",
       "      <td>NaN</td>\n",
       "      <td>NaN</td>\n",
       "      <td>NaN</td>\n",
       "      <td>NaN</td>\n",
       "      <td>NaN</td>\n",
       "      <td>NaN</td>\n",
       "      <td>NaN</td>\n",
       "      <td>NaN</td>\n",
       "    </tr>\n",
       "    <tr>\n",
       "      <th>1</th>\n",
       "      <td>2</td>\n",
       "      <td>96.052315</td>\n",
       "      <td>NaN</td>\n",
       "      <td>NaN</td>\n",
       "      <td>NaN</td>\n",
       "      <td>NaN</td>\n",
       "      <td>NaN</td>\n",
       "      <td>NaN</td>\n",
       "      <td>NaN</td>\n",
       "      <td>NaN</td>\n",
       "    </tr>\n",
       "    <tr>\n",
       "      <th>2</th>\n",
       "      <td>3</td>\n",
       "      <td>91.160157</td>\n",
       "      <td>NaN</td>\n",
       "      <td>NaN</td>\n",
       "      <td>NaN</td>\n",
       "      <td>NaN</td>\n",
       "      <td>NaN</td>\n",
       "      <td>NaN</td>\n",
       "      <td>NaN</td>\n",
       "      <td>NaN</td>\n",
       "    </tr>\n",
       "    <tr>\n",
       "      <th>3</th>\n",
       "      <td>4</td>\n",
       "      <td>89.063515</td>\n",
       "      <td>NaN</td>\n",
       "      <td>NaN</td>\n",
       "      <td>NaN</td>\n",
       "      <td>NaN</td>\n",
       "      <td>NaN</td>\n",
       "      <td>NaN</td>\n",
       "      <td>NaN</td>\n",
       "      <td>NaN</td>\n",
       "    </tr>\n",
       "    <tr>\n",
       "      <th>4</th>\n",
       "      <td>5</td>\n",
       "      <td>89.238236</td>\n",
       "      <td>9.11456</td>\n",
       "      <td>NaN</td>\n",
       "      <td>NaN</td>\n",
       "      <td>NaN</td>\n",
       "      <td>NaN</td>\n",
       "      <td>NaN</td>\n",
       "      <td>NaN</td>\n",
       "      <td>NaN</td>\n",
       "    </tr>\n",
       "  </tbody>\n",
       "</table>\n",
       "</div>"
      ],
      "text/plain": [
       "   key     Wire 1   Wire 2  Wire 3  Wire 4  Wire 5  Wire 6  Wire 7  Wire 8  \\\n",
       "0    1  60.059998      NaN     NaN     NaN     NaN     NaN     NaN     NaN   \n",
       "1    2  96.052315      NaN     NaN     NaN     NaN     NaN     NaN     NaN   \n",
       "2    3  91.160157      NaN     NaN     NaN     NaN     NaN     NaN     NaN   \n",
       "3    4  89.063515      NaN     NaN     NaN     NaN     NaN     NaN     NaN   \n",
       "4    5  89.238236  9.11456     NaN     NaN     NaN     NaN     NaN     NaN   \n",
       "\n",
       "   Wire 9  \n",
       "0     NaN  \n",
       "1     NaN  \n",
       "2     NaN  \n",
       "3     NaN  \n",
       "4     NaN  "
      ]
     },
     "metadata": {},
     "output_type": "display_data"
    },
    {
     "name": "stdout",
     "output_type": "stream",
     "text": [
      "<class 'pandas.core.frame.DataFrame'>\n",
      "RangeIndex: 3081 entries, 0 to 3080\n",
      "Data columns (total 10 columns):\n",
      " #   Column  Non-Null Count  Dtype  \n",
      "---  ------  --------------  -----  \n",
      " 0   key     3081 non-null   int64  \n",
      " 1   Wire 1  3055 non-null   float64\n",
      " 2   Wire 2  1079 non-null   float64\n",
      " 3   Wire 3  63 non-null     float64\n",
      " 4   Wire 4  14 non-null     float64\n",
      " 5   Wire 5  1 non-null      float64\n",
      " 6   Wire 6  73 non-null     float64\n",
      " 7   Wire 7  11 non-null     float64\n",
      " 8   Wire 8  19 non-null     float64\n",
      " 9   Wire 9  29 non-null     float64\n",
      "dtypes: float64(9), int64(1)\n",
      "memory usage: 240.8 KB\n"
     ]
    },
    {
     "data": {
      "text/plain": [
       "None"
      ]
     },
     "metadata": {},
     "output_type": "display_data"
    },
    {
     "data": {
      "text/html": [
       "<div>\n",
       "<style scoped>\n",
       "    .dataframe tbody tr th:only-of-type {\n",
       "        vertical-align: middle;\n",
       "    }\n",
       "\n",
       "    .dataframe tbody tr th {\n",
       "        vertical-align: top;\n",
       "    }\n",
       "\n",
       "    .dataframe thead th {\n",
       "        text-align: right;\n",
       "    }\n",
       "</style>\n",
       "<table border=\"1\" class=\"dataframe\">\n",
       "  <thead>\n",
       "    <tr style=\"text-align: right;\">\n",
       "      <th></th>\n",
       "      <th>key</th>\n",
       "      <th>Wire 1</th>\n",
       "      <th>Wire 2</th>\n",
       "      <th>Wire 3</th>\n",
       "      <th>Wire 4</th>\n",
       "      <th>Wire 5</th>\n",
       "      <th>Wire 6</th>\n",
       "      <th>Wire 7</th>\n",
       "      <th>Wire 8</th>\n",
       "      <th>Wire 9</th>\n",
       "    </tr>\n",
       "  </thead>\n",
       "  <tbody>\n",
       "    <tr>\n",
       "      <th>count</th>\n",
       "      <td>3081.000000</td>\n",
       "      <td>3055.000000</td>\n",
       "      <td>1079.000000</td>\n",
       "      <td>63.000000</td>\n",
       "      <td>14.000000</td>\n",
       "      <td>1.000</td>\n",
       "      <td>73.000000</td>\n",
       "      <td>11.000000</td>\n",
       "      <td>19.000000</td>\n",
       "      <td>29.000000</td>\n",
       "    </tr>\n",
       "    <tr>\n",
       "      <th>mean</th>\n",
       "      <td>1623.426485</td>\n",
       "      <td>100.895853</td>\n",
       "      <td>50.577323</td>\n",
       "      <td>189.482681</td>\n",
       "      <td>57.442841</td>\n",
       "      <td>15.132</td>\n",
       "      <td>48.016974</td>\n",
       "      <td>10.039007</td>\n",
       "      <td>53.625193</td>\n",
       "      <td>34.155752</td>\n",
       "    </tr>\n",
       "    <tr>\n",
       "      <th>std</th>\n",
       "      <td>932.996726</td>\n",
       "      <td>42.012518</td>\n",
       "      <td>39.320216</td>\n",
       "      <td>99.513444</td>\n",
       "      <td>28.824667</td>\n",
       "      <td>NaN</td>\n",
       "      <td>33.919845</td>\n",
       "      <td>8.610584</td>\n",
       "      <td>16.881728</td>\n",
       "      <td>19.931616</td>\n",
       "    </tr>\n",
       "    <tr>\n",
       "      <th>min</th>\n",
       "      <td>1.000000</td>\n",
       "      <td>1.918800</td>\n",
       "      <td>0.030160</td>\n",
       "      <td>0.144144</td>\n",
       "      <td>24.148801</td>\n",
       "      <td>15.132</td>\n",
       "      <td>0.034320</td>\n",
       "      <td>0.234208</td>\n",
       "      <td>45.076721</td>\n",
       "      <td>4.622800</td>\n",
       "    </tr>\n",
       "    <tr>\n",
       "      <th>25%</th>\n",
       "      <td>823.000000</td>\n",
       "      <td>72.115684</td>\n",
       "      <td>20.193680</td>\n",
       "      <td>95.135044</td>\n",
       "      <td>40.807002</td>\n",
       "      <td>15.132</td>\n",
       "      <td>25.053600</td>\n",
       "      <td>6.762756</td>\n",
       "      <td>46.094879</td>\n",
       "      <td>22.058401</td>\n",
       "    </tr>\n",
       "    <tr>\n",
       "      <th>50%</th>\n",
       "      <td>1619.000000</td>\n",
       "      <td>100.158234</td>\n",
       "      <td>40.142956</td>\n",
       "      <td>235.194977</td>\n",
       "      <td>45.234282</td>\n",
       "      <td>15.132</td>\n",
       "      <td>42.076324</td>\n",
       "      <td>9.017009</td>\n",
       "      <td>46.279999</td>\n",
       "      <td>30.066399</td>\n",
       "    </tr>\n",
       "    <tr>\n",
       "      <th>75%</th>\n",
       "      <td>2434.000000</td>\n",
       "      <td>126.060483</td>\n",
       "      <td>70.227558</td>\n",
       "      <td>276.252014</td>\n",
       "      <td>76.124619</td>\n",
       "      <td>15.132</td>\n",
       "      <td>64.212723</td>\n",
       "      <td>11.886057</td>\n",
       "      <td>48.089603</td>\n",
       "      <td>43.862003</td>\n",
       "    </tr>\n",
       "    <tr>\n",
       "      <th>max</th>\n",
       "      <td>3241.000000</td>\n",
       "      <td>330.314424</td>\n",
       "      <td>282.780152</td>\n",
       "      <td>385.008668</td>\n",
       "      <td>113.231044</td>\n",
       "      <td>15.132</td>\n",
       "      <td>180.454575</td>\n",
       "      <td>32.847674</td>\n",
       "      <td>102.762401</td>\n",
       "      <td>90.053604</td>\n",
       "    </tr>\n",
       "  </tbody>\n",
       "</table>\n",
       "</div>"
      ],
      "text/plain": [
       "               key       Wire 1       Wire 2      Wire 3      Wire 4  Wire 5  \\\n",
       "count  3081.000000  3055.000000  1079.000000   63.000000   14.000000   1.000   \n",
       "mean   1623.426485   100.895853    50.577323  189.482681   57.442841  15.132   \n",
       "std     932.996726    42.012518    39.320216   99.513444   28.824667     NaN   \n",
       "min       1.000000     1.918800     0.030160    0.144144   24.148801  15.132   \n",
       "25%     823.000000    72.115684    20.193680   95.135044   40.807002  15.132   \n",
       "50%    1619.000000   100.158234    40.142956  235.194977   45.234282  15.132   \n",
       "75%    2434.000000   126.060483    70.227558  276.252014   76.124619  15.132   \n",
       "max    3241.000000   330.314424   282.780152  385.008668  113.231044  15.132   \n",
       "\n",
       "           Wire 6     Wire 7      Wire 8     Wire 9  \n",
       "count   73.000000  11.000000   19.000000  29.000000  \n",
       "mean    48.016974  10.039007   53.625193  34.155752  \n",
       "std     33.919845   8.610584   16.881728  19.931616  \n",
       "min      0.034320   0.234208   45.076721   4.622800  \n",
       "25%     25.053600   6.762756   46.094879  22.058401  \n",
       "50%     42.076324   9.017009   46.279999  30.066399  \n",
       "75%     64.212723  11.886057   48.089603  43.862003  \n",
       "max    180.454575  32.847674  102.762401  90.053604  "
      ]
     },
     "metadata": {},
     "output_type": "display_data"
    },
    {
     "name": "stdout",
     "output_type": "stream",
     "text": [
      "Количество строк-дубликатов:  0\n"
     ]
    }
   ],
   "source": [
    "data_wire = data_hi(data_wire)"
   ]
  },
  {
   "cell_type": "markdown",
   "id": "fa0a6756",
   "metadata": {},
   "source": [
    "В таблице с данными об объёме проволочных материалов есть следущие особенности:\n",
    "- тип данных во всех столбцах `Wire` необходимо изменить на `int`\n",
    "- есть выбросы в части столбцов ,оставим их как есть\n",
    "- многочисленые пропуски во всех столбцах заменим на `0`,что будет обозначать, что сыпучий материал не добавлялся в ковш\n",
    "\n",
    "Все столбцы `Wire` войдут в сводную таблицу,редкие `Wire` объединим в один признак\n"
   ]
  },
  {
   "cell_type": "code",
   "execution_count": 21,
   "id": "1d5e2df3",
   "metadata": {},
   "outputs": [],
   "source": [
    "try:\n",
    "    data_wire_time = pd.read_csv('/Users/dasha/Desktop/final_steel/data_wire_time.csv')\n",
    "except:\n",
    "    data_wire_time = pd.read_csv('/datasets/final_steel/data_wire_time.csv')"
   ]
  },
  {
   "cell_type": "code",
   "execution_count": 22,
   "id": "9994cde6",
   "metadata": {},
   "outputs": [
    {
     "data": {
      "text/html": [
       "<div>\n",
       "<style scoped>\n",
       "    .dataframe tbody tr th:only-of-type {\n",
       "        vertical-align: middle;\n",
       "    }\n",
       "\n",
       "    .dataframe tbody tr th {\n",
       "        vertical-align: top;\n",
       "    }\n",
       "\n",
       "    .dataframe thead th {\n",
       "        text-align: right;\n",
       "    }\n",
       "</style>\n",
       "<table border=\"1\" class=\"dataframe\">\n",
       "  <thead>\n",
       "    <tr style=\"text-align: right;\">\n",
       "      <th></th>\n",
       "      <th>key</th>\n",
       "      <th>Wire 1</th>\n",
       "      <th>Wire 2</th>\n",
       "      <th>Wire 3</th>\n",
       "      <th>Wire 4</th>\n",
       "      <th>Wire 5</th>\n",
       "      <th>Wire 6</th>\n",
       "      <th>Wire 7</th>\n",
       "      <th>Wire 8</th>\n",
       "      <th>Wire 9</th>\n",
       "    </tr>\n",
       "  </thead>\n",
       "  <tbody>\n",
       "    <tr>\n",
       "      <th>0</th>\n",
       "      <td>1</td>\n",
       "      <td>2019-05-03 11:11:41</td>\n",
       "      <td>NaN</td>\n",
       "      <td>NaN</td>\n",
       "      <td>NaN</td>\n",
       "      <td>NaN</td>\n",
       "      <td>NaN</td>\n",
       "      <td>NaN</td>\n",
       "      <td>NaN</td>\n",
       "      <td>NaN</td>\n",
       "    </tr>\n",
       "    <tr>\n",
       "      <th>1</th>\n",
       "      <td>2</td>\n",
       "      <td>2019-05-03 11:46:10</td>\n",
       "      <td>NaN</td>\n",
       "      <td>NaN</td>\n",
       "      <td>NaN</td>\n",
       "      <td>NaN</td>\n",
       "      <td>NaN</td>\n",
       "      <td>NaN</td>\n",
       "      <td>NaN</td>\n",
       "      <td>NaN</td>\n",
       "    </tr>\n",
       "    <tr>\n",
       "      <th>2</th>\n",
       "      <td>3</td>\n",
       "      <td>2019-05-03 12:13:47</td>\n",
       "      <td>NaN</td>\n",
       "      <td>NaN</td>\n",
       "      <td>NaN</td>\n",
       "      <td>NaN</td>\n",
       "      <td>NaN</td>\n",
       "      <td>NaN</td>\n",
       "      <td>NaN</td>\n",
       "      <td>NaN</td>\n",
       "    </tr>\n",
       "    <tr>\n",
       "      <th>3</th>\n",
       "      <td>4</td>\n",
       "      <td>2019-05-03 12:48:05</td>\n",
       "      <td>NaN</td>\n",
       "      <td>NaN</td>\n",
       "      <td>NaN</td>\n",
       "      <td>NaN</td>\n",
       "      <td>NaN</td>\n",
       "      <td>NaN</td>\n",
       "      <td>NaN</td>\n",
       "      <td>NaN</td>\n",
       "    </tr>\n",
       "    <tr>\n",
       "      <th>4</th>\n",
       "      <td>5</td>\n",
       "      <td>2019-05-03 13:18:15</td>\n",
       "      <td>2019-05-03 13:32:06</td>\n",
       "      <td>NaN</td>\n",
       "      <td>NaN</td>\n",
       "      <td>NaN</td>\n",
       "      <td>NaN</td>\n",
       "      <td>NaN</td>\n",
       "      <td>NaN</td>\n",
       "      <td>NaN</td>\n",
       "    </tr>\n",
       "  </tbody>\n",
       "</table>\n",
       "</div>"
      ],
      "text/plain": [
       "   key               Wire 1               Wire 2 Wire 3 Wire 4 Wire 5 Wire 6  \\\n",
       "0    1  2019-05-03 11:11:41                  NaN    NaN    NaN    NaN    NaN   \n",
       "1    2  2019-05-03 11:46:10                  NaN    NaN    NaN    NaN    NaN   \n",
       "2    3  2019-05-03 12:13:47                  NaN    NaN    NaN    NaN    NaN   \n",
       "3    4  2019-05-03 12:48:05                  NaN    NaN    NaN    NaN    NaN   \n",
       "4    5  2019-05-03 13:18:15  2019-05-03 13:32:06    NaN    NaN    NaN    NaN   \n",
       "\n",
       "  Wire 7 Wire 8 Wire 9  \n",
       "0    NaN    NaN    NaN  \n",
       "1    NaN    NaN    NaN  \n",
       "2    NaN    NaN    NaN  \n",
       "3    NaN    NaN    NaN  \n",
       "4    NaN    NaN    NaN  "
      ]
     },
     "metadata": {},
     "output_type": "display_data"
    },
    {
     "name": "stdout",
     "output_type": "stream",
     "text": [
      "<class 'pandas.core.frame.DataFrame'>\n",
      "RangeIndex: 3081 entries, 0 to 3080\n",
      "Data columns (total 10 columns):\n",
      " #   Column  Non-Null Count  Dtype \n",
      "---  ------  --------------  ----- \n",
      " 0   key     3081 non-null   int64 \n",
      " 1   Wire 1  3055 non-null   object\n",
      " 2   Wire 2  1079 non-null   object\n",
      " 3   Wire 3  63 non-null     object\n",
      " 4   Wire 4  14 non-null     object\n",
      " 5   Wire 5  1 non-null      object\n",
      " 6   Wire 6  73 non-null     object\n",
      " 7   Wire 7  11 non-null     object\n",
      " 8   Wire 8  19 non-null     object\n",
      " 9   Wire 9  29 non-null     object\n",
      "dtypes: int64(1), object(9)\n",
      "memory usage: 240.8+ KB\n"
     ]
    },
    {
     "data": {
      "text/plain": [
       "None"
      ]
     },
     "metadata": {},
     "output_type": "display_data"
    },
    {
     "data": {
      "text/html": [
       "<div>\n",
       "<style scoped>\n",
       "    .dataframe tbody tr th:only-of-type {\n",
       "        vertical-align: middle;\n",
       "    }\n",
       "\n",
       "    .dataframe tbody tr th {\n",
       "        vertical-align: top;\n",
       "    }\n",
       "\n",
       "    .dataframe thead th {\n",
       "        text-align: right;\n",
       "    }\n",
       "</style>\n",
       "<table border=\"1\" class=\"dataframe\">\n",
       "  <thead>\n",
       "    <tr style=\"text-align: right;\">\n",
       "      <th></th>\n",
       "      <th>key</th>\n",
       "    </tr>\n",
       "  </thead>\n",
       "  <tbody>\n",
       "    <tr>\n",
       "      <th>count</th>\n",
       "      <td>3081.000000</td>\n",
       "    </tr>\n",
       "    <tr>\n",
       "      <th>mean</th>\n",
       "      <td>1623.426485</td>\n",
       "    </tr>\n",
       "    <tr>\n",
       "      <th>std</th>\n",
       "      <td>932.996726</td>\n",
       "    </tr>\n",
       "    <tr>\n",
       "      <th>min</th>\n",
       "      <td>1.000000</td>\n",
       "    </tr>\n",
       "    <tr>\n",
       "      <th>25%</th>\n",
       "      <td>823.000000</td>\n",
       "    </tr>\n",
       "    <tr>\n",
       "      <th>50%</th>\n",
       "      <td>1619.000000</td>\n",
       "    </tr>\n",
       "    <tr>\n",
       "      <th>75%</th>\n",
       "      <td>2434.000000</td>\n",
       "    </tr>\n",
       "    <tr>\n",
       "      <th>max</th>\n",
       "      <td>3241.000000</td>\n",
       "    </tr>\n",
       "  </tbody>\n",
       "</table>\n",
       "</div>"
      ],
      "text/plain": [
       "               key\n",
       "count  3081.000000\n",
       "mean   1623.426485\n",
       "std     932.996726\n",
       "min       1.000000\n",
       "25%     823.000000\n",
       "50%    1619.000000\n",
       "75%    2434.000000\n",
       "max    3241.000000"
      ]
     },
     "metadata": {},
     "output_type": "display_data"
    },
    {
     "name": "stdout",
     "output_type": "stream",
     "text": [
      "Количество строк-дубликатов:  0\n"
     ]
    }
   ],
   "source": [
    "data_wire_time = data_hi(data_wire_time)"
   ]
  },
  {
   "cell_type": "markdown",
   "id": "bd34a41c",
   "metadata": {},
   "source": [
    "Данные этой таблицы не понадобятся для обучения моделей."
   ]
  },
  {
   "cell_type": "markdown",
   "id": "05fbf616",
   "metadata": {},
   "source": [
    "#### Выводы"
   ]
  },
  {
   "cell_type": "markdown",
   "id": "1cad488d",
   "metadata": {},
   "source": [
    "Данные семи таблиц загружены .В пяти таблицах выявлены особенности, которые будут обработаны на следующем этапе.Две таблицы не понадобятся для обученя моделей. "
   ]
  },
  {
   "cell_type": "markdown",
   "id": "c41ce86e",
   "metadata": {},
   "source": [
    "## Предобработка данных"
   ]
  },
  {
   "cell_type": "markdown",
   "id": "1939c681",
   "metadata": {},
   "source": [
    "### Обработка выявленных особенностей в данных"
   ]
  },
  {
   "cell_type": "markdown",
   "id": "978aa1ec",
   "metadata": {},
   "source": [
    "#### Электроды"
   ]
  },
  {
   "cell_type": "code",
   "execution_count": 23,
   "id": "03f0fd0b",
   "metadata": {},
   "outputs": [],
   "source": [
    "data_arc['Начало нагрева дугой'] = pd.to_datetime(data_arc['Начало нагрева дугой'])\n",
    "data_arc['Конец нагрева дугой'] = pd.to_datetime(data_arc['Конец нагрева дугой'])"
   ]
  },
  {
   "cell_type": "code",
   "execution_count": 24,
   "id": "fc0725cf",
   "metadata": {},
   "outputs": [],
   "source": [
    "data_arc = data_arc[data_arc['Реактивная мощность'] > 0]\n",
    "data_arc = data_arc[data_arc['Активная мощность']  < 3.5]"
   ]
  },
  {
   "cell_type": "code",
   "execution_count": 25,
   "id": "c1e4ed15",
   "metadata": {},
   "outputs": [],
   "source": [
    "data_arc['Время нагрева дугой'] = data_arc['Конец нагрева дугой'] - data_arc['Начало нагрева дугой']"
   ]
  },
  {
   "cell_type": "code",
   "execution_count": 26,
   "id": "a88e6032",
   "metadata": {},
   "outputs": [],
   "source": [
    "full_power = np.sqrt(np.power(np.array(data_arc['Активная мощность']), 2) + np.power(np.array(data_arc['Реактивная мощность']), 2))\n",
    "data_arc['full_power'] = full_power"
   ]
  },
  {
   "cell_type": "code",
   "execution_count": 27,
   "id": "196016fa",
   "metadata": {},
   "outputs": [],
   "source": [
    "data_arc['arc_time'] = data_arc['Время нагрева дугой'].dt.seconds"
   ]
  },
  {
   "cell_type": "markdown",
   "id": "af3027c7",
   "metadata": {},
   "source": [
    "Создадим окончательный вариант таблицы `Электроды` с двумя признаками: `full_power` и `arc_time`"
   ]
  },
  {
   "cell_type": "code",
   "execution_count": 28,
   "id": "b6e9d854",
   "metadata": {},
   "outputs": [
    {
     "data": {
      "text/html": [
       "<div>\n",
       "<style scoped>\n",
       "    .dataframe tbody tr th:only-of-type {\n",
       "        vertical-align: middle;\n",
       "    }\n",
       "\n",
       "    .dataframe tbody tr th {\n",
       "        vertical-align: top;\n",
       "    }\n",
       "\n",
       "    .dataframe thead th {\n",
       "        text-align: right;\n",
       "    }\n",
       "</style>\n",
       "<table border=\"1\" class=\"dataframe\">\n",
       "  <thead>\n",
       "    <tr style=\"text-align: right;\">\n",
       "      <th></th>\n",
       "      <th>arc_time</th>\n",
       "      <th>full_power</th>\n",
       "    </tr>\n",
       "    <tr>\n",
       "      <th>key</th>\n",
       "      <th></th>\n",
       "      <th></th>\n",
       "    </tr>\n",
       "  </thead>\n",
       "  <tbody>\n",
       "    <tr>\n",
       "      <th>1</th>\n",
       "      <td>1098</td>\n",
       "      <td>5.826395</td>\n",
       "    </tr>\n",
       "    <tr>\n",
       "      <th>2</th>\n",
       "      <td>811</td>\n",
       "      <td>3.649216</td>\n",
       "    </tr>\n",
       "    <tr>\n",
       "      <th>3</th>\n",
       "      <td>655</td>\n",
       "      <td>2.989534</td>\n",
       "    </tr>\n",
       "    <tr>\n",
       "      <th>4</th>\n",
       "      <td>741</td>\n",
       "      <td>3.814962</td>\n",
       "    </tr>\n",
       "    <tr>\n",
       "      <th>5</th>\n",
       "      <td>869</td>\n",
       "      <td>4.035758</td>\n",
       "    </tr>\n",
       "    <tr>\n",
       "      <th>...</th>\n",
       "      <td>...</td>\n",
       "      <td>...</td>\n",
       "    </tr>\n",
       "    <tr>\n",
       "      <th>3237</th>\n",
       "      <td>909</td>\n",
       "      <td>4.844982</td>\n",
       "    </tr>\n",
       "    <tr>\n",
       "      <th>3238</th>\n",
       "      <td>546</td>\n",
       "      <td>2.696542</td>\n",
       "    </tr>\n",
       "    <tr>\n",
       "      <th>3239</th>\n",
       "      <td>1216</td>\n",
       "      <td>5.611883</td>\n",
       "    </tr>\n",
       "    <tr>\n",
       "      <th>3240</th>\n",
       "      <td>839</td>\n",
       "      <td>3.891856</td>\n",
       "    </tr>\n",
       "    <tr>\n",
       "      <th>3241</th>\n",
       "      <td>659</td>\n",
       "      <td>2.999516</td>\n",
       "    </tr>\n",
       "  </tbody>\n",
       "</table>\n",
       "<p>3214 rows × 2 columns</p>\n",
       "</div>"
      ],
      "text/plain": [
       "      arc_time  full_power\n",
       "key                       \n",
       "1         1098    5.826395\n",
       "2          811    3.649216\n",
       "3          655    2.989534\n",
       "4          741    3.814962\n",
       "5          869    4.035758\n",
       "...        ...         ...\n",
       "3237       909    4.844982\n",
       "3238       546    2.696542\n",
       "3239      1216    5.611883\n",
       "3240       839    3.891856\n",
       "3241       659    2.999516\n",
       "\n",
       "[3214 rows x 2 columns]"
      ]
     },
     "execution_count": 28,
     "metadata": {},
     "output_type": "execute_result"
    }
   ],
   "source": [
    "data_arc = pd.pivot_table(data_arc,\n",
    "                             values = ['full_power','arc_time'],\n",
    "                             index = 'key',\n",
    "                             aggfunc = np.sum)\n",
    "\n",
    "data_arc"
   ]
  },
  {
   "cell_type": "markdown",
   "id": "e6594b6f",
   "metadata": {},
   "source": [
    "#### Сыпучие материалы"
   ]
  },
  {
   "cell_type": "code",
   "execution_count": 29,
   "id": "1bc76477",
   "metadata": {},
   "outputs": [],
   "source": [
    "data_bulk = data_bulk.fillna(0)"
   ]
  },
  {
   "cell_type": "code",
   "execution_count": 30,
   "id": "3c7cf1c4",
   "metadata": {},
   "outputs": [],
   "source": [
    "data_bulk = data_bulk.astype('int64')"
   ]
  },
  {
   "cell_type": "markdown",
   "id": "5abd7161",
   "metadata": {},
   "source": [
    "Редкие присадки(<1% от 3129) объединим в столбец `rare_bulk`"
   ]
  },
  {
   "cell_type": "code",
   "execution_count": 31,
   "id": "77459bb5",
   "metadata": {},
   "outputs": [],
   "source": [
    "data_bulk['rare_bulk'] = data_bulk['Bulk 2'] + data_bulk['Bulk 7'] + data_bulk['Bulk 8'] + data_bulk['Bulk 9'] + data_bulk['Bulk 13']\n",
    "data_bulk.drop(['Bulk 2','Bulk 7', 'Bulk 8','Bulk 9','Bulk 13'], axis= 1 , inplace= True )"
   ]
  },
  {
   "cell_type": "markdown",
   "id": "3cbc1cbf",
   "metadata": {},
   "source": [
    "Создадим окончательный вариант таблицы `Сыпучие материалы` с 11-тью признаками:"
   ]
  },
  {
   "cell_type": "code",
   "execution_count": 32,
   "id": "108de9d3",
   "metadata": {},
   "outputs": [
    {
     "data": {
      "text/html": [
       "<div>\n",
       "<style scoped>\n",
       "    .dataframe tbody tr th:only-of-type {\n",
       "        vertical-align: middle;\n",
       "    }\n",
       "\n",
       "    .dataframe tbody tr th {\n",
       "        vertical-align: top;\n",
       "    }\n",
       "\n",
       "    .dataframe thead th {\n",
       "        text-align: right;\n",
       "    }\n",
       "</style>\n",
       "<table border=\"1\" class=\"dataframe\">\n",
       "  <thead>\n",
       "    <tr style=\"text-align: right;\">\n",
       "      <th></th>\n",
       "      <th>Bulk 1</th>\n",
       "      <th>Bulk 3</th>\n",
       "      <th>Bulk 4</th>\n",
       "      <th>Bulk 5</th>\n",
       "      <th>Bulk 6</th>\n",
       "      <th>Bulk 10</th>\n",
       "      <th>Bulk 11</th>\n",
       "      <th>Bulk 12</th>\n",
       "      <th>Bulk 14</th>\n",
       "      <th>Bulk 15</th>\n",
       "      <th>rare_bulk</th>\n",
       "    </tr>\n",
       "    <tr>\n",
       "      <th>key</th>\n",
       "      <th></th>\n",
       "      <th></th>\n",
       "      <th></th>\n",
       "      <th></th>\n",
       "      <th></th>\n",
       "      <th></th>\n",
       "      <th></th>\n",
       "      <th></th>\n",
       "      <th></th>\n",
       "      <th></th>\n",
       "      <th></th>\n",
       "    </tr>\n",
       "  </thead>\n",
       "  <tbody>\n",
       "    <tr>\n",
       "      <th>1</th>\n",
       "      <td>0</td>\n",
       "      <td>0</td>\n",
       "      <td>43</td>\n",
       "      <td>0</td>\n",
       "      <td>0</td>\n",
       "      <td>0</td>\n",
       "      <td>0</td>\n",
       "      <td>206</td>\n",
       "      <td>150</td>\n",
       "      <td>154</td>\n",
       "      <td>0</td>\n",
       "    </tr>\n",
       "    <tr>\n",
       "      <th>2</th>\n",
       "      <td>0</td>\n",
       "      <td>0</td>\n",
       "      <td>73</td>\n",
       "      <td>0</td>\n",
       "      <td>0</td>\n",
       "      <td>0</td>\n",
       "      <td>0</td>\n",
       "      <td>206</td>\n",
       "      <td>149</td>\n",
       "      <td>154</td>\n",
       "      <td>0</td>\n",
       "    </tr>\n",
       "    <tr>\n",
       "      <th>3</th>\n",
       "      <td>0</td>\n",
       "      <td>0</td>\n",
       "      <td>34</td>\n",
       "      <td>0</td>\n",
       "      <td>0</td>\n",
       "      <td>0</td>\n",
       "      <td>0</td>\n",
       "      <td>205</td>\n",
       "      <td>152</td>\n",
       "      <td>153</td>\n",
       "      <td>0</td>\n",
       "    </tr>\n",
       "    <tr>\n",
       "      <th>4</th>\n",
       "      <td>0</td>\n",
       "      <td>0</td>\n",
       "      <td>81</td>\n",
       "      <td>0</td>\n",
       "      <td>0</td>\n",
       "      <td>0</td>\n",
       "      <td>0</td>\n",
       "      <td>207</td>\n",
       "      <td>153</td>\n",
       "      <td>154</td>\n",
       "      <td>0</td>\n",
       "    </tr>\n",
       "    <tr>\n",
       "      <th>5</th>\n",
       "      <td>0</td>\n",
       "      <td>0</td>\n",
       "      <td>78</td>\n",
       "      <td>0</td>\n",
       "      <td>0</td>\n",
       "      <td>0</td>\n",
       "      <td>0</td>\n",
       "      <td>203</td>\n",
       "      <td>151</td>\n",
       "      <td>152</td>\n",
       "      <td>0</td>\n",
       "    </tr>\n",
       "    <tr>\n",
       "      <th>...</th>\n",
       "      <td>...</td>\n",
       "      <td>...</td>\n",
       "      <td>...</td>\n",
       "      <td>...</td>\n",
       "      <td>...</td>\n",
       "      <td>...</td>\n",
       "      <td>...</td>\n",
       "      <td>...</td>\n",
       "      <td>...</td>\n",
       "      <td>...</td>\n",
       "      <td>...</td>\n",
       "    </tr>\n",
       "    <tr>\n",
       "      <th>3237</th>\n",
       "      <td>0</td>\n",
       "      <td>170</td>\n",
       "      <td>0</td>\n",
       "      <td>0</td>\n",
       "      <td>0</td>\n",
       "      <td>0</td>\n",
       "      <td>0</td>\n",
       "      <td>252</td>\n",
       "      <td>130</td>\n",
       "      <td>206</td>\n",
       "      <td>0</td>\n",
       "    </tr>\n",
       "    <tr>\n",
       "      <th>3238</th>\n",
       "      <td>0</td>\n",
       "      <td>126</td>\n",
       "      <td>0</td>\n",
       "      <td>0</td>\n",
       "      <td>0</td>\n",
       "      <td>0</td>\n",
       "      <td>0</td>\n",
       "      <td>254</td>\n",
       "      <td>108</td>\n",
       "      <td>106</td>\n",
       "      <td>0</td>\n",
       "    </tr>\n",
       "    <tr>\n",
       "      <th>3239</th>\n",
       "      <td>0</td>\n",
       "      <td>0</td>\n",
       "      <td>0</td>\n",
       "      <td>0</td>\n",
       "      <td>114</td>\n",
       "      <td>0</td>\n",
       "      <td>0</td>\n",
       "      <td>158</td>\n",
       "      <td>270</td>\n",
       "      <td>88</td>\n",
       "      <td>0</td>\n",
       "    </tr>\n",
       "    <tr>\n",
       "      <th>3240</th>\n",
       "      <td>0</td>\n",
       "      <td>0</td>\n",
       "      <td>0</td>\n",
       "      <td>0</td>\n",
       "      <td>26</td>\n",
       "      <td>0</td>\n",
       "      <td>0</td>\n",
       "      <td>0</td>\n",
       "      <td>192</td>\n",
       "      <td>54</td>\n",
       "      <td>0</td>\n",
       "    </tr>\n",
       "    <tr>\n",
       "      <th>3241</th>\n",
       "      <td>0</td>\n",
       "      <td>0</td>\n",
       "      <td>0</td>\n",
       "      <td>0</td>\n",
       "      <td>0</td>\n",
       "      <td>0</td>\n",
       "      <td>0</td>\n",
       "      <td>0</td>\n",
       "      <td>180</td>\n",
       "      <td>52</td>\n",
       "      <td>0</td>\n",
       "    </tr>\n",
       "  </tbody>\n",
       "</table>\n",
       "<p>3129 rows × 11 columns</p>\n",
       "</div>"
      ],
      "text/plain": [
       "      Bulk 1  Bulk 3  Bulk 4  Bulk 5  Bulk 6  Bulk 10  Bulk 11  Bulk 12  \\\n",
       "key                                                                       \n",
       "1          0       0      43       0       0        0        0      206   \n",
       "2          0       0      73       0       0        0        0      206   \n",
       "3          0       0      34       0       0        0        0      205   \n",
       "4          0       0      81       0       0        0        0      207   \n",
       "5          0       0      78       0       0        0        0      203   \n",
       "...      ...     ...     ...     ...     ...      ...      ...      ...   \n",
       "3237       0     170       0       0       0        0        0      252   \n",
       "3238       0     126       0       0       0        0        0      254   \n",
       "3239       0       0       0       0     114        0        0      158   \n",
       "3240       0       0       0       0      26        0        0        0   \n",
       "3241       0       0       0       0       0        0        0        0   \n",
       "\n",
       "      Bulk 14  Bulk 15  rare_bulk  \n",
       "key                                \n",
       "1         150      154          0  \n",
       "2         149      154          0  \n",
       "3         152      153          0  \n",
       "4         153      154          0  \n",
       "5         151      152          0  \n",
       "...       ...      ...        ...  \n",
       "3237      130      206          0  \n",
       "3238      108      106          0  \n",
       "3239      270       88          0  \n",
       "3240      192       54          0  \n",
       "3241      180       52          0  \n",
       "\n",
       "[3129 rows x 11 columns]"
      ]
     },
     "execution_count": 32,
     "metadata": {},
     "output_type": "execute_result"
    }
   ],
   "source": [
    "data_bulk.set_index('key',inplace = True)\n",
    "data_bulk"
   ]
  },
  {
   "cell_type": "markdown",
   "id": "96475fa4",
   "metadata": {},
   "source": [
    "#### Продувка сплава газом(объём на партию)"
   ]
  },
  {
   "cell_type": "markdown",
   "id": "723e9b99",
   "metadata": {},
   "source": [
    "Окончательный вариант таблицы `Газ` содержит 1 признак"
   ]
  },
  {
   "cell_type": "code",
   "execution_count": 33,
   "id": "efab235a",
   "metadata": {},
   "outputs": [],
   "source": [
    "data_gas.set_index('key',inplace = True)"
   ]
  },
  {
   "cell_type": "code",
   "execution_count": 34,
   "id": "196a50f8",
   "metadata": {},
   "outputs": [
    {
     "data": {
      "text/html": [
       "<div>\n",
       "<style scoped>\n",
       "    .dataframe tbody tr th:only-of-type {\n",
       "        vertical-align: middle;\n",
       "    }\n",
       "\n",
       "    .dataframe tbody tr th {\n",
       "        vertical-align: top;\n",
       "    }\n",
       "\n",
       "    .dataframe thead th {\n",
       "        text-align: right;\n",
       "    }\n",
       "</style>\n",
       "<table border=\"1\" class=\"dataframe\">\n",
       "  <thead>\n",
       "    <tr style=\"text-align: right;\">\n",
       "      <th></th>\n",
       "      <th>Газ 1</th>\n",
       "    </tr>\n",
       "    <tr>\n",
       "      <th>key</th>\n",
       "      <th></th>\n",
       "    </tr>\n",
       "  </thead>\n",
       "  <tbody>\n",
       "    <tr>\n",
       "      <th>1</th>\n",
       "      <td>29.749986</td>\n",
       "    </tr>\n",
       "    <tr>\n",
       "      <th>2</th>\n",
       "      <td>12.555561</td>\n",
       "    </tr>\n",
       "    <tr>\n",
       "      <th>3</th>\n",
       "      <td>28.554793</td>\n",
       "    </tr>\n",
       "    <tr>\n",
       "      <th>4</th>\n",
       "      <td>18.841219</td>\n",
       "    </tr>\n",
       "    <tr>\n",
       "      <th>5</th>\n",
       "      <td>5.413692</td>\n",
       "    </tr>\n",
       "    <tr>\n",
       "      <th>...</th>\n",
       "      <td>...</td>\n",
       "    </tr>\n",
       "    <tr>\n",
       "      <th>3237</th>\n",
       "      <td>5.543905</td>\n",
       "    </tr>\n",
       "    <tr>\n",
       "      <th>3238</th>\n",
       "      <td>6.745669</td>\n",
       "    </tr>\n",
       "    <tr>\n",
       "      <th>3239</th>\n",
       "      <td>16.023518</td>\n",
       "    </tr>\n",
       "    <tr>\n",
       "      <th>3240</th>\n",
       "      <td>11.863103</td>\n",
       "    </tr>\n",
       "    <tr>\n",
       "      <th>3241</th>\n",
       "      <td>12.680959</td>\n",
       "    </tr>\n",
       "  </tbody>\n",
       "</table>\n",
       "<p>3239 rows × 1 columns</p>\n",
       "</div>"
      ],
      "text/plain": [
       "          Газ 1\n",
       "key            \n",
       "1     29.749986\n",
       "2     12.555561\n",
       "3     28.554793\n",
       "4     18.841219\n",
       "5      5.413692\n",
       "...         ...\n",
       "3237   5.543905\n",
       "3238   6.745669\n",
       "3239  16.023518\n",
       "3240  11.863103\n",
       "3241  12.680959\n",
       "\n",
       "[3239 rows x 1 columns]"
      ]
     },
     "execution_count": 34,
     "metadata": {},
     "output_type": "execute_result"
    }
   ],
   "source": [
    "data_gas"
   ]
  },
  {
   "cell_type": "markdown",
   "id": "66f883bf",
   "metadata": {},
   "source": [
    "#### Результаты измерения температуры"
   ]
  },
  {
   "cell_type": "code",
   "execution_count": 35,
   "id": "725c5dac",
   "metadata": {},
   "outputs": [],
   "source": [
    "data_temp.dropna(inplace = True)"
   ]
  },
  {
   "cell_type": "code",
   "execution_count": 36,
   "id": "d9a61573",
   "metadata": {},
   "outputs": [],
   "source": [
    "data_temp['Время замера'] = pd.to_datetime(data_temp['Время замера'])\n",
    "data_temp['Температура'] = data_temp['Температура'].astype('int64')"
   ]
  },
  {
   "cell_type": "code",
   "execution_count": 37,
   "id": "2873bfbb",
   "metadata": {},
   "outputs": [],
   "source": [
    "data_temp = data_temp[data_temp['Температура'] > 1400]"
   ]
  },
  {
   "cell_type": "code",
   "execution_count": 38,
   "id": "cbf71172",
   "metadata": {},
   "outputs": [
    {
     "data": {
      "text/html": [
       "<div>\n",
       "<style scoped>\n",
       "    .dataframe tbody tr th:only-of-type {\n",
       "        vertical-align: middle;\n",
       "    }\n",
       "\n",
       "    .dataframe tbody tr th {\n",
       "        vertical-align: top;\n",
       "    }\n",
       "\n",
       "    .dataframe thead th {\n",
       "        text-align: right;\n",
       "    }\n",
       "</style>\n",
       "<table border=\"1\" class=\"dataframe\">\n",
       "  <thead>\n",
       "    <tr style=\"text-align: right;\">\n",
       "      <th></th>\n",
       "      <th>key</th>\n",
       "      <th>Время замера</th>\n",
       "      <th>Температура</th>\n",
       "    </tr>\n",
       "  </thead>\n",
       "  <tbody>\n",
       "    <tr>\n",
       "      <th>0</th>\n",
       "      <td>1</td>\n",
       "      <td>2019-05-03 11:16:18</td>\n",
       "      <td>1571</td>\n",
       "    </tr>\n",
       "    <tr>\n",
       "      <th>1</th>\n",
       "      <td>1</td>\n",
       "      <td>2019-05-03 11:25:53</td>\n",
       "      <td>1604</td>\n",
       "    </tr>\n",
       "    <tr>\n",
       "      <th>2</th>\n",
       "      <td>1</td>\n",
       "      <td>2019-05-03 11:29:11</td>\n",
       "      <td>1618</td>\n",
       "    </tr>\n",
       "    <tr>\n",
       "      <th>3</th>\n",
       "      <td>1</td>\n",
       "      <td>2019-05-03 11:30:01</td>\n",
       "      <td>1601</td>\n",
       "    </tr>\n",
       "    <tr>\n",
       "      <th>4</th>\n",
       "      <td>1</td>\n",
       "      <td>2019-05-03 11:30:39</td>\n",
       "      <td>1613</td>\n",
       "    </tr>\n",
       "    <tr>\n",
       "      <th>...</th>\n",
       "      <td>...</td>\n",
       "      <td>...</td>\n",
       "      <td>...</td>\n",
       "    </tr>\n",
       "    <tr>\n",
       "      <th>15878</th>\n",
       "      <td>3237</td>\n",
       "      <td>2019-08-31 22:44:04</td>\n",
       "      <td>1569</td>\n",
       "    </tr>\n",
       "    <tr>\n",
       "      <th>15883</th>\n",
       "      <td>3238</td>\n",
       "      <td>2019-08-31 23:30:31</td>\n",
       "      <td>1584</td>\n",
       "    </tr>\n",
       "    <tr>\n",
       "      <th>15886</th>\n",
       "      <td>3239</td>\n",
       "      <td>2019-09-01 01:31:47</td>\n",
       "      <td>1598</td>\n",
       "    </tr>\n",
       "    <tr>\n",
       "      <th>15894</th>\n",
       "      <td>3240</td>\n",
       "      <td>2019-09-01 02:39:01</td>\n",
       "      <td>1617</td>\n",
       "    </tr>\n",
       "    <tr>\n",
       "      <th>15902</th>\n",
       "      <td>3241</td>\n",
       "      <td>2019-09-01 04:03:30</td>\n",
       "      <td>1586</td>\n",
       "    </tr>\n",
       "  </tbody>\n",
       "</table>\n",
       "<p>12999 rows × 3 columns</p>\n",
       "</div>"
      ],
      "text/plain": [
       "        key        Время замера  Температура\n",
       "0         1 2019-05-03 11:16:18         1571\n",
       "1         1 2019-05-03 11:25:53         1604\n",
       "2         1 2019-05-03 11:29:11         1618\n",
       "3         1 2019-05-03 11:30:01         1601\n",
       "4         1 2019-05-03 11:30:39         1613\n",
       "...     ...                 ...          ...\n",
       "15878  3237 2019-08-31 22:44:04         1569\n",
       "15883  3238 2019-08-31 23:30:31         1584\n",
       "15886  3239 2019-09-01 01:31:47         1598\n",
       "15894  3240 2019-09-01 02:39:01         1617\n",
       "15902  3241 2019-09-01 04:03:30         1586\n",
       "\n",
       "[12999 rows x 3 columns]"
      ]
     },
     "execution_count": 38,
     "metadata": {},
     "output_type": "execute_result"
    }
   ],
   "source": [
    "data_temp.sort_values(by=['key', 'Время замера'])"
   ]
  },
  {
   "cell_type": "code",
   "execution_count": 39,
   "id": "3ca539a4",
   "metadata": {},
   "outputs": [],
   "source": [
    "data_temp.drop(['Время замера'], axis= 1 , inplace= True )"
   ]
  },
  {
   "cell_type": "markdown",
   "id": "c58126f9",
   "metadata": {},
   "source": [
    "Оставим только те партии, в которых есть как минимум 2 замера температуры"
   ]
  },
  {
   "cell_type": "code",
   "execution_count": 40,
   "id": "e620ff23",
   "metadata": {},
   "outputs": [],
   "source": [
    "counts = data_temp['key'].value_counts()\n",
    "data_temp = data_temp[data_temp['key'].isin(counts [counts>=2].index)]"
   ]
  },
  {
   "cell_type": "markdown",
   "id": "3545bcf2",
   "metadata": {},
   "source": [
    "Оставим только первый и последний замеры температуры по каждой партии"
   ]
  },
  {
   "cell_type": "code",
   "execution_count": 41,
   "id": "b8d17b38",
   "metadata": {},
   "outputs": [],
   "source": [
    "data_temp = data_temp.groupby('key').apply(lambda x:x.iloc[[0,-1]])"
   ]
  },
  {
   "cell_type": "code",
   "execution_count": 42,
   "id": "716f3c6e",
   "metadata": {},
   "outputs": [],
   "source": [
    "ft_dict = {} \n",
    "st_dict = {} \n",
    "\n",
    "for index, row in data_temp.iterrows():\n",
    "    if row['key'] not in ft_dict: \n",
    "        ft_dict[row['key']] = row['Температура']\n",
    "    else:\n",
    "        st_dict[row['key']] = row['Температура']\n",
    "        \n",
    "\n",
    "data_temp = pd.DataFrame({'key': list(ft_dict.keys()), 'first_temperature': list(ft_dict.values()), 'second_temperature': list(st_dict.values())})"
   ]
  },
  {
   "cell_type": "markdown",
   "id": "932aca4f",
   "metadata": {},
   "source": [
    "Окончательный вариант таблицы `Температура ` содержит 1 признак и таргет(`last_temperature`)"
   ]
  },
  {
   "cell_type": "code",
   "execution_count": 43,
   "id": "57de7a52",
   "metadata": {},
   "outputs": [
    {
     "data": {
      "text/html": [
       "<div>\n",
       "<style scoped>\n",
       "    .dataframe tbody tr th:only-of-type {\n",
       "        vertical-align: middle;\n",
       "    }\n",
       "\n",
       "    .dataframe tbody tr th {\n",
       "        vertical-align: top;\n",
       "    }\n",
       "\n",
       "    .dataframe thead th {\n",
       "        text-align: right;\n",
       "    }\n",
       "</style>\n",
       "<table border=\"1\" class=\"dataframe\">\n",
       "  <thead>\n",
       "    <tr style=\"text-align: right;\">\n",
       "      <th></th>\n",
       "      <th>first_temperature</th>\n",
       "      <th>second_temperature</th>\n",
       "    </tr>\n",
       "    <tr>\n",
       "      <th>key</th>\n",
       "      <th></th>\n",
       "      <th></th>\n",
       "    </tr>\n",
       "  </thead>\n",
       "  <tbody>\n",
       "    <tr>\n",
       "      <th>1</th>\n",
       "      <td>1571</td>\n",
       "      <td>1613</td>\n",
       "    </tr>\n",
       "    <tr>\n",
       "      <th>2</th>\n",
       "      <td>1581</td>\n",
       "      <td>1602</td>\n",
       "    </tr>\n",
       "    <tr>\n",
       "      <th>3</th>\n",
       "      <td>1596</td>\n",
       "      <td>1599</td>\n",
       "    </tr>\n",
       "    <tr>\n",
       "      <th>4</th>\n",
       "      <td>1601</td>\n",
       "      <td>1625</td>\n",
       "    </tr>\n",
       "    <tr>\n",
       "      <th>5</th>\n",
       "      <td>1576</td>\n",
       "      <td>1602</td>\n",
       "    </tr>\n",
       "    <tr>\n",
       "      <th>...</th>\n",
       "      <td>...</td>\n",
       "      <td>...</td>\n",
       "    </tr>\n",
       "    <tr>\n",
       "      <th>2495</th>\n",
       "      <td>1570</td>\n",
       "      <td>1591</td>\n",
       "    </tr>\n",
       "    <tr>\n",
       "      <th>2496</th>\n",
       "      <td>1554</td>\n",
       "      <td>1591</td>\n",
       "    </tr>\n",
       "    <tr>\n",
       "      <th>2497</th>\n",
       "      <td>1571</td>\n",
       "      <td>1589</td>\n",
       "    </tr>\n",
       "    <tr>\n",
       "      <th>2498</th>\n",
       "      <td>1591</td>\n",
       "      <td>1594</td>\n",
       "    </tr>\n",
       "    <tr>\n",
       "      <th>2499</th>\n",
       "      <td>1569</td>\n",
       "      <td>1603</td>\n",
       "    </tr>\n",
       "  </tbody>\n",
       "</table>\n",
       "<p>2475 rows × 2 columns</p>\n",
       "</div>"
      ],
      "text/plain": [
       "      first_temperature  second_temperature\n",
       "key                                        \n",
       "1                  1571                1613\n",
       "2                  1581                1602\n",
       "3                  1596                1599\n",
       "4                  1601                1625\n",
       "5                  1576                1602\n",
       "...                 ...                 ...\n",
       "2495               1570                1591\n",
       "2496               1554                1591\n",
       "2497               1571                1589\n",
       "2498               1591                1594\n",
       "2499               1569                1603\n",
       "\n",
       "[2475 rows x 2 columns]"
      ]
     },
     "execution_count": 43,
     "metadata": {},
     "output_type": "execute_result"
    }
   ],
   "source": [
    "data_temp.set_index('key',inplace = True)\n",
    "data_temp"
   ]
  },
  {
   "cell_type": "markdown",
   "id": "15de9973",
   "metadata": {},
   "source": [
    "<div class=\"alert alert-success\" style=\"border-color: green; border-radius: 5px\">\n",
    "    <p><u><b>✅ КОММЕНТАРИЙ ТИМЛИДА 3</b></u></p>\n",
    "    <p>ПРИНЯТО! Это важная часть проекта!</p>\n",
    "</div"
   ]
  },
  {
   "cell_type": "markdown",
   "id": "c5e22e29",
   "metadata": {},
   "source": [
    "#### Проволочные материалы"
   ]
  },
  {
   "cell_type": "code",
   "execution_count": 44,
   "id": "0bb2d3eb",
   "metadata": {},
   "outputs": [],
   "source": [
    "data_wire = data_wire.fillna(0)"
   ]
  },
  {
   "cell_type": "code",
   "execution_count": 45,
   "id": "7e446b49",
   "metadata": {},
   "outputs": [],
   "source": [
    "data_wire = data_wire.astype('int64')"
   ]
  },
  {
   "cell_type": "markdown",
   "id": "82c16dae",
   "metadata": {},
   "source": [
    "Редкие присадки(<1% от 3081) объединим в столбец rare_wire"
   ]
  },
  {
   "cell_type": "code",
   "execution_count": 46,
   "id": "9b120ccb",
   "metadata": {},
   "outputs": [],
   "source": [
    "data_wire['rare_wire'] = data_wire['Wire 4'] + data_wire['Wire 5'] + data_wire['Wire 7'] + data_wire['Wire 8'] + data_wire['Wire 9']\n",
    "data_wire.drop(['Wire 4','Wire 5', 'Wire 7','Wire 8','Wire 9'], axis= 1 , inplace= True )"
   ]
  },
  {
   "cell_type": "markdown",
   "id": "1a107f01",
   "metadata": {},
   "source": [
    "Создадим окончательный вариант таблицы `Проволочные материалы` с 5-тью признаками:"
   ]
  },
  {
   "cell_type": "code",
   "execution_count": 47,
   "id": "f0c0e165",
   "metadata": {},
   "outputs": [
    {
     "data": {
      "text/html": [
       "<div>\n",
       "<style scoped>\n",
       "    .dataframe tbody tr th:only-of-type {\n",
       "        vertical-align: middle;\n",
       "    }\n",
       "\n",
       "    .dataframe tbody tr th {\n",
       "        vertical-align: top;\n",
       "    }\n",
       "\n",
       "    .dataframe thead th {\n",
       "        text-align: right;\n",
       "    }\n",
       "</style>\n",
       "<table border=\"1\" class=\"dataframe\">\n",
       "  <thead>\n",
       "    <tr style=\"text-align: right;\">\n",
       "      <th></th>\n",
       "      <th>Wire 1</th>\n",
       "      <th>Wire 2</th>\n",
       "      <th>Wire 3</th>\n",
       "      <th>Wire 6</th>\n",
       "      <th>rare_wire</th>\n",
       "    </tr>\n",
       "    <tr>\n",
       "      <th>key</th>\n",
       "      <th></th>\n",
       "      <th></th>\n",
       "      <th></th>\n",
       "      <th></th>\n",
       "      <th></th>\n",
       "    </tr>\n",
       "  </thead>\n",
       "  <tbody>\n",
       "    <tr>\n",
       "      <th>1</th>\n",
       "      <td>60</td>\n",
       "      <td>0</td>\n",
       "      <td>0</td>\n",
       "      <td>0</td>\n",
       "      <td>0</td>\n",
       "    </tr>\n",
       "    <tr>\n",
       "      <th>2</th>\n",
       "      <td>96</td>\n",
       "      <td>0</td>\n",
       "      <td>0</td>\n",
       "      <td>0</td>\n",
       "      <td>0</td>\n",
       "    </tr>\n",
       "    <tr>\n",
       "      <th>3</th>\n",
       "      <td>91</td>\n",
       "      <td>0</td>\n",
       "      <td>0</td>\n",
       "      <td>0</td>\n",
       "      <td>0</td>\n",
       "    </tr>\n",
       "    <tr>\n",
       "      <th>4</th>\n",
       "      <td>89</td>\n",
       "      <td>0</td>\n",
       "      <td>0</td>\n",
       "      <td>0</td>\n",
       "      <td>0</td>\n",
       "    </tr>\n",
       "    <tr>\n",
       "      <th>5</th>\n",
       "      <td>89</td>\n",
       "      <td>9</td>\n",
       "      <td>0</td>\n",
       "      <td>0</td>\n",
       "      <td>0</td>\n",
       "    </tr>\n",
       "    <tr>\n",
       "      <th>...</th>\n",
       "      <td>...</td>\n",
       "      <td>...</td>\n",
       "      <td>...</td>\n",
       "      <td>...</td>\n",
       "      <td>...</td>\n",
       "    </tr>\n",
       "    <tr>\n",
       "      <th>3237</th>\n",
       "      <td>38</td>\n",
       "      <td>0</td>\n",
       "      <td>0</td>\n",
       "      <td>0</td>\n",
       "      <td>0</td>\n",
       "    </tr>\n",
       "    <tr>\n",
       "      <th>3238</th>\n",
       "      <td>56</td>\n",
       "      <td>0</td>\n",
       "      <td>0</td>\n",
       "      <td>0</td>\n",
       "      <td>0</td>\n",
       "    </tr>\n",
       "    <tr>\n",
       "      <th>3239</th>\n",
       "      <td>143</td>\n",
       "      <td>0</td>\n",
       "      <td>0</td>\n",
       "      <td>0</td>\n",
       "      <td>0</td>\n",
       "    </tr>\n",
       "    <tr>\n",
       "      <th>3240</th>\n",
       "      <td>34</td>\n",
       "      <td>0</td>\n",
       "      <td>0</td>\n",
       "      <td>0</td>\n",
       "      <td>0</td>\n",
       "    </tr>\n",
       "    <tr>\n",
       "      <th>3241</th>\n",
       "      <td>63</td>\n",
       "      <td>0</td>\n",
       "      <td>0</td>\n",
       "      <td>0</td>\n",
       "      <td>0</td>\n",
       "    </tr>\n",
       "  </tbody>\n",
       "</table>\n",
       "<p>3081 rows × 5 columns</p>\n",
       "</div>"
      ],
      "text/plain": [
       "      Wire 1  Wire 2  Wire 3  Wire 6  rare_wire\n",
       "key                                            \n",
       "1         60       0       0       0          0\n",
       "2         96       0       0       0          0\n",
       "3         91       0       0       0          0\n",
       "4         89       0       0       0          0\n",
       "5         89       9       0       0          0\n",
       "...      ...     ...     ...     ...        ...\n",
       "3237      38       0       0       0          0\n",
       "3238      56       0       0       0          0\n",
       "3239     143       0       0       0          0\n",
       "3240      34       0       0       0          0\n",
       "3241      63       0       0       0          0\n",
       "\n",
       "[3081 rows x 5 columns]"
      ]
     },
     "execution_count": 47,
     "metadata": {},
     "output_type": "execute_result"
    }
   ],
   "source": [
    "data_wire.set_index('key',inplace = True)\n",
    "data_wire"
   ]
  },
  {
   "cell_type": "markdown",
   "id": "a024d0f6",
   "metadata": {},
   "source": [
    "### Выводы"
   ]
  },
  {
   "cell_type": "markdown",
   "id": "d1bba830",
   "metadata": {},
   "source": [
    "Аномалии,пропуски,дубликаты и несоответствия в типах данных обработали .Сгенерированы новые признаки."
   ]
  },
  {
   "cell_type": "markdown",
   "id": "fd7d71d2",
   "metadata": {},
   "source": [
    "## Исследование итоговой таблицы с данными"
   ]
  },
  {
   "cell_type": "markdown",
   "id": "7a5c86e2",
   "metadata": {},
   "source": [
    "### Соединение таблиц"
   ]
  },
  {
   "cell_type": "markdown",
   "id": "6af61e66",
   "metadata": {},
   "source": [
    "Объеденим все таблицы по номеру партии"
   ]
  },
  {
   "cell_type": "code",
   "execution_count": 48,
   "id": "255fa8e6",
   "metadata": {},
   "outputs": [],
   "source": [
    "df = pd.merge(data_arc, data_bulk, on='key', how='inner')\n",
    "df = pd.merge(df, data_gas, on='key', how='inner')\n",
    "df = pd.merge(df, data_temp, on='key', how='inner')\n",
    "df = pd.merge(df, data_wire, on='key', how='inner')"
   ]
  },
  {
   "cell_type": "markdown",
   "id": "c637b125",
   "metadata": {},
   "source": [
    "### Анализ итоговой таблицы"
   ]
  },
  {
   "cell_type": "code",
   "execution_count": 49,
   "id": "f9b4025d",
   "metadata": {},
   "outputs": [
    {
     "data": {
      "text/html": [
       "<div>\n",
       "<style scoped>\n",
       "    .dataframe tbody tr th:only-of-type {\n",
       "        vertical-align: middle;\n",
       "    }\n",
       "\n",
       "    .dataframe tbody tr th {\n",
       "        vertical-align: top;\n",
       "    }\n",
       "\n",
       "    .dataframe thead th {\n",
       "        text-align: right;\n",
       "    }\n",
       "</style>\n",
       "<table border=\"1\" class=\"dataframe\">\n",
       "  <thead>\n",
       "    <tr style=\"text-align: right;\">\n",
       "      <th></th>\n",
       "      <th>arc_time</th>\n",
       "      <th>full_power</th>\n",
       "      <th>Bulk 1</th>\n",
       "      <th>Bulk 3</th>\n",
       "      <th>Bulk 4</th>\n",
       "      <th>Bulk 5</th>\n",
       "      <th>Bulk 6</th>\n",
       "      <th>Bulk 10</th>\n",
       "      <th>Bulk 11</th>\n",
       "      <th>Bulk 12</th>\n",
       "      <th>...</th>\n",
       "      <th>Bulk 15</th>\n",
       "      <th>rare_bulk</th>\n",
       "      <th>Газ 1</th>\n",
       "      <th>first_temperature</th>\n",
       "      <th>second_temperature</th>\n",
       "      <th>Wire 1</th>\n",
       "      <th>Wire 2</th>\n",
       "      <th>Wire 3</th>\n",
       "      <th>Wire 6</th>\n",
       "      <th>rare_wire</th>\n",
       "    </tr>\n",
       "    <tr>\n",
       "      <th>key</th>\n",
       "      <th></th>\n",
       "      <th></th>\n",
       "      <th></th>\n",
       "      <th></th>\n",
       "      <th></th>\n",
       "      <th></th>\n",
       "      <th></th>\n",
       "      <th></th>\n",
       "      <th></th>\n",
       "      <th></th>\n",
       "      <th></th>\n",
       "      <th></th>\n",
       "      <th></th>\n",
       "      <th></th>\n",
       "      <th></th>\n",
       "      <th></th>\n",
       "      <th></th>\n",
       "      <th></th>\n",
       "      <th></th>\n",
       "      <th></th>\n",
       "      <th></th>\n",
       "    </tr>\n",
       "  </thead>\n",
       "  <tbody>\n",
       "    <tr>\n",
       "      <th>1</th>\n",
       "      <td>1098</td>\n",
       "      <td>5.826395</td>\n",
       "      <td>0</td>\n",
       "      <td>0</td>\n",
       "      <td>43</td>\n",
       "      <td>0</td>\n",
       "      <td>0</td>\n",
       "      <td>0</td>\n",
       "      <td>0</td>\n",
       "      <td>206</td>\n",
       "      <td>...</td>\n",
       "      <td>154</td>\n",
       "      <td>0</td>\n",
       "      <td>29.749986</td>\n",
       "      <td>1571</td>\n",
       "      <td>1613</td>\n",
       "      <td>60</td>\n",
       "      <td>0</td>\n",
       "      <td>0</td>\n",
       "      <td>0</td>\n",
       "      <td>0</td>\n",
       "    </tr>\n",
       "    <tr>\n",
       "      <th>2</th>\n",
       "      <td>811</td>\n",
       "      <td>3.649216</td>\n",
       "      <td>0</td>\n",
       "      <td>0</td>\n",
       "      <td>73</td>\n",
       "      <td>0</td>\n",
       "      <td>0</td>\n",
       "      <td>0</td>\n",
       "      <td>0</td>\n",
       "      <td>206</td>\n",
       "      <td>...</td>\n",
       "      <td>154</td>\n",
       "      <td>0</td>\n",
       "      <td>12.555561</td>\n",
       "      <td>1581</td>\n",
       "      <td>1602</td>\n",
       "      <td>96</td>\n",
       "      <td>0</td>\n",
       "      <td>0</td>\n",
       "      <td>0</td>\n",
       "      <td>0</td>\n",
       "    </tr>\n",
       "    <tr>\n",
       "      <th>3</th>\n",
       "      <td>655</td>\n",
       "      <td>2.989534</td>\n",
       "      <td>0</td>\n",
       "      <td>0</td>\n",
       "      <td>34</td>\n",
       "      <td>0</td>\n",
       "      <td>0</td>\n",
       "      <td>0</td>\n",
       "      <td>0</td>\n",
       "      <td>205</td>\n",
       "      <td>...</td>\n",
       "      <td>153</td>\n",
       "      <td>0</td>\n",
       "      <td>28.554793</td>\n",
       "      <td>1596</td>\n",
       "      <td>1599</td>\n",
       "      <td>91</td>\n",
       "      <td>0</td>\n",
       "      <td>0</td>\n",
       "      <td>0</td>\n",
       "      <td>0</td>\n",
       "    </tr>\n",
       "    <tr>\n",
       "      <th>4</th>\n",
       "      <td>741</td>\n",
       "      <td>3.814962</td>\n",
       "      <td>0</td>\n",
       "      <td>0</td>\n",
       "      <td>81</td>\n",
       "      <td>0</td>\n",
       "      <td>0</td>\n",
       "      <td>0</td>\n",
       "      <td>0</td>\n",
       "      <td>207</td>\n",
       "      <td>...</td>\n",
       "      <td>154</td>\n",
       "      <td>0</td>\n",
       "      <td>18.841219</td>\n",
       "      <td>1601</td>\n",
       "      <td>1625</td>\n",
       "      <td>89</td>\n",
       "      <td>0</td>\n",
       "      <td>0</td>\n",
       "      <td>0</td>\n",
       "      <td>0</td>\n",
       "    </tr>\n",
       "    <tr>\n",
       "      <th>5</th>\n",
       "      <td>869</td>\n",
       "      <td>4.035758</td>\n",
       "      <td>0</td>\n",
       "      <td>0</td>\n",
       "      <td>78</td>\n",
       "      <td>0</td>\n",
       "      <td>0</td>\n",
       "      <td>0</td>\n",
       "      <td>0</td>\n",
       "      <td>203</td>\n",
       "      <td>...</td>\n",
       "      <td>152</td>\n",
       "      <td>0</td>\n",
       "      <td>5.413692</td>\n",
       "      <td>1576</td>\n",
       "      <td>1602</td>\n",
       "      <td>89</td>\n",
       "      <td>9</td>\n",
       "      <td>0</td>\n",
       "      <td>0</td>\n",
       "      <td>0</td>\n",
       "    </tr>\n",
       "  </tbody>\n",
       "</table>\n",
       "<p>5 rows × 21 columns</p>\n",
       "</div>"
      ],
      "text/plain": [
       "     arc_time  full_power  Bulk 1  Bulk 3  Bulk 4  Bulk 5  Bulk 6  Bulk 10  \\\n",
       "key                                                                          \n",
       "1        1098    5.826395       0       0      43       0       0        0   \n",
       "2         811    3.649216       0       0      73       0       0        0   \n",
       "3         655    2.989534       0       0      34       0       0        0   \n",
       "4         741    3.814962       0       0      81       0       0        0   \n",
       "5         869    4.035758       0       0      78       0       0        0   \n",
       "\n",
       "     Bulk 11  Bulk 12  ...  Bulk 15  rare_bulk      Газ 1  first_temperature  \\\n",
       "key                    ...                                                     \n",
       "1          0      206  ...      154          0  29.749986               1571   \n",
       "2          0      206  ...      154          0  12.555561               1581   \n",
       "3          0      205  ...      153          0  28.554793               1596   \n",
       "4          0      207  ...      154          0  18.841219               1601   \n",
       "5          0      203  ...      152          0   5.413692               1576   \n",
       "\n",
       "     second_temperature  Wire 1  Wire 2  Wire 3  Wire 6  rare_wire  \n",
       "key                                                                 \n",
       "1                  1613      60       0       0       0          0  \n",
       "2                  1602      96       0       0       0          0  \n",
       "3                  1599      91       0       0       0          0  \n",
       "4                  1625      89       0       0       0          0  \n",
       "5                  1602      89       9       0       0          0  \n",
       "\n",
       "[5 rows x 21 columns]"
      ]
     },
     "metadata": {},
     "output_type": "display_data"
    },
    {
     "name": "stdout",
     "output_type": "stream",
     "text": [
      "<class 'pandas.core.frame.DataFrame'>\n",
      "Int64Index: 2329 entries, 1 to 2499\n",
      "Data columns (total 21 columns):\n",
      " #   Column              Non-Null Count  Dtype  \n",
      "---  ------              --------------  -----  \n",
      " 0   arc_time            2329 non-null   int64  \n",
      " 1   full_power          2329 non-null   float64\n",
      " 2   Bulk 1              2329 non-null   int64  \n",
      " 3   Bulk 3              2329 non-null   int64  \n",
      " 4   Bulk 4              2329 non-null   int64  \n",
      " 5   Bulk 5              2329 non-null   int64  \n",
      " 6   Bulk 6              2329 non-null   int64  \n",
      " 7   Bulk 10             2329 non-null   int64  \n",
      " 8   Bulk 11             2329 non-null   int64  \n",
      " 9   Bulk 12             2329 non-null   int64  \n",
      " 10  Bulk 14             2329 non-null   int64  \n",
      " 11  Bulk 15             2329 non-null   int64  \n",
      " 12  rare_bulk           2329 non-null   int64  \n",
      " 13  Газ 1               2329 non-null   float64\n",
      " 14  first_temperature   2329 non-null   int64  \n",
      " 15  second_temperature  2329 non-null   int64  \n",
      " 16  Wire 1              2329 non-null   int64  \n",
      " 17  Wire 2              2329 non-null   int64  \n",
      " 18  Wire 3              2329 non-null   int64  \n",
      " 19  Wire 6              2329 non-null   int64  \n",
      " 20  rare_wire           2329 non-null   int64  \n",
      "dtypes: float64(2), int64(19)\n",
      "memory usage: 400.3 KB\n"
     ]
    },
    {
     "data": {
      "text/plain": [
       "None"
      ]
     },
     "metadata": {},
     "output_type": "display_data"
    },
    {
     "data": {
      "text/html": [
       "<div>\n",
       "<style scoped>\n",
       "    .dataframe tbody tr th:only-of-type {\n",
       "        vertical-align: middle;\n",
       "    }\n",
       "\n",
       "    .dataframe tbody tr th {\n",
       "        vertical-align: top;\n",
       "    }\n",
       "\n",
       "    .dataframe thead th {\n",
       "        text-align: right;\n",
       "    }\n",
       "</style>\n",
       "<table border=\"1\" class=\"dataframe\">\n",
       "  <thead>\n",
       "    <tr style=\"text-align: right;\">\n",
       "      <th></th>\n",
       "      <th>arc_time</th>\n",
       "      <th>full_power</th>\n",
       "      <th>Bulk 1</th>\n",
       "      <th>Bulk 3</th>\n",
       "      <th>Bulk 4</th>\n",
       "      <th>Bulk 5</th>\n",
       "      <th>Bulk 6</th>\n",
       "      <th>Bulk 10</th>\n",
       "      <th>Bulk 11</th>\n",
       "      <th>Bulk 12</th>\n",
       "      <th>...</th>\n",
       "      <th>Bulk 15</th>\n",
       "      <th>rare_bulk</th>\n",
       "      <th>Газ 1</th>\n",
       "      <th>first_temperature</th>\n",
       "      <th>second_temperature</th>\n",
       "      <th>Wire 1</th>\n",
       "      <th>Wire 2</th>\n",
       "      <th>Wire 3</th>\n",
       "      <th>Wire 6</th>\n",
       "      <th>rare_wire</th>\n",
       "    </tr>\n",
       "  </thead>\n",
       "  <tbody>\n",
       "    <tr>\n",
       "      <th>count</th>\n",
       "      <td>2329.000000</td>\n",
       "      <td>2329.000000</td>\n",
       "      <td>2329.000000</td>\n",
       "      <td>2329.000000</td>\n",
       "      <td>2329.000000</td>\n",
       "      <td>2329.000000</td>\n",
       "      <td>2329.000000</td>\n",
       "      <td>2329.000000</td>\n",
       "      <td>2329.000000</td>\n",
       "      <td>2329.000000</td>\n",
       "      <td>...</td>\n",
       "      <td>2329.000000</td>\n",
       "      <td>2329.000000</td>\n",
       "      <td>2329.000000</td>\n",
       "      <td>2329.000000</td>\n",
       "      <td>2329.000000</td>\n",
       "      <td>2329.000000</td>\n",
       "      <td>2329.000000</td>\n",
       "      <td>2329.000000</td>\n",
       "      <td>2329.000000</td>\n",
       "      <td>2329.000000</td>\n",
       "    </tr>\n",
       "    <tr>\n",
       "      <th>mean</th>\n",
       "      <td>807.211249</td>\n",
       "      <td>3.939705</td>\n",
       "      <td>3.427651</td>\n",
       "      <td>47.348218</td>\n",
       "      <td>37.303564</td>\n",
       "      <td>2.640189</td>\n",
       "      <td>22.430228</td>\n",
       "      <td>5.052812</td>\n",
       "      <td>4.245170</td>\n",
       "      <td>208.415629</td>\n",
       "      <td>...</td>\n",
       "      <td>119.952769</td>\n",
       "      <td>4.960498</td>\n",
       "      <td>11.375600</td>\n",
       "      <td>1587.386003</td>\n",
       "      <td>1593.365393</td>\n",
       "      <td>102.224989</td>\n",
       "      <td>17.536711</td>\n",
       "      <td>3.230571</td>\n",
       "      <td>0.975526</td>\n",
       "      <td>0.936883</td>\n",
       "    </tr>\n",
       "    <tr>\n",
       "      <th>std</th>\n",
       "      <td>337.534282</td>\n",
       "      <td>1.762445</td>\n",
       "      <td>12.412132</td>\n",
       "      <td>75.310430</td>\n",
       "      <td>58.643238</td>\n",
       "      <td>22.402293</td>\n",
       "      <td>55.790873</td>\n",
       "      <td>20.917800</td>\n",
       "      <td>22.515487</td>\n",
       "      <td>157.062272</td>\n",
       "      <td>...</td>\n",
       "      <td>84.640443</td>\n",
       "      <td>48.347994</td>\n",
       "      <td>6.392041</td>\n",
       "      <td>23.619841</td>\n",
       "      <td>11.200915</td>\n",
       "      <td>43.502716</td>\n",
       "      <td>33.528909</td>\n",
       "      <td>27.916013</td>\n",
       "      <td>8.671298</td>\n",
       "      <td>7.358217</td>\n",
       "    </tr>\n",
       "    <tr>\n",
       "      <th>min</th>\n",
       "      <td>57.000000</td>\n",
       "      <td>0.257637</td>\n",
       "      <td>0.000000</td>\n",
       "      <td>0.000000</td>\n",
       "      <td>0.000000</td>\n",
       "      <td>0.000000</td>\n",
       "      <td>0.000000</td>\n",
       "      <td>0.000000</td>\n",
       "      <td>0.000000</td>\n",
       "      <td>0.000000</td>\n",
       "      <td>...</td>\n",
       "      <td>0.000000</td>\n",
       "      <td>0.000000</td>\n",
       "      <td>0.008399</td>\n",
       "      <td>1519.000000</td>\n",
       "      <td>1541.000000</td>\n",
       "      <td>0.000000</td>\n",
       "      <td>0.000000</td>\n",
       "      <td>0.000000</td>\n",
       "      <td>0.000000</td>\n",
       "      <td>0.000000</td>\n",
       "    </tr>\n",
       "    <tr>\n",
       "      <th>25%</th>\n",
       "      <td>581.000000</td>\n",
       "      <td>2.735080</td>\n",
       "      <td>0.000000</td>\n",
       "      <td>0.000000</td>\n",
       "      <td>0.000000</td>\n",
       "      <td>0.000000</td>\n",
       "      <td>0.000000</td>\n",
       "      <td>0.000000</td>\n",
       "      <td>0.000000</td>\n",
       "      <td>105.000000</td>\n",
       "      <td>...</td>\n",
       "      <td>0.000000</td>\n",
       "      <td>0.000000</td>\n",
       "      <td>7.282948</td>\n",
       "      <td>1571.000000</td>\n",
       "      <td>1587.000000</td>\n",
       "      <td>73.000000</td>\n",
       "      <td>0.000000</td>\n",
       "      <td>0.000000</td>\n",
       "      <td>0.000000</td>\n",
       "      <td>0.000000</td>\n",
       "    </tr>\n",
       "    <tr>\n",
       "      <th>50%</th>\n",
       "      <td>778.000000</td>\n",
       "      <td>3.773603</td>\n",
       "      <td>0.000000</td>\n",
       "      <td>0.000000</td>\n",
       "      <td>0.000000</td>\n",
       "      <td>0.000000</td>\n",
       "      <td>0.000000</td>\n",
       "      <td>0.000000</td>\n",
       "      <td>0.000000</td>\n",
       "      <td>206.000000</td>\n",
       "      <td>...</td>\n",
       "      <td>107.000000</td>\n",
       "      <td>0.000000</td>\n",
       "      <td>10.100950</td>\n",
       "      <td>1587.000000</td>\n",
       "      <td>1593.000000</td>\n",
       "      <td>101.000000</td>\n",
       "      <td>0.000000</td>\n",
       "      <td>0.000000</td>\n",
       "      <td>0.000000</td>\n",
       "      <td>0.000000</td>\n",
       "    </tr>\n",
       "    <tr>\n",
       "      <th>75%</th>\n",
       "      <td>993.000000</td>\n",
       "      <td>4.892791</td>\n",
       "      <td>0.000000</td>\n",
       "      <td>80.000000</td>\n",
       "      <td>77.000000</td>\n",
       "      <td>0.000000</td>\n",
       "      <td>0.000000</td>\n",
       "      <td>0.000000</td>\n",
       "      <td>0.000000</td>\n",
       "      <td>282.000000</td>\n",
       "      <td>...</td>\n",
       "      <td>204.000000</td>\n",
       "      <td>0.000000</td>\n",
       "      <td>14.216688</td>\n",
       "      <td>1603.000000</td>\n",
       "      <td>1598.000000</td>\n",
       "      <td>128.000000</td>\n",
       "      <td>23.000000</td>\n",
       "      <td>0.000000</td>\n",
       "      <td>0.000000</td>\n",
       "      <td>0.000000</td>\n",
       "    </tr>\n",
       "    <tr>\n",
       "      <th>max</th>\n",
       "      <td>3282.000000</td>\n",
       "      <td>16.972619</td>\n",
       "      <td>185.000000</td>\n",
       "      <td>454.000000</td>\n",
       "      <td>281.000000</td>\n",
       "      <td>603.000000</td>\n",
       "      <td>503.000000</td>\n",
       "      <td>159.000000</td>\n",
       "      <td>313.000000</td>\n",
       "      <td>1849.000000</td>\n",
       "      <td>...</td>\n",
       "      <td>405.000000</td>\n",
       "      <td>1014.000000</td>\n",
       "      <td>77.995040</td>\n",
       "      <td>1660.000000</td>\n",
       "      <td>1653.000000</td>\n",
       "      <td>330.000000</td>\n",
       "      <td>282.000000</td>\n",
       "      <td>385.000000</td>\n",
       "      <td>180.000000</td>\n",
       "      <td>118.000000</td>\n",
       "    </tr>\n",
       "  </tbody>\n",
       "</table>\n",
       "<p>8 rows × 21 columns</p>\n",
       "</div>"
      ],
      "text/plain": [
       "          arc_time   full_power       Bulk 1       Bulk 3       Bulk 4  \\\n",
       "count  2329.000000  2329.000000  2329.000000  2329.000000  2329.000000   \n",
       "mean    807.211249     3.939705     3.427651    47.348218    37.303564   \n",
       "std     337.534282     1.762445    12.412132    75.310430    58.643238   \n",
       "min      57.000000     0.257637     0.000000     0.000000     0.000000   \n",
       "25%     581.000000     2.735080     0.000000     0.000000     0.000000   \n",
       "50%     778.000000     3.773603     0.000000     0.000000     0.000000   \n",
       "75%     993.000000     4.892791     0.000000    80.000000    77.000000   \n",
       "max    3282.000000    16.972619   185.000000   454.000000   281.000000   \n",
       "\n",
       "            Bulk 5       Bulk 6      Bulk 10      Bulk 11      Bulk 12  ...  \\\n",
       "count  2329.000000  2329.000000  2329.000000  2329.000000  2329.000000  ...   \n",
       "mean      2.640189    22.430228     5.052812     4.245170   208.415629  ...   \n",
       "std      22.402293    55.790873    20.917800    22.515487   157.062272  ...   \n",
       "min       0.000000     0.000000     0.000000     0.000000     0.000000  ...   \n",
       "25%       0.000000     0.000000     0.000000     0.000000   105.000000  ...   \n",
       "50%       0.000000     0.000000     0.000000     0.000000   206.000000  ...   \n",
       "75%       0.000000     0.000000     0.000000     0.000000   282.000000  ...   \n",
       "max     603.000000   503.000000   159.000000   313.000000  1849.000000  ...   \n",
       "\n",
       "           Bulk 15    rare_bulk        Газ 1  first_temperature  \\\n",
       "count  2329.000000  2329.000000  2329.000000        2329.000000   \n",
       "mean    119.952769     4.960498    11.375600        1587.386003   \n",
       "std      84.640443    48.347994     6.392041          23.619841   \n",
       "min       0.000000     0.000000     0.008399        1519.000000   \n",
       "25%       0.000000     0.000000     7.282948        1571.000000   \n",
       "50%     107.000000     0.000000    10.100950        1587.000000   \n",
       "75%     204.000000     0.000000    14.216688        1603.000000   \n",
       "max     405.000000  1014.000000    77.995040        1660.000000   \n",
       "\n",
       "       second_temperature       Wire 1       Wire 2       Wire 3       Wire 6  \\\n",
       "count         2329.000000  2329.000000  2329.000000  2329.000000  2329.000000   \n",
       "mean          1593.365393   102.224989    17.536711     3.230571     0.975526   \n",
       "std             11.200915    43.502716    33.528909    27.916013     8.671298   \n",
       "min           1541.000000     0.000000     0.000000     0.000000     0.000000   \n",
       "25%           1587.000000    73.000000     0.000000     0.000000     0.000000   \n",
       "50%           1593.000000   101.000000     0.000000     0.000000     0.000000   \n",
       "75%           1598.000000   128.000000    23.000000     0.000000     0.000000   \n",
       "max           1653.000000   330.000000   282.000000   385.000000   180.000000   \n",
       "\n",
       "         rare_wire  \n",
       "count  2329.000000  \n",
       "mean      0.936883  \n",
       "std       7.358217  \n",
       "min       0.000000  \n",
       "25%       0.000000  \n",
       "50%       0.000000  \n",
       "75%       0.000000  \n",
       "max     118.000000  \n",
       "\n",
       "[8 rows x 21 columns]"
      ]
     },
     "metadata": {},
     "output_type": "display_data"
    },
    {
     "name": "stdout",
     "output_type": "stream",
     "text": [
      "Количество строк-дубликатов:  0\n"
     ]
    }
   ],
   "source": [
    "df = data_hi(df)"
   ]
  },
  {
   "cell_type": "markdown",
   "id": "d6df0d76",
   "metadata": {},
   "source": [
    "В итоговую таблицу вошли 2329 объектов моделирования - ковшей,20 признаков и 1 таргет."
   ]
  },
  {
   "cell_type": "code",
   "execution_count": 50,
   "id": "92f9af25",
   "metadata": {
    "scrolled": false
   },
   "outputs": [
    {
     "data": {
      "text/plain": [
       "<AxesSubplot:>"
      ]
     },
     "execution_count": 50,
     "metadata": {},
     "output_type": "execute_result"
    },
    {
     "data": {
      "image/png": "[encoded data removed]",
      "text/plain": [
       "<Figure size 1080x360 with 2 Axes>"
      ]
     },
     "metadata": {
      "needs_background": "light"
     },
     "output_type": "display_data"
    }
   ],
   "source": [
    "corr = df.corr()\n",
    "fig, ax = plt.subplots(figsize=(15, 5))\n",
    "sns.heatmap(corr, annot=True, cmap='coolwarm', linewidths=0.5)"
   ]
  },
  {
   "cell_type": "markdown",
   "id": "0d34cf1b",
   "metadata": {},
   "source": [
    "Обнаружена мультиколлинеарность между признаками `full_power  ` и ` arc_time `,оставим только один из них - ` full_power `"
   ]
  },
  {
   "cell_type": "code",
   "execution_count": 51,
   "id": "6aea872e",
   "metadata": {},
   "outputs": [],
   "source": [
    "df.drop('arc_time', axis= 1 , inplace= True )"
   ]
  },
  {
   "cell_type": "markdown",
   "id": "2039f5dc",
   "metadata": {},
   "source": [
    "### Отбор 10-ти самых важных признаков"
   ]
  },
  {
   "cell_type": "code",
   "execution_count": 52,
   "id": "873cf223",
   "metadata": {},
   "outputs": [
    {
     "data": {
      "text/html": [
       "<div>\n",
       "<style scoped>\n",
       "    .dataframe tbody tr th:only-of-type {\n",
       "        vertical-align: middle;\n",
       "    }\n",
       "\n",
       "    .dataframe tbody tr th {\n",
       "        vertical-align: top;\n",
       "    }\n",
       "\n",
       "    .dataframe thead th {\n",
       "        text-align: right;\n",
       "    }\n",
       "</style>\n",
       "<table border=\"1\" class=\"dataframe\">\n",
       "  <thead>\n",
       "    <tr style=\"text-align: right;\">\n",
       "      <th></th>\n",
       "      <th>importance</th>\n",
       "    </tr>\n",
       "  </thead>\n",
       "  <tbody>\n",
       "    <tr>\n",
       "      <th>first_temperature</th>\n",
       "      <td>0.181436</td>\n",
       "    </tr>\n",
       "    <tr>\n",
       "      <th>full_power</th>\n",
       "      <td>0.176671</td>\n",
       "    </tr>\n",
       "    <tr>\n",
       "      <th>Wire 1</th>\n",
       "      <td>0.093985</td>\n",
       "    </tr>\n",
       "    <tr>\n",
       "      <th>Bulk 15</th>\n",
       "      <td>0.073565</td>\n",
       "    </tr>\n",
       "    <tr>\n",
       "      <th>Bulk 12</th>\n",
       "      <td>0.060147</td>\n",
       "    </tr>\n",
       "    <tr>\n",
       "      <th>Bulk 6</th>\n",
       "      <td>0.057671</td>\n",
       "    </tr>\n",
       "    <tr>\n",
       "      <th>Bulk 14</th>\n",
       "      <td>0.055940</td>\n",
       "    </tr>\n",
       "    <tr>\n",
       "      <th>Газ 1</th>\n",
       "      <td>0.054465</td>\n",
       "    </tr>\n",
       "    <tr>\n",
       "      <th>Wire 2</th>\n",
       "      <td>0.053039</td>\n",
       "    </tr>\n",
       "    <tr>\n",
       "      <th>Bulk 4</th>\n",
       "      <td>0.037790</td>\n",
       "    </tr>\n",
       "  </tbody>\n",
       "</table>\n",
       "</div>"
      ],
      "text/plain": [
       "                   importance\n",
       "first_temperature    0.181436\n",
       "full_power           0.176671\n",
       "Wire 1               0.093985\n",
       "Bulk 15              0.073565\n",
       "Bulk 12              0.060147\n",
       "Bulk 6               0.057671\n",
       "Bulk 14              0.055940\n",
       "Газ 1                0.054465\n",
       "Wire 2               0.053039\n",
       "Bulk 4               0.037790"
      ]
     },
     "execution_count": 52,
     "metadata": {},
     "output_type": "execute_result"
    }
   ],
   "source": [
    "selector = ExtraTreesRegressor()\n",
    "result = selector.fit(df.drop('second_temperature', axis=1), df['second_temperature'])\n",
    "importances = pd.DataFrame(result.feature_importances_, index=df.drop('second_temperature', axis=1).columns, columns=['importance'])\n",
    "importances = importances.sort_values(by='importance', ascending=False).head(10)\n",
    "importances"
   ]
  },
  {
   "cell_type": "code",
   "execution_count": 53,
   "id": "425c64dd",
   "metadata": {},
   "outputs": [
    {
     "data": {
      "text/html": [
       "<div>\n",
       "<style scoped>\n",
       "    .dataframe tbody tr th:only-of-type {\n",
       "        vertical-align: middle;\n",
       "    }\n",
       "\n",
       "    .dataframe tbody tr th {\n",
       "        vertical-align: top;\n",
       "    }\n",
       "\n",
       "    .dataframe thead th {\n",
       "        text-align: right;\n",
       "    }\n",
       "</style>\n",
       "<table border=\"1\" class=\"dataframe\">\n",
       "  <thead>\n",
       "    <tr style=\"text-align: right;\">\n",
       "      <th></th>\n",
       "      <th>full_power</th>\n",
       "      <th>Bulk 4</th>\n",
       "      <th>Bulk 6</th>\n",
       "      <th>Bulk 12</th>\n",
       "      <th>Bulk 14</th>\n",
       "      <th>Bulk 15</th>\n",
       "      <th>Газ 1</th>\n",
       "      <th>first_temperature</th>\n",
       "      <th>Wire 1</th>\n",
       "      <th>Wire 2</th>\n",
       "    </tr>\n",
       "    <tr>\n",
       "      <th>key</th>\n",
       "      <th></th>\n",
       "      <th></th>\n",
       "      <th></th>\n",
       "      <th></th>\n",
       "      <th></th>\n",
       "      <th></th>\n",
       "      <th></th>\n",
       "      <th></th>\n",
       "      <th></th>\n",
       "      <th></th>\n",
       "    </tr>\n",
       "  </thead>\n",
       "  <tbody>\n",
       "    <tr>\n",
       "      <th>1</th>\n",
       "      <td>5.826395</td>\n",
       "      <td>43</td>\n",
       "      <td>0</td>\n",
       "      <td>206</td>\n",
       "      <td>150</td>\n",
       "      <td>154</td>\n",
       "      <td>29.749986</td>\n",
       "      <td>1571</td>\n",
       "      <td>60</td>\n",
       "      <td>0</td>\n",
       "    </tr>\n",
       "    <tr>\n",
       "      <th>2</th>\n",
       "      <td>3.649216</td>\n",
       "      <td>73</td>\n",
       "      <td>0</td>\n",
       "      <td>206</td>\n",
       "      <td>149</td>\n",
       "      <td>154</td>\n",
       "      <td>12.555561</td>\n",
       "      <td>1581</td>\n",
       "      <td>96</td>\n",
       "      <td>0</td>\n",
       "    </tr>\n",
       "    <tr>\n",
       "      <th>3</th>\n",
       "      <td>2.989534</td>\n",
       "      <td>34</td>\n",
       "      <td>0</td>\n",
       "      <td>205</td>\n",
       "      <td>152</td>\n",
       "      <td>153</td>\n",
       "      <td>28.554793</td>\n",
       "      <td>1596</td>\n",
       "      <td>91</td>\n",
       "      <td>0</td>\n",
       "    </tr>\n",
       "    <tr>\n",
       "      <th>4</th>\n",
       "      <td>3.814962</td>\n",
       "      <td>81</td>\n",
       "      <td>0</td>\n",
       "      <td>207</td>\n",
       "      <td>153</td>\n",
       "      <td>154</td>\n",
       "      <td>18.841219</td>\n",
       "      <td>1601</td>\n",
       "      <td>89</td>\n",
       "      <td>0</td>\n",
       "    </tr>\n",
       "    <tr>\n",
       "      <th>5</th>\n",
       "      <td>4.035758</td>\n",
       "      <td>78</td>\n",
       "      <td>0</td>\n",
       "      <td>203</td>\n",
       "      <td>151</td>\n",
       "      <td>152</td>\n",
       "      <td>5.413692</td>\n",
       "      <td>1576</td>\n",
       "      <td>89</td>\n",
       "      <td>9</td>\n",
       "    </tr>\n",
       "    <tr>\n",
       "      <th>...</th>\n",
       "      <td>...</td>\n",
       "      <td>...</td>\n",
       "      <td>...</td>\n",
       "      <td>...</td>\n",
       "      <td>...</td>\n",
       "      <td>...</td>\n",
       "      <td>...</td>\n",
       "      <td>...</td>\n",
       "      <td>...</td>\n",
       "      <td>...</td>\n",
       "    </tr>\n",
       "    <tr>\n",
       "      <th>2495</th>\n",
       "      <td>3.986869</td>\n",
       "      <td>0</td>\n",
       "      <td>0</td>\n",
       "      <td>256</td>\n",
       "      <td>129</td>\n",
       "      <td>223</td>\n",
       "      <td>7.125735</td>\n",
       "      <td>1570</td>\n",
       "      <td>89</td>\n",
       "      <td>0</td>\n",
       "    </tr>\n",
       "    <tr>\n",
       "      <th>2496</th>\n",
       "      <td>5.057033</td>\n",
       "      <td>63</td>\n",
       "      <td>0</td>\n",
       "      <td>256</td>\n",
       "      <td>129</td>\n",
       "      <td>226</td>\n",
       "      <td>9.412616</td>\n",
       "      <td>1554</td>\n",
       "      <td>114</td>\n",
       "      <td>0</td>\n",
       "    </tr>\n",
       "    <tr>\n",
       "      <th>2497</th>\n",
       "      <td>2.885017</td>\n",
       "      <td>85</td>\n",
       "      <td>0</td>\n",
       "      <td>230</td>\n",
       "      <td>124</td>\n",
       "      <td>226</td>\n",
       "      <td>6.271699</td>\n",
       "      <td>1571</td>\n",
       "      <td>94</td>\n",
       "      <td>9</td>\n",
       "    </tr>\n",
       "    <tr>\n",
       "      <th>2498</th>\n",
       "      <td>4.143749</td>\n",
       "      <td>0</td>\n",
       "      <td>0</td>\n",
       "      <td>206</td>\n",
       "      <td>129</td>\n",
       "      <td>207</td>\n",
       "      <td>14.953657</td>\n",
       "      <td>1591</td>\n",
       "      <td>118</td>\n",
       "      <td>0</td>\n",
       "    </tr>\n",
       "    <tr>\n",
       "      <th>2499</th>\n",
       "      <td>4.953010</td>\n",
       "      <td>0</td>\n",
       "      <td>0</td>\n",
       "      <td>233</td>\n",
       "      <td>126</td>\n",
       "      <td>227</td>\n",
       "      <td>11.336151</td>\n",
       "      <td>1569</td>\n",
       "      <td>110</td>\n",
       "      <td>50</td>\n",
       "    </tr>\n",
       "  </tbody>\n",
       "</table>\n",
       "<p>2329 rows × 10 columns</p>\n",
       "</div>"
      ],
      "text/plain": [
       "      full_power  Bulk 4  Bulk 6  Bulk 12  Bulk 14  Bulk 15      Газ 1  \\\n",
       "key                                                                      \n",
       "1       5.826395      43       0      206      150      154  29.749986   \n",
       "2       3.649216      73       0      206      149      154  12.555561   \n",
       "3       2.989534      34       0      205      152      153  28.554793   \n",
       "4       3.814962      81       0      207      153      154  18.841219   \n",
       "5       4.035758      78       0      203      151      152   5.413692   \n",
       "...          ...     ...     ...      ...      ...      ...        ...   \n",
       "2495    3.986869       0       0      256      129      223   7.125735   \n",
       "2496    5.057033      63       0      256      129      226   9.412616   \n",
       "2497    2.885017      85       0      230      124      226   6.271699   \n",
       "2498    4.143749       0       0      206      129      207  14.953657   \n",
       "2499    4.953010       0       0      233      126      227  11.336151   \n",
       "\n",
       "      first_temperature  Wire 1  Wire 2  \n",
       "key                                      \n",
       "1                  1571      60       0  \n",
       "2                  1581      96       0  \n",
       "3                  1596      91       0  \n",
       "4                  1601      89       0  \n",
       "5                  1576      89       9  \n",
       "...                 ...     ...     ...  \n",
       "2495               1570      89       0  \n",
       "2496               1554     114       0  \n",
       "2497               1571      94       9  \n",
       "2498               1591     118       0  \n",
       "2499               1569     110      50  \n",
       "\n",
       "[2329 rows x 10 columns]"
      ]
     },
     "execution_count": 53,
     "metadata": {},
     "output_type": "execute_result"
    }
   ],
   "source": [
    "features = df.loc[:,df.columns.isin(importances.index)]\n",
    "features"
   ]
  },
  {
   "cell_type": "markdown",
   "id": "a9593bbd",
   "metadata": {},
   "source": []
  },
  {
   "cell_type": "markdown",
   "id": "0656d901",
   "metadata": {},
   "source": [
    "### Переименование столбцов"
   ]
  },
  {
   "cell_type": "code",
   "execution_count": 54,
   "id": "53126381",
   "metadata": {},
   "outputs": [],
   "source": [
    "features.columns = ['full_power','bulk_4','bulk_6','bulk_12','bulk_14','bulk_15','gas','first_temperature','wire_1','wire_2']"
   ]
  },
  {
   "cell_type": "markdown",
   "id": "a3513297",
   "metadata": {},
   "source": [
    "### Выводы"
   ]
  },
  {
   "cell_type": "markdown",
   "id": "fa73b080",
   "metadata": {},
   "source": [
    "Сформирована итоговая таблица из 10 самых важных признаков,устранена мультиколлинеарность,переименованы столбцы."
   ]
  },
  {
   "cell_type": "markdown",
   "id": "fdc62af6",
   "metadata": {},
   "source": [
    "## Построение модели машинного обучения"
   ]
  },
  {
   "cell_type": "markdown",
   "id": "be54fd34",
   "metadata": {},
   "source": [
    "### Обучение моделей"
   ]
  },
  {
   "cell_type": "markdown",
   "id": "e9f2a106",
   "metadata": {},
   "source": [
    "#### Разделение данных на выборки"
   ]
  },
  {
   "cell_type": "code",
   "execution_count": 55,
   "id": "b5c6de02",
   "metadata": {},
   "outputs": [],
   "source": [
    "target = df['second_temperature']"
   ]
  },
  {
   "cell_type": "code",
   "execution_count": 56,
   "id": "b890d66f",
   "metadata": {},
   "outputs": [
    {
     "data": {
      "text/plain": [
       "('Размер обучающей выборки: (1746, 10)', 'Размер тестовой  выборки: (583, 10)')"
      ]
     },
     "execution_count": 56,
     "metadata": {},
     "output_type": "execute_result"
    }
   ],
   "source": [
    "state = np.random.RandomState(100423)\n",
    "\n",
    "x_train, x_test, y_train, y_test = train_test_split(features, target, test_size=0.25, random_state=state)\n",
    "\n",
    "f\"Размер обучающей выборки: {x_train.shape}\",\\\n",
    "f\"Размер тестовой  выборки: {x_test.shape}\""
   ]
  },
  {
   "cell_type": "markdown",
   "id": "169b48f0",
   "metadata": {},
   "source": [
    "Создадим список, в который будем добавлять обученные модели"
   ]
  },
  {
   "cell_type": "code",
   "execution_count": 57,
   "id": "4a0ada37",
   "metadata": {},
   "outputs": [],
   "source": [
    "Models = []"
   ]
  },
  {
   "cell_type": "markdown",
   "id": "8cdc15cb",
   "metadata": {},
   "source": [
    "#### Обучение модели случайного леса"
   ]
  },
  {
   "cell_type": "code",
   "execution_count": 58,
   "id": "e3daebb0",
   "metadata": {},
   "outputs": [
    {
     "data": {
      "text/plain": [
       "{'n_estimators': 500,\n",
       " 'min_samples_split': 5,\n",
       " 'min_samples_leaf': 1,\n",
       " 'max_features': 'log2',\n",
       " 'max_depth': None}"
      ]
     },
     "execution_count": 58,
     "metadata": {},
     "output_type": "execute_result"
    }
   ],
   "source": [
    "rf = RandomForestRegressor()\n",
    "\n",
    "param_dist = {\n",
    "    'n_estimators': [100, 500],\n",
    "    'max_features': ['sqrt', 'log2'],\n",
    "    'max_depth': [None, 5, 10],\n",
    "    'min_samples_split': [2, 5],\n",
    "    'min_samples_leaf': [1, 2]\n",
    "}\n",
    "\n",
    "rf_random = RandomizedSearchCV(estimator = rf, param_distributions = param_dist, n_iter = 50, cv = 5, random_state=state, scoring='neg_mean_absolute_error', n_jobs = -1)\n",
    "rf_random.fit(x_train, y_train)\n",
    "best_params = rf_random.best_params_\n",
    "best_params"
   ]
  },
  {
   "cell_type": "code",
   "execution_count": 59,
   "id": "67fdb764",
   "metadata": {},
   "outputs": [
    {
     "data": {
      "text/plain": [
       "-6.33386343421421"
      ]
     },
     "execution_count": 59,
     "metadata": {},
     "output_type": "execute_result"
    }
   ],
   "source": [
    "mae_rf = rf_random.best_score_\n",
    "mae_rf"
   ]
  },
  {
   "cell_type": "code",
   "execution_count": 60,
   "id": "09c57467",
   "metadata": {},
   "outputs": [],
   "source": [
    "Models.append(['Случайный лес', mae_rf])"
   ]
  },
  {
   "cell_type": "markdown",
   "id": "4dc976be",
   "metadata": {},
   "source": [
    "#### Масштабирование данных"
   ]
  },
  {
   "cell_type": "code",
   "execution_count": 61,
   "id": "420ef30c",
   "metadata": {},
   "outputs": [],
   "source": [
    "scaler = StandardScaler()\n",
    "x_train = scaler.fit_transform(x_train)\n",
    "x_test = scaler.transform(x_test)"
   ]
  },
  {
   "cell_type": "markdown",
   "id": "c34fc09c",
   "metadata": {},
   "source": [
    "#### Обучение модели линейной регрессии "
   ]
  },
  {
   "cell_type": "code",
   "execution_count": 62,
   "id": "6d46f06a",
   "metadata": {},
   "outputs": [
    {
     "data": {
      "text/plain": [
       "{'fit_intercept': True, 'copy_X': True}"
      ]
     },
     "execution_count": 62,
     "metadata": {},
     "output_type": "execute_result"
    }
   ],
   "source": [
    "lr = LinearRegression()\n",
    "\n",
    "param_distributions = {\n",
    "    'fit_intercept': [True, False],\n",
    "    'copy_X': [True, False]\n",
    "}\n",
    "\n",
    "lr_random = RandomizedSearchCV(lr, param_distributions, cv=5, n_iter=10, scoring='neg_mean_absolute_error', random_state=state)\n",
    "lr_random.fit(x_train, y_train)\n",
    "best_params = lr_random.best_params_\n",
    "best_params"
   ]
  },
  {
   "cell_type": "code",
   "execution_count": 63,
   "id": "1dcedd0a",
   "metadata": {},
   "outputs": [
    {
     "data": {
      "text/plain": [
       "-6.397828381383424"
      ]
     },
     "execution_count": 63,
     "metadata": {},
     "output_type": "execute_result"
    }
   ],
   "source": [
    "mae_lr = lr_random.best_score_\n",
    "mae_lr"
   ]
  },
  {
   "cell_type": "code",
   "execution_count": 64,
   "id": "87b6e76b",
   "metadata": {},
   "outputs": [],
   "source": [
    "Models.append(['Линейная регрессия',mae_lr])"
   ]
  },
  {
   "cell_type": "markdown",
   "id": "a87c1644",
   "metadata": {},
   "source": [
    "#### Обучение модели CatBoost"
   ]
  },
  {
   "cell_type": "code",
   "execution_count": 65,
   "id": "9c25a5d0",
   "metadata": {},
   "outputs": [
    {
     "data": {
      "text/plain": [
       "{'depth': 4,\n",
       " 'iterations': 500,\n",
       " 'l2_leaf_reg': 9.75563194220592,\n",
       " 'learning_rate': 0.08331291244569322}"
      ]
     },
     "execution_count": 65,
     "metadata": {},
     "output_type": "execute_result"
    }
   ],
   "source": [
    "cb = CatBoostRegressor(verbose = False,loss_function='MAE',\n",
    "                          random_state=100423)\n",
    "\n",
    "params = {'learning_rate': uniform(loc=0.01, scale=0.3),\n",
    "          'depth': [4, 5, 6],\n",
    "          'iterations': [100, 500],\n",
    "          'l2_leaf_reg': uniform(loc=1, scale=10)}\n",
    "\n",
    "cb_random = RandomizedSearchCV(estimator=cb,\n",
    "                            param_distributions=params,\n",
    "                            n_iter=50,\n",
    "                            scoring='neg_mean_absolute_error',\n",
    "                            cv=5,\n",
    "                            random_state=100423)\n",
    "\n",
    "cb_random.fit(x_train, y_train)\n",
    "\n",
    "best_params = cb_random.best_params_\n",
    "best_params"
   ]
  },
  {
   "cell_type": "code",
   "execution_count": 66,
   "id": "684f95c7",
   "metadata": {},
   "outputs": [
    {
     "data": {
      "text/plain": [
       "-5.955139819625333"
      ]
     },
     "execution_count": 66,
     "metadata": {},
     "output_type": "execute_result"
    }
   ],
   "source": [
    "mae_cb = cb_random.best_score_\n",
    "mae_cb"
   ]
  },
  {
   "cell_type": "code",
   "execution_count": 67,
   "id": "674ff509",
   "metadata": {},
   "outputs": [],
   "source": [
    "cb = CatBoostRegressor(verbose =False,loss_function='MAE',\n",
    "                               random_state=100423,\n",
    "                               **best_params)"
   ]
  },
  {
   "cell_type": "code",
   "execution_count": 68,
   "id": "73f06fac",
   "metadata": {},
   "outputs": [
    {
     "data": {
      "text/plain": [
       "<catboost.core.CatBoostRegressor at 0x7ff74ac38d90>"
      ]
     },
     "execution_count": 68,
     "metadata": {},
     "output_type": "execute_result"
    }
   ],
   "source": [
    "cb.fit(x_train, y_train)"
   ]
  },
  {
   "cell_type": "code",
   "execution_count": 69,
   "id": "7af2317e",
   "metadata": {},
   "outputs": [],
   "source": [
    "Models.append(['CatBoost', mae_cb])"
   ]
  },
  {
   "cell_type": "markdown",
   "id": "83ef761f",
   "metadata": {},
   "source": [
    "#### Константная модель"
   ]
  },
  {
   "cell_type": "code",
   "execution_count": 70,
   "id": "38a1d637",
   "metadata": {},
   "outputs": [
    {
     "data": {
      "text/plain": [
       "8.130447639200806"
      ]
     },
     "execution_count": 70,
     "metadata": {},
     "output_type": "execute_result"
    }
   ],
   "source": [
    "dummy = DummyRegressor(strategy = 'mean')\n",
    "dummy.fit(x_train,y_train)\n",
    "y_pred = dummy.predict(x_test)\n",
    "mae_d = mean_absolute_error(y_test,y_pred)\n",
    "mae_d"
   ]
  },
  {
   "cell_type": "code",
   "execution_count": 71,
   "id": "610afe21",
   "metadata": {},
   "outputs": [],
   "source": [
    "Models.append(['Константная модель', mae_d])"
   ]
  },
  {
   "cell_type": "markdown",
   "id": "d97012cc",
   "metadata": {},
   "source": [
    "#### Выбор лучшей модели"
   ]
  },
  {
   "cell_type": "markdown",
   "id": "aa29b0c1",
   "metadata": {},
   "source": [
    "Оформим результаты по обучению моделей в таблицу"
   ]
  },
  {
   "cell_type": "code",
   "execution_count": 72,
   "id": "2b6cdd13",
   "metadata": {},
   "outputs": [
    {
     "data": {
      "text/html": [
       "<div>\n",
       "<style scoped>\n",
       "    .dataframe tbody tr th:only-of-type {\n",
       "        vertical-align: middle;\n",
       "    }\n",
       "\n",
       "    .dataframe tbody tr th {\n",
       "        vertical-align: top;\n",
       "    }\n",
       "\n",
       "    .dataframe thead th {\n",
       "        text-align: right;\n",
       "    }\n",
       "</style>\n",
       "<table border=\"1\" class=\"dataframe\">\n",
       "  <thead>\n",
       "    <tr style=\"text-align: right;\">\n",
       "      <th></th>\n",
       "      <th>model</th>\n",
       "      <th>rmse</th>\n",
       "    </tr>\n",
       "  </thead>\n",
       "  <tbody>\n",
       "    <tr>\n",
       "      <th>0</th>\n",
       "      <td>Случайный лес</td>\n",
       "      <td>-6.333863</td>\n",
       "    </tr>\n",
       "    <tr>\n",
       "      <th>1</th>\n",
       "      <td>Линейная регрессия</td>\n",
       "      <td>-6.397828</td>\n",
       "    </tr>\n",
       "    <tr>\n",
       "      <th>2</th>\n",
       "      <td>CatBoost</td>\n",
       "      <td>-5.955140</td>\n",
       "    </tr>\n",
       "    <tr>\n",
       "      <th>3</th>\n",
       "      <td>Константная модель</td>\n",
       "      <td>8.130448</td>\n",
       "    </tr>\n",
       "  </tbody>\n",
       "</table>\n",
       "</div>"
      ],
      "text/plain": [
       "                model      rmse\n",
       "0       Случайный лес -6.333863\n",
       "1  Линейная регрессия -6.397828\n",
       "2            CatBoost -5.955140\n",
       "3  Константная модель  8.130448"
      ]
     },
     "execution_count": 72,
     "metadata": {},
     "output_type": "execute_result"
    }
   ],
   "source": [
    "result = pd.DataFrame(Models, columns=['model', 'rmse'])\n",
    "result"
   ]
  },
  {
   "cell_type": "markdown",
   "id": "7bce6f74",
   "metadata": {},
   "source": [
    "MAE всех моделей соответствует требованиям.<br>\n",
    "Наименьшей MAE удалось добиться на CatBoost модели со следующими гиперпараметрами:'depth': 6,'iterations': 500,'l2_leaf_reg': 10.902497338187823,'learning_rate': 0.02022618280060956."
   ]
  },
  {
   "cell_type": "markdown",
   "id": "a1de963f",
   "metadata": {},
   "source": [
    "### Тестирование лучшей модели на тестовой выборке"
   ]
  },
  {
   "cell_type": "code",
   "execution_count": 73,
   "id": "1813911e",
   "metadata": {},
   "outputs": [
    {
     "data": {
      "text/plain": [
       "6.0544801704479685"
      ]
     },
     "execution_count": 73,
     "metadata": {},
     "output_type": "execute_result"
    }
   ],
   "source": [
    "predictions = cb.predict(x_test)\n",
    "mae = mean_absolute_error(y_test,predictions)\n",
    "mae"
   ]
  },
  {
   "cell_type": "markdown",
   "id": "2a870352",
   "metadata": {},
   "source": [
    "Значение метрики MAE на тестовой выборке меньше 6.8.Рекомендуем заказчику модель CatBoost."
   ]
  },
  {
   "cell_type": "markdown",
   "id": "652a2a14",
   "metadata": {},
   "source": [
    "### Анализ важности факторов"
   ]
  },
  {
   "cell_type": "code",
   "execution_count": 74,
   "id": "6d1acb45",
   "metadata": {},
   "outputs": [
    {
     "data": {
      "image/png": "[encoded data removed]",
      "text/plain": [
       "<Figure size 1080x360 with 1 Axes>"
      ]
     },
     "metadata": {
      "needs_background": "light"
     },
     "output_type": "display_data"
    }
   ],
   "source": [
    "importances = cb.feature_importances_\n",
    "indices = np.argsort(importances)[::-1]\n",
    "plt.figure(figsize=(15, 5))\n",
    "plt.title(\"График важности факторов\")\n",
    "plt.bar(range(x_test.shape[1]), importances[indices])\n",
    "plt.xticks(range(x_test.shape[1]), [features.columns[i] for i in indices])\n",
    "plt.show()"
   ]
  },
  {
   "cell_type": "markdown",
   "id": "cde856c7",
   "metadata": {},
   "source": [
    "Посмотрим как поменяется метрика , если оставить только 3 фактора"
   ]
  },
  {
   "cell_type": "code",
   "execution_count": 75,
   "id": "6aea58db",
   "metadata": {},
   "outputs": [
    {
     "data": {
      "text/plain": [
       "('Размер обучающей выборки: (1746, 3)', 'Размер тестовой  выборки: (583, 3)')"
      ]
     },
     "execution_count": 75,
     "metadata": {},
     "output_type": "execute_result"
    }
   ],
   "source": [
    "features = features[['full_power','first_temperature','wire_1']]\n",
    "\n",
    "state = np.random.RandomState(100423)\n",
    "\n",
    "x_train, x_test, y_train, y_test = train_test_split(features, target, test_size=0.25, random_state=state)\n",
    "\n",
    "f\"Размер обучающей выборки: {x_train.shape}\",\\\n",
    "f\"Размер тестовой  выборки: {x_test.shape}\""
   ]
  },
  {
   "cell_type": "code",
   "execution_count": 76,
   "id": "c76c059c",
   "metadata": {},
   "outputs": [],
   "source": [
    "scaler = StandardScaler()\n",
    "x_train = scaler.fit_transform(x_train)\n",
    "x_test = scaler.transform(x_test)"
   ]
  },
  {
   "cell_type": "code",
   "execution_count": 77,
   "id": "7d1332f8",
   "metadata": {},
   "outputs": [
    {
     "data": {
      "text/plain": [
       "-6.461634720704919"
      ]
     },
     "execution_count": 77,
     "metadata": {},
     "output_type": "execute_result"
    }
   ],
   "source": [
    "cb = CatBoostRegressor(verbose = False,loss_function='MAE',\n",
    "                          random_state=100423)\n",
    "\n",
    "params = {'learning_rate': uniform(loc=0.01, scale=0.3),\n",
    "          'depth': [4, 5, 6],\n",
    "          'iterations': [100, 500],\n",
    "          'l2_leaf_reg': uniform(loc=1, scale=10)}\n",
    "\n",
    "cb_random = RandomizedSearchCV(estimator=cb,\n",
    "                            param_distributions=params,\n",
    "                            n_iter=50,\n",
    "                            scoring='neg_mean_absolute_error',\n",
    "                            cv=5,\n",
    "                            random_state=100423)\n",
    "\n",
    "cb_random.fit(x_train, y_train)\n",
    "best_params = cb_random.best_params_\n",
    "cb_random.best_score_"
   ]
  },
  {
   "cell_type": "code",
   "execution_count": 78,
   "id": "88cf5753",
   "metadata": {},
   "outputs": [
    {
     "data": {
      "text/plain": [
       "<catboost.core.CatBoostRegressor at 0x7ff74aa3cac0>"
      ]
     },
     "execution_count": 78,
     "metadata": {},
     "output_type": "execute_result"
    }
   ],
   "source": [
    "cb = CatBoostRegressor(verbose =False,loss_function='MAE',\n",
    "                               random_state=100423,\n",
    "                               **best_params)\n",
    "cb.fit(x_train, y_train)"
   ]
  },
  {
   "cell_type": "code",
   "execution_count": 79,
   "id": "a241d90a",
   "metadata": {},
   "outputs": [
    {
     "data": {
      "text/plain": [
       "6.627160557992644"
      ]
     },
     "execution_count": 79,
     "metadata": {},
     "output_type": "execute_result"
    }
   ],
   "source": [
    "predictions = cb.predict(x_test)\n",
    "mae = mean_absolute_error(y_test,predictions)\n",
    "mae"
   ]
  },
  {
   "cell_type": "markdown",
   "id": "547fec4d",
   "metadata": {},
   "source": [
    "Качество моделей,обученных на 10-ти и 3-ёх признаках отличается незначительно(MAE на тестовой выборке соответсвенно 6.0544801704479685 и 6.627160557992644).Целевое значение (<6.8) достигается и при обучении на 3 признаках."
   ]
  },
  {
   "cell_type": "markdown",
   "id": "53a2dfe2",
   "metadata": {},
   "source": [
    "## Общий вывод"
   ]
  },
  {
   "cell_type": "markdown",
   "id": "59bc2ce2",
   "metadata": {},
   "source": [
    "- Были выполнены все пункты плана работы над проектом\n",
    "- Все модели были обучены с автоматизированным подбором гиперпараметров\n",
    "- Сложность была с определением целевого признака и выделением признака и целевого признака из одного столбца таблицы\n",
    "- В решении данной задачи можно выделить следующие ключевые шаги:\n",
    " - Загрузка всех таблиц\n",
    " - Предобработка данных\n",
    " - Объединение таблиц в общую итоговую таблицу\n",
    " - Разбивка на выборки\n",
    " - Обучение моделей\n",
    " - Выбор лучшей модели\n",
    " - Проверка лучшей модели на тестовой выборке\n",
    " - Анализ важности факторов\n",
    "-  Наименьшей MAE (6.05 на тестовой выборке) удалось добиться на CatBoost модели со следующими гиперпараметрами:'random_state':100423,'depth': 6,'iterations': 500,'l2_leaf_reg': 10.902497338187823,'learning_rate': 0.02022618280060956.\n",
    "- Модель была обучена на следующих признаках:\n",
    " - full_power(признак создан из двух других признаков с применением формулы )\n",
    " - bulk_4 \n",
    " - bulk_6 \n",
    " - bulk_12\n",
    " - bulk_14 \n",
    " - bulk_15\n",
    " - gas \n",
    " - first_temperature(признак выделен как первый известный замер по партии)\n",
    " - wire_1\n",
    " - wire_2\n",
    "- Для улучшения модели можно:\n",
    " - оптимизировать 3 самых важных фактора : полную мощность ,температуру сплава и объемы проволочной добавки №1.\n",
    "   - фиксировать случаи перегрева сплава и параметры  , которые наблюдались в этот момент\n",
    "   - мощность электродов и объемы проволочной добавки можно рассчитать точнее , тогда нужной температуры и нужного состава сплава можно будет добиваться быстрее\n",
    "   - подавать сплав для ввода добавок уже с более высокой температурой\n",
    " - собрать дополнительную информацию по производству (составу сплава , составу газа  , работе электродов) и ввести эти данные как признаки для обучения моделей\n",
    " \n",
    " "
   ]
  }
 ],
 "metadata": {
  "ExecuteTimeLog": [
   {
    "duration": 1116,
    "start_time": "2023-04-12T09:07:39.423Z"
   },
   {
    "duration": 2,
    "start_time": "2023-04-12T09:07:40.541Z"
   },
   {
    "duration": 98,
    "start_time": "2023-04-12T09:07:40.782Z"
   },
   {
    "duration": 180,
    "start_time": "2023-04-12T09:07:58.079Z"
   },
   {
    "duration": 115,
    "start_time": "2023-04-12T09:09:01.141Z"
   },
   {
    "duration": 9,
    "start_time": "2023-04-12T09:09:03.821Z"
   },
   {
    "duration": 9,
    "start_time": "2023-04-12T09:09:04.305Z"
   },
   {
    "duration": 51,
    "start_time": "2023-04-13T15:05:35.707Z"
   },
   {
    "duration": 1264,
    "start_time": "2023-04-13T15:05:44.101Z"
   },
   {
    "duration": 150,
    "start_time": "2023-04-13T15:05:45.367Z"
   },
   {
    "duration": 393,
    "start_time": "2023-04-13T15:05:45.912Z"
   },
   {
    "duration": 74,
    "start_time": "2023-04-13T15:08:25.679Z"
   },
   {
    "duration": 52,
    "start_time": "2023-04-13T15:12:08.824Z"
   },
   {
    "duration": 63,
    "start_time": "2023-04-13T15:12:43.006Z"
   },
   {
    "duration": 86,
    "start_time": "2023-04-13T15:12:55.420Z"
   },
   {
    "duration": 9,
    "start_time": "2023-04-13T15:13:01.806Z"
   },
   {
    "duration": 4,
    "start_time": "2023-04-13T15:13:05.903Z"
   },
   {
    "duration": 54,
    "start_time": "2023-04-13T15:13:08.546Z"
   },
   {
    "duration": 22,
    "start_time": "2023-04-13T15:13:09.049Z"
   },
   {
    "duration": 1184,
    "start_time": "2023-04-13T15:20:43.569Z"
   },
   {
    "duration": 3,
    "start_time": "2023-04-13T15:20:44.756Z"
   },
   {
    "duration": 61,
    "start_time": "2023-04-13T15:20:44.760Z"
   },
   {
    "duration": 23,
    "start_time": "2023-04-13T15:20:44.823Z"
   },
   {
    "duration": 118,
    "start_time": "2023-04-13T15:20:44.848Z"
   },
   {
    "duration": 10,
    "start_time": "2023-04-13T15:20:44.967Z"
   },
   {
    "duration": 16,
    "start_time": "2023-04-13T15:20:44.978Z"
   },
   {
    "duration": 27,
    "start_time": "2023-04-13T15:20:44.996Z"
   },
   {
    "duration": 39,
    "start_time": "2023-04-13T15:20:45.025Z"
   },
   {
    "duration": 7,
    "start_time": "2023-04-13T15:20:45.066Z"
   },
   {
    "duration": 68,
    "start_time": "2023-04-13T15:20:45.074Z"
   },
   {
    "duration": 23,
    "start_time": "2023-04-13T15:20:45.143Z"
   },
   {
    "duration": 27,
    "start_time": "2023-04-13T15:20:45.167Z"
   },
   {
    "duration": 31,
    "start_time": "2023-04-13T15:20:45.196Z"
   },
   {
    "duration": 99,
    "start_time": "2023-04-13T15:20:45.229Z"
   },
   {
    "duration": 0,
    "start_time": "2023-04-13T15:20:45.330Z"
   },
   {
    "duration": 0,
    "start_time": "2023-04-13T15:20:45.331Z"
   },
   {
    "duration": 0,
    "start_time": "2023-04-13T15:20:45.331Z"
   },
   {
    "duration": 0,
    "start_time": "2023-04-13T15:20:45.333Z"
   },
   {
    "duration": 0,
    "start_time": "2023-04-13T15:20:45.334Z"
   },
   {
    "duration": 0,
    "start_time": "2023-04-13T15:20:45.335Z"
   },
   {
    "duration": 0,
    "start_time": "2023-04-13T15:20:45.336Z"
   },
   {
    "duration": 0,
    "start_time": "2023-04-13T15:20:45.337Z"
   },
   {
    "duration": 0,
    "start_time": "2023-04-13T15:20:45.338Z"
   },
   {
    "duration": 18,
    "start_time": "2023-04-13T15:22:33.036Z"
   },
   {
    "duration": 122,
    "start_time": "2023-04-13T15:22:36.271Z"
   },
   {
    "duration": 41,
    "start_time": "2023-04-13T15:22:37.885Z"
   },
   {
    "duration": 18,
    "start_time": "2023-04-13T15:22:38.535Z"
   },
   {
    "duration": 105,
    "start_time": "2023-04-13T15:22:40.390Z"
   },
   {
    "duration": 31,
    "start_time": "2023-04-13T15:22:44.190Z"
   },
   {
    "duration": 23,
    "start_time": "2023-04-13T15:22:44.582Z"
   },
   {
    "duration": 34,
    "start_time": "2023-04-13T15:22:44.998Z"
   },
   {
    "duration": 36,
    "start_time": "2023-04-13T15:22:46.381Z"
   },
   {
    "duration": 22,
    "start_time": "2023-04-13T15:22:46.552Z"
   },
   {
    "duration": 3,
    "start_time": "2023-04-13T15:23:13.614Z"
   },
   {
    "duration": 3,
    "start_time": "2023-04-13T15:23:15.925Z"
   },
   {
    "duration": 52,
    "start_time": "2023-04-13T15:23:19.381Z"
   },
   {
    "duration": 20,
    "start_time": "2023-04-13T15:23:20.663Z"
   },
   {
    "duration": 99,
    "start_time": "2023-04-13T15:23:25.312Z"
   },
   {
    "duration": 9,
    "start_time": "2023-04-13T15:23:26.721Z"
   },
   {
    "duration": 10,
    "start_time": "2023-04-13T15:23:33.107Z"
   },
   {
    "duration": 1160,
    "start_time": "2023-04-13T15:48:31.006Z"
   },
   {
    "duration": 3,
    "start_time": "2023-04-13T15:48:32.169Z"
   },
   {
    "duration": 76,
    "start_time": "2023-04-13T15:48:32.173Z"
   },
   {
    "duration": 32,
    "start_time": "2023-04-13T15:48:32.251Z"
   },
   {
    "duration": 151,
    "start_time": "2023-04-13T15:48:32.287Z"
   },
   {
    "duration": 23,
    "start_time": "2023-04-13T15:48:32.440Z"
   },
   {
    "duration": 9,
    "start_time": "2023-04-13T15:48:32.465Z"
   },
   {
    "duration": 19,
    "start_time": "2023-04-13T15:48:32.476Z"
   },
   {
    "duration": 29,
    "start_time": "2023-04-13T15:48:32.497Z"
   },
   {
    "duration": 29,
    "start_time": "2023-04-13T15:48:32.528Z"
   },
   {
    "duration": 63,
    "start_time": "2023-04-13T15:48:32.559Z"
   },
   {
    "duration": 36,
    "start_time": "2023-04-13T15:48:32.625Z"
   },
   {
    "duration": 36,
    "start_time": "2023-04-13T15:48:32.663Z"
   },
   {
    "duration": 30,
    "start_time": "2023-04-13T15:48:32.702Z"
   },
   {
    "duration": 28,
    "start_time": "2023-04-13T15:48:32.734Z"
   },
   {
    "duration": 136,
    "start_time": "2023-04-13T15:48:32.764Z"
   },
   {
    "duration": 27,
    "start_time": "2023-04-13T15:48:32.902Z"
   },
   {
    "duration": 32,
    "start_time": "2023-04-13T15:48:32.931Z"
   },
   {
    "duration": 121,
    "start_time": "2023-04-13T15:48:32.964Z"
   },
   {
    "duration": 16,
    "start_time": "2023-04-13T15:48:33.087Z"
   },
   {
    "duration": 24,
    "start_time": "2023-04-13T15:48:33.105Z"
   },
   {
    "duration": 61,
    "start_time": "2023-04-13T15:48:33.130Z"
   },
   {
    "duration": 37,
    "start_time": "2023-04-13T15:48:33.193Z"
   },
   {
    "duration": 29,
    "start_time": "2023-04-13T15:48:33.233Z"
   },
   {
    "duration": 2799,
    "start_time": "2023-04-15T16:43:16.701Z"
   },
   {
    "duration": 3,
    "start_time": "2023-04-15T16:43:19.502Z"
   },
   {
    "duration": 80,
    "start_time": "2023-04-15T16:43:35.338Z"
   },
   {
    "duration": 52,
    "start_time": "2023-04-15T16:43:35.856Z"
   },
   {
    "duration": 103,
    "start_time": "2023-04-15T16:43:36.402Z"
   },
   {
    "duration": 88,
    "start_time": "2023-04-15T16:43:36.704Z"
   },
   {
    "duration": 88,
    "start_time": "2023-04-15T16:43:37.311Z"
   },
   {
    "duration": 64,
    "start_time": "2023-04-15T16:43:37.485Z"
   },
   {
    "duration": 4,
    "start_time": "2023-04-15T16:43:38.204Z"
   },
   {
    "duration": 108,
    "start_time": "2023-04-15T16:43:39.692Z"
   },
   {
    "duration": 39,
    "start_time": "2023-04-15T16:43:39.934Z"
   },
   {
    "duration": 81,
    "start_time": "2023-04-15T16:43:41.085Z"
   },
   {
    "duration": 25,
    "start_time": "2023-04-15T16:43:41.295Z"
   },
   {
    "duration": 5,
    "start_time": "2023-04-15T16:43:41.693Z"
   },
   {
    "duration": 86,
    "start_time": "2023-04-15T16:43:42.301Z"
   },
   {
    "duration": 71,
    "start_time": "2023-04-15T16:43:43.215Z"
   },
   {
    "duration": 37,
    "start_time": "2023-04-15T16:43:43.423Z"
   },
   {
    "duration": 81,
    "start_time": "2023-04-15T16:43:43.879Z"
   },
   {
    "duration": 57,
    "start_time": "2023-04-15T16:43:45.638Z"
   },
   {
    "duration": 110,
    "start_time": "2023-04-15T16:43:46.183Z"
   },
   {
    "duration": 59,
    "start_time": "2023-04-15T16:43:47.182Z"
   },
   {
    "duration": 32,
    "start_time": "2023-04-15T16:43:47.636Z"
   },
   {
    "duration": 9,
    "start_time": "2023-04-15T16:43:49.608Z"
   },
   {
    "duration": 7,
    "start_time": "2023-04-15T16:43:49.820Z"
   },
   {
    "duration": 4,
    "start_time": "2023-04-15T16:43:50.074Z"
   },
   {
    "duration": 5,
    "start_time": "2023-04-15T16:43:50.270Z"
   },
   {
    "duration": 4,
    "start_time": "2023-04-15T16:43:50.459Z"
   },
   {
    "duration": 17,
    "start_time": "2023-04-15T16:43:50.823Z"
   },
   {
    "duration": 3,
    "start_time": "2023-04-15T16:43:51.171Z"
   },
   {
    "duration": 3,
    "start_time": "2023-04-15T16:43:51.380Z"
   },
   {
    "duration": 6,
    "start_time": "2023-04-15T16:43:51.706Z"
   },
   {
    "duration": 11,
    "start_time": "2023-04-15T16:43:52.117Z"
   },
   {
    "duration": 3,
    "start_time": "2023-04-15T16:43:52.875Z"
   },
   {
    "duration": 10,
    "start_time": "2023-04-15T16:43:53.064Z"
   },
   {
    "duration": 6,
    "start_time": "2023-04-15T16:43:53.758Z"
   },
   {
    "duration": 8,
    "start_time": "2023-04-15T16:43:53.949Z"
   },
   {
    "duration": 5,
    "start_time": "2023-04-15T16:43:54.129Z"
   },
   {
    "duration": 14,
    "start_time": "2023-04-15T16:43:54.320Z"
   },
   {
    "duration": 3,
    "start_time": "2023-04-15T16:43:54.504Z"
   },
   {
    "duration": 5,
    "start_time": "2023-04-15T16:43:54.835Z"
   },
   {
    "duration": 676,
    "start_time": "2023-04-15T16:43:55.585Z"
   },
   {
    "duration": 256,
    "start_time": "2023-04-15T16:43:56.263Z"
   },
   {
    "duration": 16,
    "start_time": "2023-04-15T16:43:56.521Z"
   },
   {
    "duration": 3,
    "start_time": "2023-04-15T16:43:56.539Z"
   },
   {
    "duration": 3,
    "start_time": "2023-04-15T16:43:56.658Z"
   },
   {
    "duration": 7,
    "start_time": "2023-04-15T16:43:56.963Z"
   },
   {
    "duration": 9,
    "start_time": "2023-04-15T16:43:57.340Z"
   },
   {
    "duration": 15,
    "start_time": "2023-04-15T16:43:59.234Z"
   },
   {
    "duration": 78,
    "start_time": "2023-04-15T16:44:01.200Z"
   },
   {
    "duration": 2493,
    "start_time": "2023-04-15T16:44:02.668Z"
   },
   {
    "duration": 4,
    "start_time": "2023-04-15T16:44:05.162Z"
   },
   {
    "duration": 748,
    "start_time": "2023-04-15T16:44:05.168Z"
   },
   {
    "duration": 20,
    "start_time": "2023-04-15T16:44:05.917Z"
   },
   {
    "duration": 5,
    "start_time": "2023-04-15T16:44:05.939Z"
   },
   {
    "duration": 3,
    "start_time": "2023-04-15T16:44:08.277Z"
   },
   {
    "duration": 8,
    "start_time": "2023-04-15T16:44:08.846Z"
   },
   {
    "duration": 2165,
    "start_time": "2023-04-15T17:40:29.085Z"
   },
   {
    "duration": 5,
    "start_time": "2023-04-15T17:40:31.253Z"
   },
   {
    "duration": 133,
    "start_time": "2023-04-15T17:40:31.260Z"
   },
   {
    "duration": 74,
    "start_time": "2023-04-15T17:40:31.395Z"
   },
   {
    "duration": 153,
    "start_time": "2023-04-15T17:40:31.471Z"
   },
   {
    "duration": 122,
    "start_time": "2023-04-15T17:40:31.626Z"
   },
   {
    "duration": 106,
    "start_time": "2023-04-15T17:40:31.749Z"
   },
   {
    "duration": 88,
    "start_time": "2023-04-15T17:40:31.856Z"
   },
   {
    "duration": 5,
    "start_time": "2023-04-15T17:40:31.946Z"
   },
   {
    "duration": 155,
    "start_time": "2023-04-15T17:40:31.954Z"
   },
   {
    "duration": 42,
    "start_time": "2023-04-15T17:40:32.111Z"
   },
   {
    "duration": 68,
    "start_time": "2023-04-15T17:40:32.154Z"
   },
   {
    "duration": 29,
    "start_time": "2023-04-15T17:40:32.224Z"
   },
   {
    "duration": 19,
    "start_time": "2023-04-15T17:40:32.254Z"
   },
   {
    "duration": 120,
    "start_time": "2023-04-15T17:40:32.275Z"
   },
   {
    "duration": 68,
    "start_time": "2023-04-15T17:40:32.397Z"
   },
   {
    "duration": 43,
    "start_time": "2023-04-15T17:40:32.467Z"
   },
   {
    "duration": 124,
    "start_time": "2023-04-15T17:40:32.512Z"
   },
   {
    "duration": 43,
    "start_time": "2023-04-15T17:40:32.638Z"
   },
   {
    "duration": 151,
    "start_time": "2023-04-15T17:40:32.683Z"
   },
   {
    "duration": 45,
    "start_time": "2023-04-15T17:40:32.836Z"
   },
   {
    "duration": 46,
    "start_time": "2023-04-15T17:40:32.883Z"
   },
   {
    "duration": 14,
    "start_time": "2023-04-15T17:40:32.931Z"
   },
   {
    "duration": 12,
    "start_time": "2023-04-15T17:40:32.946Z"
   },
   {
    "duration": 4,
    "start_time": "2023-04-15T17:40:32.959Z"
   },
   {
    "duration": 5,
    "start_time": "2023-04-15T17:40:32.994Z"
   },
   {
    "duration": 4,
    "start_time": "2023-04-15T17:40:33.001Z"
   },
   {
    "duration": 21,
    "start_time": "2023-04-15T17:40:33.009Z"
   },
   {
    "duration": 10,
    "start_time": "2023-04-15T17:40:33.032Z"
   },
   {
    "duration": 5,
    "start_time": "2023-04-15T17:40:33.045Z"
   },
   {
    "duration": 11,
    "start_time": "2023-04-15T17:40:33.052Z"
   },
   {
    "duration": 18,
    "start_time": "2023-04-15T17:40:33.095Z"
   },
   {
    "duration": 5,
    "start_time": "2023-04-15T17:40:33.115Z"
   },
   {
    "duration": 15,
    "start_time": "2023-04-15T17:40:33.122Z"
   },
   {
    "duration": 9,
    "start_time": "2023-04-15T17:40:33.139Z"
   },
   {
    "duration": 12,
    "start_time": "2023-04-15T17:40:33.151Z"
   },
   {
    "duration": 5,
    "start_time": "2023-04-15T17:40:33.194Z"
   },
   {
    "duration": 26,
    "start_time": "2023-04-15T17:40:33.201Z"
   },
   {
    "duration": 5,
    "start_time": "2023-04-15T17:40:33.229Z"
   },
   {
    "duration": 9,
    "start_time": "2023-04-15T17:40:33.237Z"
   },
   {
    "duration": 903,
    "start_time": "2023-04-15T17:40:33.249Z"
   },
   {
    "duration": 315,
    "start_time": "2023-04-15T17:40:34.154Z"
   },
   {
    "duration": 9,
    "start_time": "2023-04-15T17:40:34.471Z"
   },
   {
    "duration": 3,
    "start_time": "2023-04-15T17:40:34.494Z"
   },
   {
    "duration": 5,
    "start_time": "2023-04-15T17:40:34.499Z"
   },
   {
    "duration": 8,
    "start_time": "2023-04-15T17:40:34.506Z"
   },
   {
    "duration": 14,
    "start_time": "2023-04-15T17:40:34.516Z"
   },
   {
    "duration": 22,
    "start_time": "2023-04-15T17:40:34.533Z"
   },
   {
    "duration": 137,
    "start_time": "2023-04-15T17:40:34.557Z"
   },
   {
    "duration": 3097,
    "start_time": "2023-04-15T17:40:34.696Z"
   },
   {
    "duration": 4,
    "start_time": "2023-04-15T17:40:37.796Z"
   },
   {
    "duration": 965,
    "start_time": "2023-04-15T17:40:37.802Z"
   },
   {
    "duration": 25,
    "start_time": "2023-04-15T17:40:38.769Z"
   },
   {
    "duration": 5,
    "start_time": "2023-04-15T17:40:38.796Z"
   },
   {
    "duration": 5,
    "start_time": "2023-04-15T17:40:38.803Z"
   },
   {
    "duration": 9,
    "start_time": "2023-04-15T17:40:38.810Z"
   },
   {
    "duration": 6,
    "start_time": "2023-04-15T17:40:38.821Z"
   },
   {
    "duration": 1608,
    "start_time": "2023-04-15T17:42:33.271Z"
   },
   {
    "duration": 3,
    "start_time": "2023-04-15T17:42:34.881Z"
   },
   {
    "duration": 65,
    "start_time": "2023-04-15T17:42:34.886Z"
   },
   {
    "duration": 52,
    "start_time": "2023-04-15T17:42:34.953Z"
   },
   {
    "duration": 131,
    "start_time": "2023-04-15T17:42:35.007Z"
   },
   {
    "duration": 156,
    "start_time": "2023-04-15T17:42:35.139Z"
   },
   {
    "duration": 18,
    "start_time": "2023-04-15T17:42:35.297Z"
   },
   {
    "duration": 101,
    "start_time": "2023-04-15T17:42:35.317Z"
   },
   {
    "duration": 5,
    "start_time": "2023-04-15T17:42:35.420Z"
   },
   {
    "duration": 44,
    "start_time": "2023-04-15T17:42:35.427Z"
   },
   {
    "duration": 46,
    "start_time": "2023-04-15T17:42:35.473Z"
   },
   {
    "duration": 32,
    "start_time": "2023-04-15T17:42:35.521Z"
   },
   {
    "duration": 38,
    "start_time": "2023-04-15T17:42:35.555Z"
   },
   {
    "duration": 5,
    "start_time": "2023-04-15T17:42:35.595Z"
   },
   {
    "duration": 132,
    "start_time": "2023-04-15T17:42:35.602Z"
   },
   {
    "duration": 25,
    "start_time": "2023-04-15T17:42:35.737Z"
   },
   {
    "duration": 46,
    "start_time": "2023-04-15T17:42:35.764Z"
   },
   {
    "duration": 126,
    "start_time": "2023-04-15T17:42:35.812Z"
   },
   {
    "duration": 32,
    "start_time": "2023-04-15T17:42:35.941Z"
   },
   {
    "duration": 141,
    "start_time": "2023-04-15T17:42:35.974Z"
   },
   {
    "duration": 19,
    "start_time": "2023-04-15T17:42:36.117Z"
   },
   {
    "duration": 59,
    "start_time": "2023-04-15T17:42:36.138Z"
   },
   {
    "duration": 12,
    "start_time": "2023-04-15T17:42:36.199Z"
   },
   {
    "duration": 9,
    "start_time": "2023-04-15T17:42:36.213Z"
   },
   {
    "duration": 5,
    "start_time": "2023-04-15T17:42:36.224Z"
   },
   {
    "duration": 13,
    "start_time": "2023-04-15T17:42:36.231Z"
   },
   {
    "duration": 6,
    "start_time": "2023-04-15T17:42:36.245Z"
   },
   {
    "duration": 54,
    "start_time": "2023-04-15T17:42:36.255Z"
   },
   {
    "duration": 3,
    "start_time": "2023-04-15T17:42:36.311Z"
   },
   {
    "duration": 5,
    "start_time": "2023-04-15T17:42:36.317Z"
   },
   {
    "duration": 11,
    "start_time": "2023-04-15T17:42:36.324Z"
   },
   {
    "duration": 23,
    "start_time": "2023-04-15T17:42:36.337Z"
   },
   {
    "duration": 6,
    "start_time": "2023-04-15T17:42:36.362Z"
   },
   {
    "duration": 30,
    "start_time": "2023-04-15T17:42:36.370Z"
   },
   {
    "duration": 11,
    "start_time": "2023-04-15T17:42:36.402Z"
   },
   {
    "duration": 10,
    "start_time": "2023-04-15T17:42:36.415Z"
   },
   {
    "duration": 13,
    "start_time": "2023-04-15T17:42:36.426Z"
   },
   {
    "duration": 22,
    "start_time": "2023-04-15T17:42:36.441Z"
   },
   {
    "duration": 5,
    "start_time": "2023-04-15T17:42:36.465Z"
   },
   {
    "duration": 8,
    "start_time": "2023-04-15T17:42:36.493Z"
   },
   {
    "duration": 930,
    "start_time": "2023-04-15T17:42:36.503Z"
   },
   {
    "duration": 315,
    "start_time": "2023-04-15T17:42:37.435Z"
   },
   {
    "duration": 12,
    "start_time": "2023-04-15T17:42:37.752Z"
   },
   {
    "duration": 4,
    "start_time": "2023-04-15T17:42:37.766Z"
   },
   {
    "duration": 4,
    "start_time": "2023-04-15T17:42:37.771Z"
   },
   {
    "duration": 7,
    "start_time": "2023-04-15T17:42:37.794Z"
   },
   {
    "duration": 12,
    "start_time": "2023-04-15T17:42:37.803Z"
   },
   {
    "duration": 23,
    "start_time": "2023-04-15T17:42:37.818Z"
   },
   {
    "duration": 160,
    "start_time": "2023-04-15T17:42:37.843Z"
   },
   {
    "duration": 3088,
    "start_time": "2023-04-15T17:42:38.005Z"
   },
   {
    "duration": 5,
    "start_time": "2023-04-15T17:42:41.095Z"
   },
   {
    "duration": 154,
    "start_time": "2023-04-15T17:42:41.101Z"
   },
   {
    "duration": 0,
    "start_time": "2023-04-15T17:42:41.257Z"
   },
   {
    "duration": 0,
    "start_time": "2023-04-15T17:42:41.258Z"
   },
   {
    "duration": 0,
    "start_time": "2023-04-15T17:42:41.259Z"
   },
   {
    "duration": 0,
    "start_time": "2023-04-15T17:42:41.260Z"
   },
   {
    "duration": 0,
    "start_time": "2023-04-15T17:42:41.262Z"
   },
   {
    "duration": 0,
    "start_time": "2023-04-15T17:42:41.263Z"
   },
   {
    "duration": 0,
    "start_time": "2023-04-15T17:42:41.265Z"
   },
   {
    "duration": 0,
    "start_time": "2023-04-15T17:42:41.266Z"
   },
   {
    "duration": 0,
    "start_time": "2023-04-15T17:42:41.267Z"
   },
   {
    "duration": 0,
    "start_time": "2023-04-15T17:42:41.268Z"
   },
   {
    "duration": 0,
    "start_time": "2023-04-15T17:42:41.269Z"
   },
   {
    "duration": 0,
    "start_time": "2023-04-15T17:42:41.293Z"
   },
   {
    "duration": 0,
    "start_time": "2023-04-15T17:42:41.295Z"
   },
   {
    "duration": 0,
    "start_time": "2023-04-15T17:42:41.297Z"
   },
   {
    "duration": 0,
    "start_time": "2023-04-15T17:42:41.299Z"
   },
   {
    "duration": 0,
    "start_time": "2023-04-15T17:42:41.300Z"
   },
   {
    "duration": 0,
    "start_time": "2023-04-15T17:42:41.301Z"
   },
   {
    "duration": 0,
    "start_time": "2023-04-15T17:42:41.303Z"
   },
   {
    "duration": 0,
    "start_time": "2023-04-15T17:42:41.304Z"
   },
   {
    "duration": 0,
    "start_time": "2023-04-15T17:42:41.305Z"
   },
   {
    "duration": 0,
    "start_time": "2023-04-15T17:42:41.306Z"
   },
   {
    "duration": 0,
    "start_time": "2023-04-15T17:42:41.308Z"
   },
   {
    "duration": 5,
    "start_time": "2023-04-15T17:43:08.921Z"
   },
   {
    "duration": 773,
    "start_time": "2023-04-15T17:43:17.066Z"
   },
   {
    "duration": 17,
    "start_time": "2023-04-15T17:45:57.429Z"
   },
   {
    "duration": 4,
    "start_time": "2023-04-15T17:46:05.937Z"
   },
   {
    "duration": 3,
    "start_time": "2023-04-15T17:46:10.327Z"
   },
   {
    "duration": 10,
    "start_time": "2023-04-15T17:46:11.533Z"
   },
   {
    "duration": 3,
    "start_time": "2023-04-15T17:46:13.939Z"
   },
   {
    "duration": 177168,
    "start_time": "2023-04-15T17:46:15.640Z"
   },
   {
    "duration": 12,
    "start_time": "2023-04-15T17:49:12.810Z"
   },
   {
    "duration": 0,
    "start_time": "2023-04-15T17:49:12.825Z"
   },
   {
    "duration": 0,
    "start_time": "2023-04-15T17:49:12.826Z"
   },
   {
    "duration": 0,
    "start_time": "2023-04-15T17:49:12.827Z"
   },
   {
    "duration": 0,
    "start_time": "2023-04-15T17:49:12.828Z"
   },
   {
    "duration": 0,
    "start_time": "2023-04-15T17:49:12.829Z"
   },
   {
    "duration": 0,
    "start_time": "2023-04-15T17:49:12.831Z"
   },
   {
    "duration": 0,
    "start_time": "2023-04-15T17:49:12.833Z"
   },
   {
    "duration": 0,
    "start_time": "2023-04-15T17:49:12.835Z"
   },
   {
    "duration": 0,
    "start_time": "2023-04-15T17:49:12.836Z"
   },
   {
    "duration": 0,
    "start_time": "2023-04-15T17:49:12.838Z"
   },
   {
    "duration": 0,
    "start_time": "2023-04-15T17:49:12.840Z"
   },
   {
    "duration": 0,
    "start_time": "2023-04-15T17:49:12.841Z"
   },
   {
    "duration": 0,
    "start_time": "2023-04-15T17:49:12.843Z"
   },
   {
    "duration": 0,
    "start_time": "2023-04-15T17:49:12.844Z"
   },
   {
    "duration": 0,
    "start_time": "2023-04-15T17:49:12.846Z"
   },
   {
    "duration": 4,
    "start_time": "2023-04-15T17:49:45.135Z"
   },
   {
    "duration": 5,
    "start_time": "2023-04-15T17:50:59.716Z"
   },
   {
    "duration": 3,
    "start_time": "2023-04-15T17:51:02.128Z"
   },
   {
    "duration": 2,
    "start_time": "2023-04-15T17:51:03.432Z"
   },
   {
    "duration": 16,
    "start_time": "2023-04-15T17:51:05.145Z"
   },
   {
    "duration": 8,
    "start_time": "2023-04-15T17:51:14.041Z"
   },
   {
    "duration": 52,
    "start_time": "2023-04-15T17:51:16.959Z"
   },
   {
    "duration": 7,
    "start_time": "2023-04-15T17:51:19.247Z"
   },
   {
    "duration": 5,
    "start_time": "2023-04-15T17:51:21.787Z"
   },
   {
    "duration": 6,
    "start_time": "2023-04-15T17:51:22.335Z"
   },
   {
    "duration": 1523,
    "start_time": "2023-04-15T17:52:13.051Z"
   },
   {
    "duration": 4,
    "start_time": "2023-04-15T17:52:14.576Z"
   },
   {
    "duration": 60,
    "start_time": "2023-04-15T17:52:14.582Z"
   },
   {
    "duration": 56,
    "start_time": "2023-04-15T17:52:14.644Z"
   },
   {
    "duration": 132,
    "start_time": "2023-04-15T17:52:14.702Z"
   },
   {
    "duration": 143,
    "start_time": "2023-04-15T17:52:14.836Z"
   },
   {
    "duration": 19,
    "start_time": "2023-04-15T17:52:14.981Z"
   },
   {
    "duration": 107,
    "start_time": "2023-04-15T17:52:15.002Z"
   },
   {
    "duration": 6,
    "start_time": "2023-04-15T17:52:15.110Z"
   },
   {
    "duration": 30,
    "start_time": "2023-04-15T17:52:15.120Z"
   },
   {
    "duration": 69,
    "start_time": "2023-04-15T17:52:15.153Z"
   },
   {
    "duration": 32,
    "start_time": "2023-04-15T17:52:15.224Z"
   },
   {
    "duration": 49,
    "start_time": "2023-04-15T17:52:15.258Z"
   },
   {
    "duration": 5,
    "start_time": "2023-04-15T17:52:15.310Z"
   },
   {
    "duration": 147,
    "start_time": "2023-04-15T17:52:15.317Z"
   },
   {
    "duration": 24,
    "start_time": "2023-04-15T17:52:15.466Z"
   },
   {
    "duration": 37,
    "start_time": "2023-04-15T17:52:15.493Z"
   },
   {
    "duration": 131,
    "start_time": "2023-04-15T17:52:15.532Z"
   },
   {
    "duration": 33,
    "start_time": "2023-04-15T17:52:15.665Z"
   },
   {
    "duration": 177,
    "start_time": "2023-04-15T17:52:15.700Z"
   },
   {
    "duration": 31,
    "start_time": "2023-04-15T17:52:15.879Z"
   },
   {
    "duration": 50,
    "start_time": "2023-04-15T17:52:15.913Z"
   },
   {
    "duration": 34,
    "start_time": "2023-04-15T17:52:15.965Z"
   },
   {
    "duration": 9,
    "start_time": "2023-04-15T17:52:16.001Z"
   },
   {
    "duration": 13,
    "start_time": "2023-04-15T17:52:16.012Z"
   },
   {
    "duration": 7,
    "start_time": "2023-04-15T17:52:16.027Z"
   },
   {
    "duration": 21,
    "start_time": "2023-04-15T17:52:16.036Z"
   },
   {
    "duration": 22,
    "start_time": "2023-04-15T17:52:16.063Z"
   },
   {
    "duration": 8,
    "start_time": "2023-04-15T17:52:16.087Z"
   },
   {
    "duration": 7,
    "start_time": "2023-04-15T17:52:16.097Z"
   },
   {
    "duration": 8,
    "start_time": "2023-04-15T17:52:16.106Z"
   },
   {
    "duration": 23,
    "start_time": "2023-04-15T17:52:16.116Z"
   },
   {
    "duration": 5,
    "start_time": "2023-04-15T17:52:16.141Z"
   },
   {
    "duration": 14,
    "start_time": "2023-04-15T17:52:16.148Z"
   },
   {
    "duration": 32,
    "start_time": "2023-04-15T17:52:16.164Z"
   },
   {
    "duration": 8,
    "start_time": "2023-04-15T17:52:16.198Z"
   },
   {
    "duration": 17,
    "start_time": "2023-04-15T17:52:16.208Z"
   },
   {
    "duration": 20,
    "start_time": "2023-04-15T17:52:16.226Z"
   },
   {
    "duration": 4,
    "start_time": "2023-04-15T17:52:16.248Z"
   },
   {
    "duration": 26,
    "start_time": "2023-04-15T17:52:16.254Z"
   },
   {
    "duration": 848,
    "start_time": "2023-04-15T17:52:16.283Z"
   },
   {
    "duration": 324,
    "start_time": "2023-04-15T17:52:17.133Z"
   },
   {
    "duration": 10,
    "start_time": "2023-04-15T17:52:17.459Z"
   },
   {
    "duration": 7,
    "start_time": "2023-04-15T17:52:17.471Z"
   },
   {
    "duration": 6,
    "start_time": "2023-04-15T17:52:17.492Z"
   },
   {
    "duration": 8,
    "start_time": "2023-04-15T17:52:17.501Z"
   },
   {
    "duration": 15,
    "start_time": "2023-04-15T17:52:17.511Z"
   },
   {
    "duration": 36,
    "start_time": "2023-04-15T17:52:17.528Z"
   },
   {
    "duration": 109,
    "start_time": "2023-04-15T17:52:17.565Z"
   },
   {
    "duration": 2953,
    "start_time": "2023-04-15T17:52:17.676Z"
   },
   {
    "duration": 4,
    "start_time": "2023-04-15T17:52:20.632Z"
   },
   {
    "duration": 762,
    "start_time": "2023-04-15T17:52:20.638Z"
   },
   {
    "duration": 22,
    "start_time": "2023-04-15T17:52:21.402Z"
   },
   {
    "duration": 4,
    "start_time": "2023-04-15T17:52:21.427Z"
   },
   {
    "duration": 10,
    "start_time": "2023-04-15T17:52:21.433Z"
   },
   {
    "duration": 11,
    "start_time": "2023-04-15T17:52:21.444Z"
   },
   {
    "duration": 3,
    "start_time": "2023-04-15T17:52:21.456Z"
   },
   {
    "duration": 178106,
    "start_time": "2023-04-15T17:52:21.461Z"
   },
   {
    "duration": 5,
    "start_time": "2023-04-15T17:55:19.569Z"
   },
   {
    "duration": 22,
    "start_time": "2023-04-15T17:55:19.576Z"
   },
   {
    "duration": 16,
    "start_time": "2023-04-15T17:55:19.600Z"
   },
   {
    "duration": 20,
    "start_time": "2023-04-15T17:55:19.618Z"
   },
   {
    "duration": 163,
    "start_time": "2023-04-15T17:55:19.640Z"
   },
   {
    "duration": 5,
    "start_time": "2023-04-15T17:55:19.805Z"
   },
   {
    "duration": 82,
    "start_time": "2023-04-15T17:55:19.812Z"
   },
   {
    "duration": 18,
    "start_time": "2023-04-15T17:55:19.897Z"
   },
   {
    "duration": 307445,
    "start_time": "2023-04-15T17:55:19.917Z"
   },
   {
    "duration": 5,
    "start_time": "2023-04-15T18:00:27.365Z"
   },
   {
    "duration": 20,
    "start_time": "2023-04-15T18:00:27.371Z"
   },
   {
    "duration": 23,
    "start_time": "2023-04-15T18:00:27.393Z"
   },
   {
    "duration": 47,
    "start_time": "2023-04-15T18:00:27.418Z"
   },
   {
    "duration": 14,
    "start_time": "2023-04-15T18:00:27.468Z"
   },
   {
    "duration": 36,
    "start_time": "2023-04-15T18:00:27.484Z"
   },
   {
    "duration": 126,
    "start_time": "2023-04-15T18:00:27.522Z"
   },
   {
    "duration": 1443,
    "start_time": "2023-04-15T18:03:20.075Z"
   },
   {
    "duration": 6,
    "start_time": "2023-04-15T18:03:26.947Z"
   },
   {
    "duration": 216,
    "start_time": "2023-04-15T18:11:28.115Z"
   },
   {
    "duration": 129,
    "start_time": "2023-04-15T18:15:24.623Z"
   },
   {
    "duration": 162,
    "start_time": "2023-04-15T18:16:11.800Z"
   },
   {
    "duration": 183,
    "start_time": "2023-04-15T18:16:21.658Z"
   },
   {
    "duration": 267,
    "start_time": "2023-04-15T18:19:19.944Z"
   },
   {
    "duration": 156,
    "start_time": "2023-04-15T18:25:26.157Z"
   },
   {
    "duration": 166,
    "start_time": "2023-04-15T18:25:34.514Z"
   },
   {
    "duration": 19,
    "start_time": "2023-04-15T18:30:38.099Z"
   },
   {
    "duration": 4,
    "start_time": "2023-04-15T18:32:09.146Z"
   },
   {
    "duration": 9,
    "start_time": "2023-04-15T18:32:37.424Z"
   },
   {
    "duration": 928,
    "start_time": "2023-04-15T18:33:16.762Z"
   },
   {
    "duration": 7,
    "start_time": "2023-04-15T18:33:52.140Z"
   },
   {
    "duration": 18,
    "start_time": "2023-04-15T18:34:28.815Z"
   },
   {
    "duration": 1579,
    "start_time": "2023-04-15T18:34:36.328Z"
   },
   {
    "duration": 4,
    "start_time": "2023-04-15T18:34:37.909Z"
   },
   {
    "duration": 64,
    "start_time": "2023-04-15T18:34:37.915Z"
   },
   {
    "duration": 73,
    "start_time": "2023-04-15T18:34:37.981Z"
   },
   {
    "duration": 154,
    "start_time": "2023-04-15T18:34:38.057Z"
   },
   {
    "duration": 120,
    "start_time": "2023-04-15T18:34:38.213Z"
   },
   {
    "duration": 21,
    "start_time": "2023-04-15T18:34:38.336Z"
   },
   {
    "duration": 88,
    "start_time": "2023-04-15T18:34:38.359Z"
   },
   {
    "duration": 5,
    "start_time": "2023-04-15T18:34:38.449Z"
   },
   {
    "duration": 38,
    "start_time": "2023-04-15T18:34:38.456Z"
   },
   {
    "duration": 47,
    "start_time": "2023-04-15T18:34:38.496Z"
   },
   {
    "duration": 31,
    "start_time": "2023-04-15T18:34:38.544Z"
   },
   {
    "duration": 39,
    "start_time": "2023-04-15T18:34:38.577Z"
   },
   {
    "duration": 6,
    "start_time": "2023-04-15T18:34:38.620Z"
   },
   {
    "duration": 165,
    "start_time": "2023-04-15T18:34:38.628Z"
   },
   {
    "duration": 24,
    "start_time": "2023-04-15T18:34:38.795Z"
   },
   {
    "duration": 44,
    "start_time": "2023-04-15T18:34:38.821Z"
   },
   {
    "duration": 169,
    "start_time": "2023-04-15T18:34:38.867Z"
   },
   {
    "duration": 35,
    "start_time": "2023-04-15T18:34:39.038Z"
   },
   {
    "duration": 155,
    "start_time": "2023-04-15T18:34:39.077Z"
   },
   {
    "duration": 23,
    "start_time": "2023-04-15T18:34:39.235Z"
   },
   {
    "duration": 49,
    "start_time": "2023-04-15T18:34:39.260Z"
   },
   {
    "duration": 12,
    "start_time": "2023-04-15T18:34:39.311Z"
   },
   {
    "duration": 10,
    "start_time": "2023-04-15T18:34:39.325Z"
   },
   {
    "duration": 6,
    "start_time": "2023-04-15T18:34:39.337Z"
   },
   {
    "duration": 8,
    "start_time": "2023-04-15T18:34:39.345Z"
   },
   {
    "duration": 43,
    "start_time": "2023-04-15T18:34:39.355Z"
   },
   {
    "duration": 29,
    "start_time": "2023-04-15T18:34:39.400Z"
   },
   {
    "duration": 5,
    "start_time": "2023-04-15T18:34:39.430Z"
   },
   {
    "duration": 6,
    "start_time": "2023-04-15T18:34:39.436Z"
   },
   {
    "duration": 10,
    "start_time": "2023-04-15T18:34:39.443Z"
   },
   {
    "duration": 47,
    "start_time": "2023-04-15T18:34:39.454Z"
   },
   {
    "duration": 14,
    "start_time": "2023-04-15T18:34:39.502Z"
   },
   {
    "duration": 14,
    "start_time": "2023-04-15T18:34:39.518Z"
   },
   {
    "duration": 8,
    "start_time": "2023-04-15T18:34:39.533Z"
   },
   {
    "duration": 11,
    "start_time": "2023-04-15T18:34:39.542Z"
   },
   {
    "duration": 11,
    "start_time": "2023-04-15T18:34:39.555Z"
   },
   {
    "duration": 30,
    "start_time": "2023-04-15T18:34:39.568Z"
   },
   {
    "duration": 4,
    "start_time": "2023-04-15T18:34:39.600Z"
   },
   {
    "duration": 16,
    "start_time": "2023-04-15T18:34:39.605Z"
   },
   {
    "duration": 928,
    "start_time": "2023-04-15T18:34:39.626Z"
   },
   {
    "duration": 393,
    "start_time": "2023-04-15T18:34:40.557Z"
   },
   {
    "duration": 9,
    "start_time": "2023-04-15T18:34:40.952Z"
   },
   {
    "duration": 31,
    "start_time": "2023-04-15T18:34:40.963Z"
   },
   {
    "duration": 17,
    "start_time": "2023-04-15T18:34:40.996Z"
   },
   {
    "duration": 24,
    "start_time": "2023-04-15T18:34:41.015Z"
   },
   {
    "duration": 22,
    "start_time": "2023-04-15T18:34:41.041Z"
   },
   {
    "duration": 24,
    "start_time": "2023-04-15T18:34:41.094Z"
   },
   {
    "duration": 152,
    "start_time": "2023-04-15T18:34:41.120Z"
   },
   {
    "duration": 2943,
    "start_time": "2023-04-15T18:34:41.274Z"
   },
   {
    "duration": 4,
    "start_time": "2023-04-15T18:34:44.219Z"
   },
   {
    "duration": 762,
    "start_time": "2023-04-15T18:34:44.225Z"
   },
   {
    "duration": 21,
    "start_time": "2023-04-15T18:34:44.994Z"
   },
   {
    "duration": 63,
    "start_time": "2023-04-15T18:34:45.017Z"
   },
   {
    "duration": 10,
    "start_time": "2023-04-15T18:34:45.081Z"
   },
   {
    "duration": 13,
    "start_time": "2023-04-15T18:34:45.093Z"
   },
   {
    "duration": 13,
    "start_time": "2023-04-15T18:34:45.108Z"
   },
   {
    "duration": 1549,
    "start_time": "2023-04-15T18:37:43.262Z"
   },
   {
    "duration": 4,
    "start_time": "2023-04-15T18:37:44.814Z"
   },
   {
    "duration": 58,
    "start_time": "2023-04-15T18:37:44.820Z"
   },
   {
    "duration": 62,
    "start_time": "2023-04-15T18:37:44.881Z"
   },
   {
    "duration": 163,
    "start_time": "2023-04-15T18:37:44.945Z"
   },
   {
    "duration": 127,
    "start_time": "2023-04-15T18:37:45.110Z"
   },
   {
    "duration": 17,
    "start_time": "2023-04-15T18:37:45.239Z"
   },
   {
    "duration": 94,
    "start_time": "2023-04-15T18:37:45.258Z"
   },
   {
    "duration": 7,
    "start_time": "2023-04-15T18:37:45.354Z"
   },
   {
    "duration": 41,
    "start_time": "2023-04-15T18:37:45.365Z"
   },
   {
    "duration": 42,
    "start_time": "2023-04-15T18:37:45.408Z"
   },
   {
    "duration": 31,
    "start_time": "2023-04-15T18:37:45.451Z"
   },
   {
    "duration": 33,
    "start_time": "2023-04-15T18:37:45.484Z"
   },
   {
    "duration": 5,
    "start_time": "2023-04-15T18:37:45.519Z"
   },
   {
    "duration": 135,
    "start_time": "2023-04-15T18:37:45.526Z"
   },
   {
    "duration": 25,
    "start_time": "2023-04-15T18:37:45.663Z"
   },
   {
    "duration": 50,
    "start_time": "2023-04-15T18:37:45.693Z"
   },
   {
    "duration": 126,
    "start_time": "2023-04-15T18:37:45.745Z"
   },
   {
    "duration": 33,
    "start_time": "2023-04-15T18:37:45.873Z"
   },
   {
    "duration": 142,
    "start_time": "2023-04-15T18:37:45.908Z"
   },
   {
    "duration": 19,
    "start_time": "2023-04-15T18:37:46.051Z"
   },
   {
    "duration": 42,
    "start_time": "2023-04-15T18:37:46.073Z"
   },
   {
    "duration": 13,
    "start_time": "2023-04-15T18:37:46.116Z"
   },
   {
    "duration": 11,
    "start_time": "2023-04-15T18:37:46.132Z"
   },
   {
    "duration": 6,
    "start_time": "2023-04-15T18:37:46.145Z"
   },
   {
    "duration": 40,
    "start_time": "2023-04-15T18:37:46.153Z"
   },
   {
    "duration": 6,
    "start_time": "2023-04-15T18:37:46.196Z"
   },
   {
    "duration": 30,
    "start_time": "2023-04-15T18:37:46.207Z"
   },
   {
    "duration": 4,
    "start_time": "2023-04-15T18:37:46.238Z"
   },
   {
    "duration": 5,
    "start_time": "2023-04-15T18:37:46.244Z"
   },
   {
    "duration": 45,
    "start_time": "2023-04-15T18:37:46.251Z"
   },
   {
    "duration": 17,
    "start_time": "2023-04-15T18:37:46.298Z"
   },
   {
    "duration": 5,
    "start_time": "2023-04-15T18:37:46.317Z"
   },
   {
    "duration": 10,
    "start_time": "2023-04-15T18:37:46.324Z"
   },
   {
    "duration": 9,
    "start_time": "2023-04-15T18:37:46.336Z"
   },
   {
    "duration": 8,
    "start_time": "2023-04-15T18:37:46.347Z"
   },
   {
    "duration": 39,
    "start_time": "2023-04-15T18:37:46.358Z"
   },
   {
    "duration": 30,
    "start_time": "2023-04-15T18:37:46.400Z"
   },
   {
    "duration": 7,
    "start_time": "2023-04-15T18:37:46.433Z"
   },
   {
    "duration": 31,
    "start_time": "2023-04-15T18:37:46.443Z"
   },
   {
    "duration": 851,
    "start_time": "2023-04-15T18:37:46.476Z"
   },
   {
    "duration": 313,
    "start_time": "2023-04-15T18:37:47.329Z"
   },
   {
    "duration": 11,
    "start_time": "2023-04-15T18:37:47.644Z"
   },
   {
    "duration": 10,
    "start_time": "2023-04-15T18:37:47.656Z"
   },
   {
    "duration": 8,
    "start_time": "2023-04-15T18:37:47.667Z"
   },
   {
    "duration": 18,
    "start_time": "2023-04-15T18:37:47.677Z"
   },
   {
    "duration": 17,
    "start_time": "2023-04-15T18:37:47.697Z"
   },
   {
    "duration": 24,
    "start_time": "2023-04-15T18:37:47.716Z"
   },
   {
    "duration": 117,
    "start_time": "2023-04-15T18:37:47.742Z"
   },
   {
    "duration": 2964,
    "start_time": "2023-04-15T18:37:47.861Z"
   },
   {
    "duration": 4,
    "start_time": "2023-04-15T18:37:50.827Z"
   },
   {
    "duration": 783,
    "start_time": "2023-04-15T18:37:50.833Z"
   },
   {
    "duration": 19,
    "start_time": "2023-04-15T18:37:51.618Z"
   },
   {
    "duration": 5,
    "start_time": "2023-04-15T18:37:51.639Z"
   },
   {
    "duration": 7,
    "start_time": "2023-04-15T18:37:51.647Z"
   },
   {
    "duration": 12,
    "start_time": "2023-04-15T18:37:51.656Z"
   },
   {
    "duration": 3,
    "start_time": "2023-04-15T18:37:51.693Z"
   },
   {
    "duration": 174613,
    "start_time": "2023-04-15T18:37:51.698Z"
   },
   {
    "duration": 5,
    "start_time": "2023-04-15T18:40:46.313Z"
   },
   {
    "duration": 25,
    "start_time": "2023-04-15T18:40:46.320Z"
   },
   {
    "duration": 33,
    "start_time": "2023-04-15T18:40:46.347Z"
   },
   {
    "duration": 125,
    "start_time": "2023-04-15T18:40:46.382Z"
   },
   {
    "duration": 4,
    "start_time": "2023-04-15T18:40:46.510Z"
   },
   {
    "duration": 3,
    "start_time": "2023-04-15T18:40:46.516Z"
   },
   {
    "duration": 1540,
    "start_time": "2023-04-15T18:41:38.923Z"
   },
   {
    "duration": 3,
    "start_time": "2023-04-15T18:41:40.465Z"
   },
   {
    "duration": 55,
    "start_time": "2023-04-15T18:41:40.470Z"
   },
   {
    "duration": 51,
    "start_time": "2023-04-15T18:41:40.528Z"
   },
   {
    "duration": 123,
    "start_time": "2023-04-15T18:41:40.593Z"
   },
   {
    "duration": 120,
    "start_time": "2023-04-15T18:41:40.717Z"
   },
   {
    "duration": 18,
    "start_time": "2023-04-15T18:41:40.839Z"
   },
   {
    "duration": 102,
    "start_time": "2023-04-15T18:41:40.859Z"
   },
   {
    "duration": 4,
    "start_time": "2023-04-15T18:41:40.963Z"
   },
   {
    "duration": 34,
    "start_time": "2023-04-15T18:41:40.970Z"
   },
   {
    "duration": 42,
    "start_time": "2023-04-15T18:41:41.006Z"
   },
   {
    "duration": 31,
    "start_time": "2023-04-15T18:41:41.049Z"
   },
   {
    "duration": 38,
    "start_time": "2023-04-15T18:41:41.082Z"
   },
   {
    "duration": 6,
    "start_time": "2023-04-15T18:41:41.122Z"
   },
   {
    "duration": 139,
    "start_time": "2023-04-15T18:41:41.129Z"
   },
   {
    "duration": 35,
    "start_time": "2023-04-15T18:41:41.270Z"
   },
   {
    "duration": 42,
    "start_time": "2023-04-15T18:41:41.307Z"
   },
   {
    "duration": 123,
    "start_time": "2023-04-15T18:41:41.351Z"
   },
   {
    "duration": 21,
    "start_time": "2023-04-15T18:41:41.476Z"
   },
   {
    "duration": 159,
    "start_time": "2023-04-15T18:41:41.499Z"
   },
   {
    "duration": 36,
    "start_time": "2023-04-15T18:41:41.660Z"
   },
   {
    "duration": 34,
    "start_time": "2023-04-15T18:41:41.698Z"
   },
   {
    "duration": 12,
    "start_time": "2023-04-15T18:41:41.733Z"
   },
   {
    "duration": 10,
    "start_time": "2023-04-15T18:41:41.746Z"
   },
   {
    "duration": 5,
    "start_time": "2023-04-15T18:41:41.757Z"
   },
   {
    "duration": 6,
    "start_time": "2023-04-15T18:41:41.792Z"
   },
   {
    "duration": 8,
    "start_time": "2023-04-15T18:41:41.800Z"
   },
   {
    "duration": 24,
    "start_time": "2023-04-15T18:41:41.813Z"
   },
   {
    "duration": 3,
    "start_time": "2023-04-15T18:41:41.839Z"
   },
   {
    "duration": 6,
    "start_time": "2023-04-15T18:41:41.844Z"
   },
   {
    "duration": 7,
    "start_time": "2023-04-15T18:41:41.852Z"
   },
   {
    "duration": 37,
    "start_time": "2023-04-15T18:41:41.861Z"
   },
   {
    "duration": 6,
    "start_time": "2023-04-15T18:41:41.900Z"
   },
   {
    "duration": 11,
    "start_time": "2023-04-15T18:41:41.908Z"
   },
   {
    "duration": 12,
    "start_time": "2023-04-15T18:41:41.921Z"
   },
   {
    "duration": 7,
    "start_time": "2023-04-15T18:41:41.935Z"
   },
   {
    "duration": 11,
    "start_time": "2023-04-15T18:41:41.944Z"
   },
   {
    "duration": 48,
    "start_time": "2023-04-15T18:41:41.957Z"
   },
   {
    "duration": 4,
    "start_time": "2023-04-15T18:41:42.007Z"
   },
   {
    "duration": 7,
    "start_time": "2023-04-15T18:41:42.013Z"
   },
   {
    "duration": 952,
    "start_time": "2023-04-15T18:41:42.022Z"
   },
   {
    "duration": 324,
    "start_time": "2023-04-15T18:41:42.976Z"
   },
   {
    "duration": 9,
    "start_time": "2023-04-15T18:41:43.302Z"
   },
   {
    "duration": 10,
    "start_time": "2023-04-15T18:41:43.313Z"
   },
   {
    "duration": 25,
    "start_time": "2023-04-15T18:41:43.324Z"
   },
   {
    "duration": 23,
    "start_time": "2023-04-15T18:41:43.350Z"
   },
   {
    "duration": 24,
    "start_time": "2023-04-15T18:41:43.374Z"
   },
   {
    "duration": 32,
    "start_time": "2023-04-15T18:41:43.399Z"
   },
   {
    "duration": 98,
    "start_time": "2023-04-15T18:41:43.433Z"
   },
   {
    "duration": 2836,
    "start_time": "2023-04-15T18:41:43.533Z"
   },
   {
    "duration": 3,
    "start_time": "2023-04-15T18:41:46.372Z"
   },
   {
    "duration": 822,
    "start_time": "2023-04-15T18:41:46.377Z"
   },
   {
    "duration": 21,
    "start_time": "2023-04-15T18:41:47.201Z"
   },
   {
    "duration": 9,
    "start_time": "2023-04-15T18:41:47.224Z"
   },
   {
    "duration": 9,
    "start_time": "2023-04-15T18:41:47.235Z"
   },
   {
    "duration": 7,
    "start_time": "2023-04-15T18:41:47.246Z"
   },
   {
    "duration": 15,
    "start_time": "2023-04-15T18:41:47.254Z"
   },
   {
    "duration": 175990,
    "start_time": "2023-04-15T18:41:47.271Z"
   },
   {
    "duration": 5,
    "start_time": "2023-04-15T18:44:43.263Z"
   },
   {
    "duration": 7,
    "start_time": "2023-04-15T18:44:43.270Z"
   },
   {
    "duration": 25,
    "start_time": "2023-04-15T18:44:43.279Z"
   },
   {
    "duration": 191,
    "start_time": "2023-04-15T18:44:43.306Z"
   },
   {
    "duration": 5,
    "start_time": "2023-04-15T18:44:43.498Z"
   },
   {
    "duration": 4,
    "start_time": "2023-04-15T18:44:43.505Z"
   },
   {
    "duration": 314738,
    "start_time": "2023-04-15T18:44:43.512Z"
   },
   {
    "duration": 4,
    "start_time": "2023-04-15T18:49:58.253Z"
   },
   {
    "duration": 7,
    "start_time": "2023-04-15T18:49:58.259Z"
   },
   {
    "duration": 1215,
    "start_time": "2023-04-15T18:49:58.268Z"
   },
   {
    "duration": 3,
    "start_time": "2023-04-15T18:49:59.484Z"
   },
   {
    "duration": 7,
    "start_time": "2023-04-15T18:49:59.489Z"
   },
   {
    "duration": 3,
    "start_time": "2023-04-15T18:49:59.498Z"
   },
   {
    "duration": 12,
    "start_time": "2023-04-15T18:49:59.503Z"
   },
   {
    "duration": 9,
    "start_time": "2023-04-15T18:49:59.517Z"
   },
   {
    "duration": 184,
    "start_time": "2023-04-15T18:49:59.528Z"
   },
   {
    "duration": 131,
    "start_time": "2023-04-15T18:49:59.714Z"
   },
   {
    "duration": 0,
    "start_time": "2023-04-15T18:49:59.846Z"
   },
   {
    "duration": 0,
    "start_time": "2023-04-15T18:49:59.848Z"
   },
   {
    "duration": 0,
    "start_time": "2023-04-15T18:49:59.849Z"
   },
   {
    "duration": 0,
    "start_time": "2023-04-15T18:49:59.850Z"
   },
   {
    "duration": 16,
    "start_time": "2023-04-15T18:50:47.260Z"
   },
   {
    "duration": 10,
    "start_time": "2023-04-15T18:51:06.231Z"
   },
   {
    "duration": 10,
    "start_time": "2023-04-15T18:51:15.165Z"
   },
   {
    "duration": 207326,
    "start_time": "2023-04-15T18:51:15.607Z"
   },
   {
    "duration": 3,
    "start_time": "2023-04-15T18:54:42.935Z"
   },
   {
    "duration": 20,
    "start_time": "2023-04-15T18:54:42.939Z"
   },
   {
    "duration": 1159,
    "start_time": "2023-04-15T18:55:32.155Z"
   },
   {
    "duration": 6,
    "start_time": "2023-04-15T18:55:34.547Z"
   },
   {
    "duration": 84,
    "start_time": "2023-04-15T19:00:01.581Z"
   },
   {
    "duration": 1560,
    "start_time": "2023-04-15T19:01:08.409Z"
   },
   {
    "duration": 3,
    "start_time": "2023-04-15T19:01:09.972Z"
   },
   {
    "duration": 69,
    "start_time": "2023-04-15T19:01:09.977Z"
   },
   {
    "duration": 55,
    "start_time": "2023-04-15T19:01:10.048Z"
   },
   {
    "duration": 130,
    "start_time": "2023-04-15T19:01:10.106Z"
   },
   {
    "duration": 128,
    "start_time": "2023-04-15T19:01:10.238Z"
   },
   {
    "duration": 18,
    "start_time": "2023-04-15T19:01:10.367Z"
   },
   {
    "duration": 82,
    "start_time": "2023-04-15T19:01:10.387Z"
   },
   {
    "duration": 26,
    "start_time": "2023-04-15T19:01:10.471Z"
   },
   {
    "duration": 25,
    "start_time": "2023-04-15T19:01:10.498Z"
   },
   {
    "duration": 42,
    "start_time": "2023-04-15T19:01:10.524Z"
   },
   {
    "duration": 30,
    "start_time": "2023-04-15T19:01:10.567Z"
   },
   {
    "duration": 31,
    "start_time": "2023-04-15T19:01:10.599Z"
   },
   {
    "duration": 5,
    "start_time": "2023-04-15T19:01:10.634Z"
   },
   {
    "duration": 152,
    "start_time": "2023-04-15T19:01:10.641Z"
   },
   {
    "duration": 25,
    "start_time": "2023-04-15T19:01:10.795Z"
   },
   {
    "duration": 38,
    "start_time": "2023-04-15T19:01:10.822Z"
   },
   {
    "duration": 118,
    "start_time": "2023-04-15T19:01:10.862Z"
   },
   {
    "duration": 25,
    "start_time": "2023-04-15T19:01:10.982Z"
   },
   {
    "duration": 143,
    "start_time": "2023-04-15T19:01:11.009Z"
   },
   {
    "duration": 35,
    "start_time": "2023-04-15T19:01:11.154Z"
   },
   {
    "duration": 38,
    "start_time": "2023-04-15T19:01:11.191Z"
   },
   {
    "duration": 11,
    "start_time": "2023-04-15T19:01:11.231Z"
   },
   {
    "duration": 10,
    "start_time": "2023-04-15T19:01:11.244Z"
   },
   {
    "duration": 5,
    "start_time": "2023-04-15T19:01:11.255Z"
   },
   {
    "duration": 34,
    "start_time": "2023-04-15T19:01:11.261Z"
   },
   {
    "duration": 16,
    "start_time": "2023-04-15T19:01:11.297Z"
   },
   {
    "duration": 20,
    "start_time": "2023-04-15T19:01:11.315Z"
   },
   {
    "duration": 4,
    "start_time": "2023-04-15T19:01:11.336Z"
   },
   {
    "duration": 8,
    "start_time": "2023-04-15T19:01:11.341Z"
   },
   {
    "duration": 7,
    "start_time": "2023-04-15T19:01:11.351Z"
   },
   {
    "duration": 15,
    "start_time": "2023-04-15T19:01:11.360Z"
   },
   {
    "duration": 4,
    "start_time": "2023-04-15T19:01:11.394Z"
   },
   {
    "duration": 14,
    "start_time": "2023-04-15T19:01:11.399Z"
   },
   {
    "duration": 8,
    "start_time": "2023-04-15T19:01:11.415Z"
   },
   {
    "duration": 8,
    "start_time": "2023-04-15T19:01:11.425Z"
   },
   {
    "duration": 6,
    "start_time": "2023-04-15T19:01:11.435Z"
   },
   {
    "duration": 18,
    "start_time": "2023-04-15T19:01:11.443Z"
   },
   {
    "duration": 31,
    "start_time": "2023-04-15T19:01:11.463Z"
   },
   {
    "duration": 6,
    "start_time": "2023-04-15T19:01:11.496Z"
   },
   {
    "duration": 948,
    "start_time": "2023-04-15T19:01:11.508Z"
   },
   {
    "duration": 320,
    "start_time": "2023-04-15T19:01:12.458Z"
   },
   {
    "duration": 14,
    "start_time": "2023-04-15T19:01:12.780Z"
   },
   {
    "duration": 4,
    "start_time": "2023-04-15T19:01:12.797Z"
   },
   {
    "duration": 28,
    "start_time": "2023-04-15T19:01:12.803Z"
   },
   {
    "duration": 10,
    "start_time": "2023-04-15T19:01:12.833Z"
   },
   {
    "duration": 16,
    "start_time": "2023-04-15T19:01:12.845Z"
   },
   {
    "duration": 25,
    "start_time": "2023-04-15T19:01:12.863Z"
   },
   {
    "duration": 93,
    "start_time": "2023-04-15T19:01:12.889Z"
   },
   {
    "duration": 2843,
    "start_time": "2023-04-15T19:01:12.994Z"
   },
   {
    "duration": 4,
    "start_time": "2023-04-15T19:01:15.839Z"
   },
   {
    "duration": 751,
    "start_time": "2023-04-15T19:01:15.845Z"
   },
   {
    "duration": 17,
    "start_time": "2023-04-15T19:01:16.598Z"
   },
   {
    "duration": 5,
    "start_time": "2023-04-15T19:01:16.617Z"
   },
   {
    "duration": 4,
    "start_time": "2023-04-15T19:01:16.623Z"
   },
   {
    "duration": 11,
    "start_time": "2023-04-15T19:01:16.629Z"
   },
   {
    "duration": 7,
    "start_time": "2023-04-15T19:01:16.642Z"
   },
   {
    "duration": 172838,
    "start_time": "2023-04-15T19:01:16.651Z"
   },
   {
    "duration": 4,
    "start_time": "2023-04-15T19:04:09.494Z"
   },
   {
    "duration": 6,
    "start_time": "2023-04-15T19:04:09.500Z"
   },
   {
    "duration": 17,
    "start_time": "2023-04-15T19:04:09.507Z"
   },
   {
    "duration": 93,
    "start_time": "2023-04-15T19:04:09.526Z"
   },
   {
    "duration": 74,
    "start_time": "2023-04-15T19:04:09.621Z"
   },
   {
    "duration": 5,
    "start_time": "2023-04-15T19:04:09.697Z"
   },
   {
    "duration": 298940,
    "start_time": "2023-04-15T19:04:09.704Z"
   },
   {
    "duration": 4,
    "start_time": "2023-04-15T19:09:08.645Z"
   },
   {
    "duration": 7,
    "start_time": "2023-04-15T19:09:08.651Z"
   },
   {
    "duration": 1209,
    "start_time": "2023-04-15T19:09:08.659Z"
   },
   {
    "duration": 3,
    "start_time": "2023-04-15T19:09:09.870Z"
   },
   {
    "duration": 7,
    "start_time": "2023-04-15T19:09:09.875Z"
   },
   {
    "duration": 4,
    "start_time": "2023-04-15T19:09:09.884Z"
   },
   {
    "duration": 11,
    "start_time": "2023-04-15T19:09:09.889Z"
   },
   {
    "duration": 22,
    "start_time": "2023-04-15T19:09:09.901Z"
   },
   {
    "duration": 170,
    "start_time": "2023-04-15T19:09:09.925Z"
   },
   {
    "duration": 10,
    "start_time": "2023-04-15T19:09:10.097Z"
   },
   {
    "duration": 14,
    "start_time": "2023-04-15T19:09:10.108Z"
   },
   {
    "duration": 211792,
    "start_time": "2023-04-15T19:09:10.124Z"
   },
   {
    "duration": 1171,
    "start_time": "2023-04-15T19:12:41.918Z"
   },
   {
    "duration": 6,
    "start_time": "2023-04-15T19:12:43.090Z"
   },
   {
    "duration": 1388,
    "start_time": "2023-04-16T12:49:23.900Z"
   },
   {
    "duration": 3,
    "start_time": "2023-04-16T12:49:25.289Z"
   },
   {
    "duration": 47,
    "start_time": "2023-04-16T12:49:26.279Z"
   },
   {
    "duration": 36,
    "start_time": "2023-04-16T12:49:26.979Z"
   },
   {
    "duration": 254,
    "start_time": "2023-04-16T12:49:27.219Z"
   },
   {
    "duration": 210,
    "start_time": "2023-04-16T12:49:27.475Z"
   },
   {
    "duration": 33,
    "start_time": "2023-04-16T12:49:28.003Z"
   },
   {
    "duration": 58,
    "start_time": "2023-04-16T12:49:28.191Z"
   },
   {
    "duration": 4,
    "start_time": "2023-04-16T12:49:28.542Z"
   },
   {
    "duration": 37,
    "start_time": "2023-04-16T12:49:29.600Z"
   },
   {
    "duration": 31,
    "start_time": "2023-04-16T12:49:29.783Z"
   },
   {
    "duration": 47,
    "start_time": "2023-04-16T12:49:30.718Z"
   },
   {
    "duration": 23,
    "start_time": "2023-04-16T12:49:30.914Z"
   },
   {
    "duration": 4,
    "start_time": "2023-04-16T12:49:31.234Z"
   },
   {
    "duration": 241,
    "start_time": "2023-04-16T12:49:31.410Z"
   },
   {
    "duration": 39,
    "start_time": "2023-04-16T12:49:31.948Z"
   },
   {
    "duration": 24,
    "start_time": "2023-04-16T12:49:32.271Z"
   },
   {
    "duration": 244,
    "start_time": "2023-04-16T12:49:32.430Z"
   },
   {
    "duration": 31,
    "start_time": "2023-04-16T12:49:33.575Z"
   },
   {
    "duration": 40,
    "start_time": "2023-04-16T12:49:34.001Z"
   },
   {
    "duration": 32,
    "start_time": "2023-04-16T12:49:34.813Z"
   },
   {
    "duration": 22,
    "start_time": "2023-04-16T12:49:35.028Z"
   },
   {
    "duration": 14,
    "start_time": "2023-04-16T12:49:42.284Z"
   },
   {
    "duration": 5,
    "start_time": "2023-04-16T12:49:42.879Z"
   },
   {
    "duration": 4,
    "start_time": "2023-04-16T12:49:43.195Z"
   },
   {
    "duration": 5,
    "start_time": "2023-04-16T12:49:43.414Z"
   },
   {
    "duration": 4,
    "start_time": "2023-04-16T12:49:43.629Z"
   },
   {
    "duration": 12,
    "start_time": "2023-04-16T12:49:44.015Z"
   },
   {
    "duration": 3,
    "start_time": "2023-04-16T12:49:45.218Z"
   },
   {
    "duration": 3,
    "start_time": "2023-04-16T12:49:45.575Z"
   },
   {
    "duration": 5,
    "start_time": "2023-04-16T12:49:45.903Z"
   },
   {
    "duration": 9,
    "start_time": "2023-04-16T12:49:46.475Z"
   },
   {
    "duration": 8,
    "start_time": "2023-04-16T12:49:47.615Z"
   },
   {
    "duration": 7,
    "start_time": "2023-04-16T12:49:47.802Z"
   },
   {
    "duration": 5,
    "start_time": "2023-04-16T12:49:48.175Z"
   },
   {
    "duration": 8,
    "start_time": "2023-04-16T12:49:48.532Z"
   },
   {
    "duration": 4,
    "start_time": "2023-04-16T12:49:48.747Z"
   },
   {
    "duration": 12,
    "start_time": "2023-04-16T12:49:48.983Z"
   },
   {
    "duration": 3,
    "start_time": "2023-04-16T12:49:49.304Z"
   },
   {
    "duration": 4,
    "start_time": "2023-04-16T12:49:54.652Z"
   },
   {
    "duration": 607,
    "start_time": "2023-04-16T12:49:55.201Z"
   },
   {
    "duration": 179,
    "start_time": "2023-04-16T12:49:55.810Z"
   },
   {
    "duration": 7,
    "start_time": "2023-04-16T12:49:55.990Z"
   },
   {
    "duration": 3,
    "start_time": "2023-04-16T12:49:57.170Z"
   },
   {
    "duration": 3,
    "start_time": "2023-04-16T12:49:57.944Z"
   },
   {
    "duration": 5,
    "start_time": "2023-04-16T12:49:58.601Z"
   },
   {
    "duration": 8,
    "start_time": "2023-04-16T12:49:59.035Z"
   },
   {
    "duration": 13,
    "start_time": "2023-04-16T12:50:00.675Z"
   },
   {
    "duration": 67,
    "start_time": "2023-04-16T12:50:02.098Z"
   },
   {
    "duration": 1307,
    "start_time": "2023-04-16T12:50:05.392Z"
   },
   {
    "duration": 4,
    "start_time": "2023-04-16T12:50:06.700Z"
   },
   {
    "duration": 640,
    "start_time": "2023-04-16T12:50:07.679Z"
   },
   {
    "duration": 10,
    "start_time": "2023-04-16T12:50:08.320Z"
   },
   {
    "duration": 4,
    "start_time": "2023-04-16T12:54:34.727Z"
   },
   {
    "duration": 3,
    "start_time": "2023-04-16T12:54:37.000Z"
   },
   {
    "duration": 6,
    "start_time": "2023-04-16T12:54:37.483Z"
   },
   {
    "duration": 2,
    "start_time": "2023-04-16T12:54:39.447Z"
   },
   {
    "duration": 163043,
    "start_time": "2023-04-16T12:54:39.916Z"
   },
   {
    "duration": 4,
    "start_time": "2023-04-16T12:57:22.961Z"
   },
   {
    "duration": 1899,
    "start_time": "2023-07-29T08:53:41.933Z"
   },
   {
    "duration": 5,
    "start_time": "2023-07-29T08:53:43.834Z"
   },
   {
    "duration": 257,
    "start_time": "2023-07-29T08:53:43.840Z"
   },
   {
    "duration": 73,
    "start_time": "2023-07-29T08:53:44.100Z"
   },
   {
    "duration": 146,
    "start_time": "2023-07-29T08:53:44.175Z"
   },
   {
    "duration": 144,
    "start_time": "2023-07-29T08:53:44.323Z"
   },
   {
    "duration": 62,
    "start_time": "2023-07-29T08:53:44.469Z"
   },
   {
    "duration": 125,
    "start_time": "2023-07-29T08:53:44.533Z"
   },
   {
    "duration": 11,
    "start_time": "2023-07-29T08:53:44.660Z"
   },
   {
    "duration": 113,
    "start_time": "2023-07-29T08:53:44.675Z"
   },
   {
    "duration": 73,
    "start_time": "2023-07-29T08:53:44.791Z"
   },
   {
    "duration": 68,
    "start_time": "2023-07-29T08:53:44.867Z"
   },
   {
    "duration": 36,
    "start_time": "2023-07-29T08:53:44.938Z"
   },
   {
    "duration": 6,
    "start_time": "2023-07-29T08:53:44.976Z"
   },
   {
    "duration": 163,
    "start_time": "2023-07-29T08:53:44.984Z"
   },
   {
    "duration": 77,
    "start_time": "2023-07-29T08:53:45.148Z"
   },
   {
    "duration": 48,
    "start_time": "2023-07-29T08:53:45.227Z"
   },
   {
    "duration": 159,
    "start_time": "2023-07-29T08:53:45.277Z"
   },
   {
    "duration": 64,
    "start_time": "2023-07-29T08:53:45.438Z"
   },
   {
    "duration": 174,
    "start_time": "2023-07-29T08:53:45.505Z"
   },
   {
    "duration": 54,
    "start_time": "2023-07-29T08:53:45.681Z"
   },
   {
    "duration": 43,
    "start_time": "2023-07-29T08:53:45.737Z"
   },
   {
    "duration": 19,
    "start_time": "2023-07-29T08:53:45.782Z"
   },
   {
    "duration": 27,
    "start_time": "2023-07-29T08:53:45.804Z"
   },
   {
    "duration": 18,
    "start_time": "2023-07-29T08:53:45.834Z"
   },
   {
    "duration": 6,
    "start_time": "2023-07-29T08:53:45.855Z"
   },
   {
    "duration": 10,
    "start_time": "2023-07-29T08:53:45.863Z"
   },
   {
    "duration": 24,
    "start_time": "2023-07-29T08:53:45.880Z"
   },
   {
    "duration": 5,
    "start_time": "2023-07-29T08:53:45.907Z"
   },
   {
    "duration": 38,
    "start_time": "2023-07-29T08:53:45.914Z"
   },
   {
    "duration": 8,
    "start_time": "2023-07-29T08:53:45.954Z"
   },
   {
    "duration": 20,
    "start_time": "2023-07-29T08:53:45.963Z"
   },
   {
    "duration": 5,
    "start_time": "2023-07-29T08:53:45.986Z"
   },
   {
    "duration": 12,
    "start_time": "2023-07-29T08:53:45.993Z"
   },
   {
    "duration": 19,
    "start_time": "2023-07-29T08:53:46.007Z"
   },
   {
    "duration": 27,
    "start_time": "2023-07-29T08:53:46.028Z"
   },
   {
    "duration": 11,
    "start_time": "2023-07-29T08:53:46.057Z"
   },
   {
    "duration": 27,
    "start_time": "2023-07-29T08:53:46.070Z"
   },
   {
    "duration": 6,
    "start_time": "2023-07-29T08:53:46.099Z"
   },
   {
    "duration": 10,
    "start_time": "2023-07-29T08:53:46.107Z"
   },
   {
    "duration": 870,
    "start_time": "2023-07-29T08:53:46.119Z"
   },
   {
    "duration": 322,
    "start_time": "2023-07-29T08:53:46.991Z"
   },
   {
    "duration": 10,
    "start_time": "2023-07-29T08:53:47.315Z"
   },
   {
    "duration": 29,
    "start_time": "2023-07-29T08:53:47.327Z"
   },
   {
    "duration": 30,
    "start_time": "2023-07-29T08:53:47.359Z"
   },
   {
    "duration": 12,
    "start_time": "2023-07-29T08:53:47.392Z"
   },
   {
    "duration": 27,
    "start_time": "2023-07-29T08:53:47.405Z"
   },
   {
    "duration": 21,
    "start_time": "2023-07-29T08:53:47.434Z"
   },
   {
    "duration": 113,
    "start_time": "2023-07-29T08:53:47.457Z"
   },
   {
    "duration": 3027,
    "start_time": "2023-07-29T08:53:47.572Z"
   },
   {
    "duration": 5,
    "start_time": "2023-07-29T08:53:50.601Z"
   },
   {
    "duration": 830,
    "start_time": "2023-07-29T08:53:50.608Z"
   },
   {
    "duration": 25,
    "start_time": "2023-07-29T08:53:51.440Z"
   },
   {
    "duration": 95,
    "start_time": "2023-07-29T08:53:51.467Z"
   },
   {
    "duration": 25,
    "start_time": "2023-07-29T08:53:51.565Z"
   },
   {
    "duration": 23,
    "start_time": "2023-07-29T08:53:51.593Z"
   },
   {
    "duration": 37,
    "start_time": "2023-07-29T08:53:51.618Z"
   },
   {
    "duration": 185419,
    "start_time": "2023-07-29T08:53:51.657Z"
   },
   {
    "duration": 6,
    "start_time": "2023-07-29T08:56:57.078Z"
   },
   {
    "duration": 5,
    "start_time": "2023-07-29T08:56:57.087Z"
   },
   {
    "duration": 17,
    "start_time": "2023-07-29T08:56:57.095Z"
   },
   {
    "duration": 162,
    "start_time": "2023-07-29T08:56:57.115Z"
   },
   {
    "duration": 5,
    "start_time": "2023-07-29T08:56:57.279Z"
   },
   {
    "duration": 72,
    "start_time": "2023-07-29T08:56:57.286Z"
   },
   {
    "duration": 1421,
    "start_time": "2023-07-29T09:01:45.393Z"
   },
   {
    "duration": 4,
    "start_time": "2023-07-29T09:01:46.816Z"
   },
   {
    "duration": 140,
    "start_time": "2023-07-29T09:01:46.822Z"
   },
   {
    "duration": 67,
    "start_time": "2023-07-29T09:01:46.965Z"
   },
   {
    "duration": 152,
    "start_time": "2023-07-29T09:01:47.034Z"
   },
   {
    "duration": 125,
    "start_time": "2023-07-29T09:01:47.188Z"
   },
   {
    "duration": 22,
    "start_time": "2023-07-29T09:01:47.315Z"
   },
   {
    "duration": 80,
    "start_time": "2023-07-29T09:01:47.340Z"
   },
   {
    "duration": 5,
    "start_time": "2023-07-29T09:01:47.421Z"
   },
   {
    "duration": 31,
    "start_time": "2023-07-29T09:01:47.451Z"
   },
   {
    "duration": 50,
    "start_time": "2023-07-29T09:01:47.484Z"
   },
   {
    "duration": 51,
    "start_time": "2023-07-29T09:01:47.537Z"
   },
   {
    "duration": 37,
    "start_time": "2023-07-29T09:01:47.590Z"
   },
   {
    "duration": 5,
    "start_time": "2023-07-29T09:01:47.629Z"
   },
   {
    "duration": 120,
    "start_time": "2023-07-29T09:01:47.635Z"
   },
   {
    "duration": 25,
    "start_time": "2023-07-29T09:01:47.758Z"
   },
   {
    "duration": 34,
    "start_time": "2023-07-29T09:01:47.785Z"
   },
   {
    "duration": 119,
    "start_time": "2023-07-29T09:01:47.821Z"
   },
   {
    "duration": 39,
    "start_time": "2023-07-29T09:01:47.951Z"
   },
   {
    "duration": 135,
    "start_time": "2023-07-29T09:01:47.992Z"
   },
   {
    "duration": 24,
    "start_time": "2023-07-29T09:01:48.130Z"
   },
   {
    "duration": 40,
    "start_time": "2023-07-29T09:01:48.156Z"
   },
   {
    "duration": 13,
    "start_time": "2023-07-29T09:01:48.198Z"
   },
   {
    "duration": 11,
    "start_time": "2023-07-29T09:01:48.215Z"
   },
   {
    "duration": 28,
    "start_time": "2023-07-29T09:01:48.230Z"
   },
   {
    "duration": 22,
    "start_time": "2023-07-29T09:01:48.260Z"
   },
   {
    "duration": 17,
    "start_time": "2023-07-29T09:01:48.285Z"
   },
   {
    "duration": 27,
    "start_time": "2023-07-29T09:01:48.308Z"
   },
   {
    "duration": 6,
    "start_time": "2023-07-29T09:01:48.338Z"
   },
   {
    "duration": 17,
    "start_time": "2023-07-29T09:01:48.346Z"
   },
   {
    "duration": 21,
    "start_time": "2023-07-29T09:01:48.366Z"
   },
   {
    "duration": 34,
    "start_time": "2023-07-29T09:01:48.389Z"
   },
   {
    "duration": 24,
    "start_time": "2023-07-29T09:01:48.425Z"
   },
   {
    "duration": 17,
    "start_time": "2023-07-29T09:01:48.452Z"
   },
   {
    "duration": 16,
    "start_time": "2023-07-29T09:01:48.472Z"
   },
   {
    "duration": 9,
    "start_time": "2023-07-29T09:01:48.490Z"
   },
   {
    "duration": 5,
    "start_time": "2023-07-29T09:01:48.501Z"
   },
   {
    "duration": 20,
    "start_time": "2023-07-29T09:01:48.508Z"
   },
   {
    "duration": 3,
    "start_time": "2023-07-29T09:01:48.530Z"
   },
   {
    "duration": 23,
    "start_time": "2023-07-29T09:01:48.535Z"
   },
   {
    "duration": 806,
    "start_time": "2023-07-29T09:01:48.559Z"
   },
   {
    "duration": 303,
    "start_time": "2023-07-29T09:01:49.367Z"
   },
   {
    "duration": 10,
    "start_time": "2023-07-29T09:01:49.671Z"
   },
   {
    "duration": 6,
    "start_time": "2023-07-29T09:01:49.682Z"
   },
   {
    "duration": 5,
    "start_time": "2023-07-29T09:01:49.690Z"
   },
   {
    "duration": 10,
    "start_time": "2023-07-29T09:01:49.697Z"
   },
   {
    "duration": 15,
    "start_time": "2023-07-29T09:01:49.709Z"
   },
   {
    "duration": 36,
    "start_time": "2023-07-29T09:01:49.725Z"
   },
   {
    "duration": 119,
    "start_time": "2023-07-29T09:01:49.763Z"
   },
   {
    "duration": 2927,
    "start_time": "2023-07-29T09:01:49.884Z"
   },
   {
    "duration": 5,
    "start_time": "2023-07-29T09:01:52.812Z"
   },
   {
    "duration": 808,
    "start_time": "2023-07-29T09:01:52.818Z"
   },
   {
    "duration": 25,
    "start_time": "2023-07-29T09:01:53.628Z"
   },
   {
    "duration": 22,
    "start_time": "2023-07-29T09:01:53.654Z"
   },
   {
    "duration": 16,
    "start_time": "2023-07-29T09:01:53.678Z"
   },
   {
    "duration": 23,
    "start_time": "2023-07-29T09:01:53.695Z"
   },
   {
    "duration": 13,
    "start_time": "2023-07-29T09:01:53.720Z"
   },
   {
    "duration": 177156,
    "start_time": "2023-07-29T09:01:53.734Z"
   },
   {
    "duration": 3,
    "start_time": "2023-07-29T09:04:50.892Z"
   },
   {
    "duration": 33,
    "start_time": "2023-07-29T09:04:50.897Z"
   },
   {
    "duration": 25,
    "start_time": "2023-07-29T09:04:50.932Z"
   },
   {
    "duration": 109,
    "start_time": "2023-07-29T09:04:50.958Z"
   },
   {
    "duration": 4,
    "start_time": "2023-07-29T09:04:51.069Z"
   },
   {
    "duration": 78,
    "start_time": "2023-07-29T09:04:51.074Z"
   },
   {
    "duration": 294482,
    "start_time": "2023-07-29T09:04:51.154Z"
   },
   {
    "duration": 7,
    "start_time": "2023-07-29T09:09:45.638Z"
   },
   {
    "duration": 10,
    "start_time": "2023-07-29T09:09:45.647Z"
   },
   {
    "duration": 1266,
    "start_time": "2023-07-29T09:09:45.660Z"
   },
   {
    "duration": 4,
    "start_time": "2023-07-29T09:09:46.928Z"
   },
   {
    "duration": 18,
    "start_time": "2023-07-29T09:09:46.934Z"
   },
   {
    "duration": 7,
    "start_time": "2023-07-29T09:09:46.954Z"
   },
   {
    "duration": 24,
    "start_time": "2023-07-29T09:09:46.963Z"
   },
   {
    "duration": 18,
    "start_time": "2023-07-29T09:09:46.989Z"
   },
   {
    "duration": 166,
    "start_time": "2023-07-29T09:09:47.009Z"
   },
   {
    "duration": 8,
    "start_time": "2023-07-29T09:09:47.177Z"
   },
   {
    "duration": 30,
    "start_time": "2023-07-29T09:09:47.187Z"
   },
   {
    "duration": 238998,
    "start_time": "2023-07-29T09:09:47.220Z"
   },
   {
    "duration": 1659,
    "start_time": "2023-07-29T09:13:46.220Z"
   },
   {
    "duration": 6,
    "start_time": "2023-07-29T09:13:47.880Z"
   }
  ],
  "kernelspec": {
   "display_name": "Python 3 (ipykernel)",
   "language": "python",
   "name": "python3"
  },
  "language_info": {
   "codemirror_mode": {
    "name": "ipython",
    "version": 3
   },
   "file_extension": ".py",
   "mimetype": "text/x-python",
   "name": "python",
   "nbconvert_exporter": "python",
   "pygments_lexer": "ipython3",
   "version": "3.9.5"
  },
  "toc": {
   "base_numbering": 1,
   "nav_menu": {},
   "number_sections": true,
   "sideBar": true,
   "skip_h1_title": true,
   "title_cell": "Table of Contents",
   "title_sidebar": "Contents",
   "toc_cell": false,
   "toc_position": {},
   "toc_section_display": true,
   "toc_window_display": false
  }
 },
 "nbformat": 4,
 "nbformat_minor": 5
}
